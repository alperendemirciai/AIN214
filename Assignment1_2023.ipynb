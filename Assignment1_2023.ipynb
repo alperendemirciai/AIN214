{
 "cells": [
  {
   "cell_type": "markdown",
   "metadata": {},
   "source": [
    "# AIN 214 - PA1 - FALL 2023\n",
    "\n",
    "BELOW MD CELLS CONTAIN THE QUESTIONS YOU ARE ASKED TO IMPLEMENT WITHIN THE CONTEXT OF THIS HW. PLEASE FILL IN THE CELLS FOR THE ANSWERS RIGHT BELOW THE MD CELL OF THE QUESTION. YOU CAN ADD AS MANY CELLS AS YOU WANT, BE IT CODE OR MD, SO LONG AS YOU PROVIDE AN UNDERSTANDABLE AND TRACBLE REPORTING. PLEASE ADD COMMENTS ON YOUR CODES. ALSO, FILL IN MD CELLS WHERE YOU ARE ASKED YO COMMENT ON YOUR RESULTS OR EPXLAIN YOUR REASONING. ALSO, PLEASE DO NO HESITATE TO USE THEM FOR YOUR OWN REPORTING PURPOSES. PLEASE KEEP IN MIND THAT, REPORTING IS A KEY STEP IN DATA SCIENCE.\n",
    "\n",
    "Deadline: 03.11.2023 (23:59:59)\n",
    "\n",
    "Submission: Submit your Jupyter Notebooks via https://submit.cs.hacettepe.edu.tr/\n"
   ]
  },
  {
   "cell_type": "markdown",
   "metadata": {},
   "source": [
    "# Necessary Imports"
   ]
  },
  {
   "cell_type": "code",
   "execution_count": 1,
   "metadata": {},
   "outputs": [],
   "source": [
    "import numpy as np\n",
    "import pandas as pd\n",
    "from sqlite3 import connect\n",
    "import sqlite3\n",
    "pd.set_option('display.max_columns', None)"
   ]
  },
  {
   "cell_type": "markdown",
   "metadata": {},
   "source": [
    "# Notes:\n",
    "* Use pandas dataframe (df) to load the data. \n",
    "* Use numpy or pandas operations for the requested tasks unless otherwise specified. Use of naive for loops is not considered valid.\n",
    "* For the db operations, use sqlite3 library in Python"
   ]
  },
  {
   "cell_type": "markdown",
   "metadata": {},
   "source": [
    "# 1st Set of Questions on Boston Housing Dataset **(30 Pts)**\n",
    "\n",
    "* Retrieved from KAGGLE\n",
    "* **Dataset Path: \"Data/BostonHousing.csv\"**"
   ]
  },
  {
   "cell_type": "markdown",
   "metadata": {},
   "source": [
    "## Q1. Basic Data Exploration **(10 Pts)**\n",
    "1. Load the data into Pandas DataFrame and print the column names. **(1 pts)**\n",
    "2. Display the first and last 10 rows of the dataset. **(1 pts)**\n",
    "3. Display random 10 rows. **(1 pts)**\n",
    "4. Display random 10 rows with a seed, ie, it outputs the same random rows everytime it is run. **(1 pts)**\n",
    "5. Display every 15th row. **(1 pts)**\n",
    "6. Get the summary stats of the dataset regarding each column. **(2 pts)**\n",
    "7. Identify and count the number of missing values in each column. **(3 pts)**"
   ]
  },
  {
   "cell_type": "code",
   "execution_count": 2,
   "metadata": {},
   "outputs": [],
   "source": [
    "# Load the data into Pandas DataFrame and print the column names"
   ]
  },
  {
   "cell_type": "code",
   "execution_count": 3,
   "metadata": {},
   "outputs": [],
   "source": [
    "# Display the first and last 10 rows of the dataset."
   ]
  },
  {
   "cell_type": "code",
   "execution_count": 4,
   "metadata": {},
   "outputs": [],
   "source": [
    "# Display the random 10 rows"
   ]
  },
  {
   "cell_type": "code",
   "execution_count": 5,
   "metadata": {},
   "outputs": [],
   "source": [
    "# sample using seed"
   ]
  },
  {
   "cell_type": "code",
   "execution_count": 6,
   "metadata": {},
   "outputs": [],
   "source": [
    "# Display every 15th row"
   ]
  },
  {
   "cell_type": "code",
   "execution_count": 7,
   "metadata": {},
   "outputs": [],
   "source": [
    "# Get the summary stats of the dataset regarding each column"
   ]
  },
  {
   "cell_type": "code",
   "execution_count": 8,
   "metadata": {},
   "outputs": [],
   "source": [
    "# Identify and count the number of missing values in each column"
   ]
  },
  {
   "cell_type": "markdown",
   "metadata": {},
   "source": [
    "## Q2. Data Filtering (10 pts)\n",
    "\n",
    "1. Extract records where the rm (average number of rooms per dwelling) >= 7.   **(2 pts)**\n",
    "2. Extract records located along the Charles River (chas = 1) and have a crime rate (crim) less than the median crime rate of the dataset.  **(2 pts)**\n",
    "3. Identify neighborhoods where the average rm is greater than 6, the lstat (% lower status of the population) is below 10, and the medv is above the 75th percentile of the dataset. This would give neighborhoods with relatively larger homes, lower \"lower-status\" population percentage, and higher median values.  **(2 pts)**\n",
    "4. Identify records where the dis (weighted distances to five Boston employment centers) is in the top 10% of the dataset and the nox (nitric oxides concentration) is in the bottom 10%, indicating neighborhoods that are farther from employment centers and have cleaner air.  **(2 pts)**\n",
    "5. From the houses built before 1940 (AGE column), select those which fall in the top 20% in terms of nitric oxide concentrations (NOX). From this subset, retrieve the bottom 10 records with the lowest MEDV values.  **(2 pts)**"
   ]
  },
  {
   "cell_type": "code",
   "execution_count": 9,
   "metadata": {},
   "outputs": [],
   "source": [
    "# Extract records where the rm >= 7"
   ]
  },
  {
   "cell_type": "code",
   "execution_count": 10,
   "metadata": {},
   "outputs": [],
   "source": [
    "# Extract records located along the Charles River (chas = 1) and have a crime rate (crim) less than the median crime rate of the dataset."
   ]
  },
  {
   "cell_type": "code",
   "execution_count": 11,
   "metadata": {},
   "outputs": [],
   "source": [
    "# Identify neighborhoods where the average rm is greater than 6, the lstat (% lower status of the population) is below 10, and the medv is above \n",
    "# the 75th percentile of the dataset. "
   ]
  },
  {
   "cell_type": "code",
   "execution_count": 12,
   "metadata": {},
   "outputs": [],
   "source": [
    "# Identify records where the dis (weighted distances to five Boston employment centers) is in the top 10% of the dataset and the nox \n",
    "# (nitric oxides concentration) is in the bottom 10%"
   ]
  },
  {
   "cell_type": "code",
   "execution_count": 13,
   "metadata": {},
   "outputs": [],
   "source": [
    "# From the houses built before 1940 (age column), select those which fall in the top 20% in terms of nitric oxide concentrations (nox). From this subset,\n",
    "# retrieve the bottom 10 records with the lowest medv values."
   ]
  },
  {
   "cell_type": "markdown",
   "metadata": {},
   "source": [
    "## Q3. Calculate the average per capita crime rate (crim) for each category, \"Low\", \"Medium\" or \"High\" of pupil-teacher ratio (ptratio). **(10 Pts)**\n",
    "The ptratio is categorized into\n",
    "* Low if ptratio <= 15\n",
    "* Medium if 15 < ptratio <= 20\n",
    "* High if ptratio > 20"
   ]
  },
  {
   "cell_type": "code",
   "execution_count": 14,
   "metadata": {},
   "outputs": [],
   "source": [
    "#  Calculate the average per capita crime rate (crim) for each category, \"Low\", \"Medium\" or \"High\" of pupil-teacher ratio (ptratio)"
   ]
  },
  {
   "cell_type": "markdown",
   "metadata": {},
   "source": [
    "# 2nd Set of Questions on the shot1.csv and shot2.csv Datasets **(30 Pts)**\n",
    "\n",
    "* **Dataset Path: \"Data/shot1.csv\" and \"Data/shot2.csv\"**"
   ]
  },
  {
   "cell_type": "markdown",
   "metadata": {},
   "source": [
    "## Q1. Data Merging and Consistency Checking **(10 Pts)**\n",
    "\n",
    "* Combine the data from \"shot1.csv\" and \"shot2.csv\" into a single DataFrame, ensuring no redundant columns are present. Merge by the redundant column names, representing the same info with different naming.\n",
    "*  After merging, perform a consistency check for any duplicated rows and provide a summary of your findings. Give the details (avg, mean, etc) of each feature."
   ]
  },
  {
   "cell_type": "markdown",
   "metadata": {},
   "source": [
    "### Reading data from \"shot1.csv\" and \"shot2.csv\" ###"
   ]
  },
  {
   "cell_type": "code",
   "execution_count": 15,
   "metadata": {},
   "outputs": [],
   "source": [
    "# read csv s into dfs \n",
    "df1 = pd.read_csv(\"Data/shot1.csv\")\n",
    "df2 = pd.read_csv(\"Data/shot2.csv\")"
   ]
  },
  {
   "cell_type": "code",
   "execution_count": 16,
   "metadata": {},
   "outputs": [],
   "source": [
    "# merge dfs, removing redundant columns\n",
    "df2['GAME_ID']=df2['GAME_IDENTIFICATION']\n",
    "df2.drop(columns=['GAME_IDENTIFICATION'], inplace=True)"
   ]
  },
  {
   "cell_type": "code",
   "execution_count": 17,
   "metadata": {},
   "outputs": [
    {
     "data": {
      "text/html": [
       "<div>\n",
       "<style scoped>\n",
       "    .dataframe tbody tr th:only-of-type {\n",
       "        vertical-align: middle;\n",
       "    }\n",
       "\n",
       "    .dataframe tbody tr th {\n",
       "        vertical-align: top;\n",
       "    }\n",
       "\n",
       "    .dataframe thead th {\n",
       "        text-align: right;\n",
       "    }\n",
       "</style>\n",
       "<table border=\"1\" class=\"dataframe\">\n",
       "  <thead>\n",
       "    <tr style=\"text-align: right;\">\n",
       "      <th></th>\n",
       "      <th>GAME_ID</th>\n",
       "      <th>MATCHUP</th>\n",
       "      <th>LOCATION</th>\n",
       "      <th>W</th>\n",
       "      <th>FINAL_MARGIN</th>\n",
       "      <th>SHOT_NUMBER</th>\n",
       "      <th>PERIOD</th>\n",
       "      <th>GAME_CLOCK</th>\n",
       "      <th>SHOT_CLOCK</th>\n",
       "      <th>DRIBBLES</th>\n",
       "      <th>TOUCH_TIME</th>\n",
       "      <th>SHOT_DIST</th>\n",
       "      <th>SHOT_RESULT</th>\n",
       "    </tr>\n",
       "  </thead>\n",
       "  <tbody>\n",
       "    <tr>\n",
       "      <th>0</th>\n",
       "      <td>21400899</td>\n",
       "      <td>MAR 04, 2015 - CHA @ BKN</td>\n",
       "      <td>A</td>\n",
       "      <td>W</td>\n",
       "      <td>24</td>\n",
       "      <td>1</td>\n",
       "      <td>1</td>\n",
       "      <td>1:09</td>\n",
       "      <td>10.8</td>\n",
       "      <td>2</td>\n",
       "      <td>1.9</td>\n",
       "      <td>7.7</td>\n",
       "      <td>made</td>\n",
       "    </tr>\n",
       "    <tr>\n",
       "      <th>1</th>\n",
       "      <td>21400899</td>\n",
       "      <td>MAR 04, 2015 - CHA @ BKN</td>\n",
       "      <td>A</td>\n",
       "      <td>W</td>\n",
       "      <td>24</td>\n",
       "      <td>2</td>\n",
       "      <td>1</td>\n",
       "      <td>0:14</td>\n",
       "      <td>3.4</td>\n",
       "      <td>0</td>\n",
       "      <td>0.8</td>\n",
       "      <td>28.2</td>\n",
       "      <td>missed</td>\n",
       "    </tr>\n",
       "    <tr>\n",
       "      <th>2</th>\n",
       "      <td>21400899</td>\n",
       "      <td>MAR 04, 2015 - CHA @ BKN</td>\n",
       "      <td>A</td>\n",
       "      <td>W</td>\n",
       "      <td>24</td>\n",
       "      <td>3</td>\n",
       "      <td>1</td>\n",
       "      <td>0:00</td>\n",
       "      <td>NaN</td>\n",
       "      <td>3</td>\n",
       "      <td>2.7</td>\n",
       "      <td>10.1</td>\n",
       "      <td>missed</td>\n",
       "    </tr>\n",
       "    <tr>\n",
       "      <th>3</th>\n",
       "      <td>21400899</td>\n",
       "      <td>MAR 04, 2015 - CHA @ BKN</td>\n",
       "      <td>A</td>\n",
       "      <td>W</td>\n",
       "      <td>24</td>\n",
       "      <td>4</td>\n",
       "      <td>2</td>\n",
       "      <td>11:47</td>\n",
       "      <td>10.3</td>\n",
       "      <td>2</td>\n",
       "      <td>1.9</td>\n",
       "      <td>17.2</td>\n",
       "      <td>missed</td>\n",
       "    </tr>\n",
       "    <tr>\n",
       "      <th>4</th>\n",
       "      <td>21400899</td>\n",
       "      <td>MAR 04, 2015 - CHA @ BKN</td>\n",
       "      <td>A</td>\n",
       "      <td>W</td>\n",
       "      <td>24</td>\n",
       "      <td>5</td>\n",
       "      <td>2</td>\n",
       "      <td>10:34</td>\n",
       "      <td>10.9</td>\n",
       "      <td>2</td>\n",
       "      <td>2.7</td>\n",
       "      <td>3.7</td>\n",
       "      <td>missed</td>\n",
       "    </tr>\n",
       "  </tbody>\n",
       "</table>\n",
       "</div>"
      ],
      "text/plain": [
       "    GAME_ID                   MATCHUP LOCATION  W  FINAL_MARGIN  SHOT_NUMBER  \\\n",
       "0  21400899  MAR 04, 2015 - CHA @ BKN        A  W            24            1   \n",
       "1  21400899  MAR 04, 2015 - CHA @ BKN        A  W            24            2   \n",
       "2  21400899  MAR 04, 2015 - CHA @ BKN        A  W            24            3   \n",
       "3  21400899  MAR 04, 2015 - CHA @ BKN        A  W            24            4   \n",
       "4  21400899  MAR 04, 2015 - CHA @ BKN        A  W            24            5   \n",
       "\n",
       "   PERIOD GAME_CLOCK  SHOT_CLOCK  DRIBBLES  TOUCH_TIME  SHOT_DIST SHOT_RESULT  \n",
       "0       1       1:09        10.8         2         1.9        7.7        made  \n",
       "1       1       0:14         3.4         0         0.8       28.2      missed  \n",
       "2       1       0:00         NaN         3         2.7       10.1      missed  \n",
       "3       2      11:47        10.3         2         1.9       17.2      missed  \n",
       "4       2      10:34        10.9         2         2.7        3.7      missed  "
      ]
     },
     "execution_count": 17,
     "metadata": {},
     "output_type": "execute_result"
    }
   ],
   "source": [
    "# inspecting shot1.csv data\n",
    "df1.head()"
   ]
  },
  {
   "cell_type": "code",
   "execution_count": 18,
   "metadata": {},
   "outputs": [
    {
     "data": {
      "text/html": [
       "<div>\n",
       "<style scoped>\n",
       "    .dataframe tbody tr th:only-of-type {\n",
       "        vertical-align: middle;\n",
       "    }\n",
       "\n",
       "    .dataframe tbody tr th {\n",
       "        vertical-align: top;\n",
       "    }\n",
       "\n",
       "    .dataframe thead th {\n",
       "        text-align: right;\n",
       "    }\n",
       "</style>\n",
       "<table border=\"1\" class=\"dataframe\">\n",
       "  <thead>\n",
       "    <tr style=\"text-align: right;\">\n",
       "      <th></th>\n",
       "      <th>SHOT_DIST</th>\n",
       "      <th>PTS_TYPE</th>\n",
       "      <th>SHOT_RESULT</th>\n",
       "      <th>CLOSEST_DEFENDER</th>\n",
       "      <th>CLOSEST_DEFENDER_PLAYER_ID</th>\n",
       "      <th>CLOSE_DEF_DIST</th>\n",
       "      <th>FGM</th>\n",
       "      <th>PTS</th>\n",
       "      <th>player_name</th>\n",
       "      <th>player_id</th>\n",
       "      <th>GAME_ID</th>\n",
       "    </tr>\n",
       "  </thead>\n",
       "  <tbody>\n",
       "    <tr>\n",
       "      <th>0</th>\n",
       "      <td>7.7</td>\n",
       "      <td>2</td>\n",
       "      <td>made</td>\n",
       "      <td>Anderson, Alan</td>\n",
       "      <td>101187</td>\n",
       "      <td>1.3</td>\n",
       "      <td>1</td>\n",
       "      <td>2</td>\n",
       "      <td>brian roberts</td>\n",
       "      <td>203148</td>\n",
       "      <td>21400899</td>\n",
       "    </tr>\n",
       "    <tr>\n",
       "      <th>1</th>\n",
       "      <td>28.2</td>\n",
       "      <td>3</td>\n",
       "      <td>missed</td>\n",
       "      <td>Bogdanovic, Bojan</td>\n",
       "      <td>202711</td>\n",
       "      <td>6.1</td>\n",
       "      <td>0</td>\n",
       "      <td>0</td>\n",
       "      <td>brian roberts</td>\n",
       "      <td>203148</td>\n",
       "      <td>21400899</td>\n",
       "    </tr>\n",
       "    <tr>\n",
       "      <th>2</th>\n",
       "      <td>10.1</td>\n",
       "      <td>2</td>\n",
       "      <td>missed</td>\n",
       "      <td>Bogdanovic, Bojan</td>\n",
       "      <td>202711</td>\n",
       "      <td>0.9</td>\n",
       "      <td>0</td>\n",
       "      <td>0</td>\n",
       "      <td>brian roberts</td>\n",
       "      <td>203148</td>\n",
       "      <td>21400899</td>\n",
       "    </tr>\n",
       "    <tr>\n",
       "      <th>3</th>\n",
       "      <td>17.2</td>\n",
       "      <td>2</td>\n",
       "      <td>missed</td>\n",
       "      <td>Brown, Markel</td>\n",
       "      <td>203900</td>\n",
       "      <td>3.4</td>\n",
       "      <td>0</td>\n",
       "      <td>0</td>\n",
       "      <td>brian roberts</td>\n",
       "      <td>203148</td>\n",
       "      <td>21400899</td>\n",
       "    </tr>\n",
       "    <tr>\n",
       "      <th>4</th>\n",
       "      <td>3.7</td>\n",
       "      <td>2</td>\n",
       "      <td>missed</td>\n",
       "      <td>Young, Thaddeus</td>\n",
       "      <td>201152</td>\n",
       "      <td>1.1</td>\n",
       "      <td>0</td>\n",
       "      <td>0</td>\n",
       "      <td>brian roberts</td>\n",
       "      <td>203148</td>\n",
       "      <td>21400899</td>\n",
       "    </tr>\n",
       "  </tbody>\n",
       "</table>\n",
       "</div>"
      ],
      "text/plain": [
       "   SHOT_DIST  PTS_TYPE SHOT_RESULT   CLOSEST_DEFENDER  \\\n",
       "0        7.7         2        made     Anderson, Alan   \n",
       "1       28.2         3      missed  Bogdanovic, Bojan   \n",
       "2       10.1         2      missed  Bogdanovic, Bojan   \n",
       "3       17.2         2      missed      Brown, Markel   \n",
       "4        3.7         2      missed    Young, Thaddeus   \n",
       "\n",
       "   CLOSEST_DEFENDER_PLAYER_ID  CLOSE_DEF_DIST  FGM  PTS    player_name  \\\n",
       "0                      101187             1.3    1    2  brian roberts   \n",
       "1                      202711             6.1    0    0  brian roberts   \n",
       "2                      202711             0.9    0    0  brian roberts   \n",
       "3                      203900             3.4    0    0  brian roberts   \n",
       "4                      201152             1.1    0    0  brian roberts   \n",
       "\n",
       "   player_id   GAME_ID  \n",
       "0     203148  21400899  \n",
       "1     203148  21400899  \n",
       "2     203148  21400899  \n",
       "3     203148  21400899  \n",
       "4     203148  21400899  "
      ]
     },
     "execution_count": 18,
     "metadata": {},
     "output_type": "execute_result"
    }
   ],
   "source": [
    "#inspect shot2.csv data\n",
    "df2.head()"
   ]
  },
  {
   "cell_type": "code",
   "execution_count": 19,
   "metadata": {},
   "outputs": [],
   "source": [
    "#i've added an id column to each df to make it easier to merge them\n",
    "df2['id']=df2.index\n",
    "df1['id']=df1.index"
   ]
  },
  {
   "cell_type": "code",
   "execution_count": 20,
   "metadata": {},
   "outputs": [
    {
     "name": "stdout",
     "output_type": "stream",
     "text": [
      "(128069, 14)\n",
      "(128069, 12)\n"
     ]
    }
   ],
   "source": [
    "print(df1.shape)\n",
    "print(df2.shape)"
   ]
  },
  {
   "cell_type": "code",
   "execution_count": 21,
   "metadata": {},
   "outputs": [
    {
     "name": "stdout",
     "output_type": "stream",
     "text": [
      "<class 'pandas.core.frame.DataFrame'>\n",
      "RangeIndex: 128069 entries, 0 to 128068\n",
      "Data columns (total 22 columns):\n",
      " #   Column                      Non-Null Count   Dtype  \n",
      "---  ------                      --------------   -----  \n",
      " 0   GAME_ID                     128069 non-null  int64  \n",
      " 1   MATCHUP                     128069 non-null  object \n",
      " 2   LOCATION                    128069 non-null  object \n",
      " 3   W                           128069 non-null  object \n",
      " 4   FINAL_MARGIN                128069 non-null  int64  \n",
      " 5   SHOT_NUMBER                 128069 non-null  int64  \n",
      " 6   PERIOD                      128069 non-null  int64  \n",
      " 7   GAME_CLOCK                  128069 non-null  object \n",
      " 8   SHOT_CLOCK                  122502 non-null  float64\n",
      " 9   DRIBBLES                    128069 non-null  int64  \n",
      " 10  TOUCH_TIME                  128069 non-null  float64\n",
      " 11  SHOT_DIST                   128069 non-null  float64\n",
      " 12  SHOT_RESULT                 128069 non-null  object \n",
      " 13  id                          128069 non-null  int64  \n",
      " 14  PTS_TYPE                    128069 non-null  int64  \n",
      " 15  CLOSEST_DEFENDER            128069 non-null  object \n",
      " 16  CLOSEST_DEFENDER_PLAYER_ID  128069 non-null  int64  \n",
      " 17  CLOSE_DEF_DIST              128069 non-null  float64\n",
      " 18  FGM                         128069 non-null  int64  \n",
      " 19  PTS                         128069 non-null  int64  \n",
      " 20  player_name                 128069 non-null  object \n",
      " 21  player_id                   128069 non-null  int64  \n",
      "dtypes: float64(4), int64(11), object(7)\n",
      "memory usage: 21.5+ MB\n"
     ]
    }
   ],
   "source": [
    "# merge dfs\n",
    "df_merged = pd.merge(df1, df2, how='outer', on=['GAME_ID', 'SHOT_RESULT','SHOT_DIST','id'])\n",
    "df_merged.info()"
   ]
  },
  {
   "cell_type": "markdown",
   "metadata": {},
   "source": [
    "### Inspecting the merged dataframe named df_merged ###\n",
    "Before using an id column, merged dataframe had identical instances. After realising that , an id column is added which fixed the issue."
   ]
  },
  {
   "cell_type": "code",
   "execution_count": 22,
   "metadata": {},
   "outputs": [
    {
     "data": {
      "text/html": [
       "<div>\n",
       "<style scoped>\n",
       "    .dataframe tbody tr th:only-of-type {\n",
       "        vertical-align: middle;\n",
       "    }\n",
       "\n",
       "    .dataframe tbody tr th {\n",
       "        vertical-align: top;\n",
       "    }\n",
       "\n",
       "    .dataframe thead th {\n",
       "        text-align: right;\n",
       "    }\n",
       "</style>\n",
       "<table border=\"1\" class=\"dataframe\">\n",
       "  <thead>\n",
       "    <tr style=\"text-align: right;\">\n",
       "      <th></th>\n",
       "      <th>GAME_ID</th>\n",
       "      <th>MATCHUP</th>\n",
       "      <th>LOCATION</th>\n",
       "      <th>W</th>\n",
       "      <th>FINAL_MARGIN</th>\n",
       "      <th>SHOT_NUMBER</th>\n",
       "      <th>PERIOD</th>\n",
       "      <th>GAME_CLOCK</th>\n",
       "      <th>SHOT_CLOCK</th>\n",
       "      <th>DRIBBLES</th>\n",
       "      <th>TOUCH_TIME</th>\n",
       "      <th>SHOT_DIST</th>\n",
       "      <th>SHOT_RESULT</th>\n",
       "      <th>id</th>\n",
       "    </tr>\n",
       "  </thead>\n",
       "  <tbody>\n",
       "    <tr>\n",
       "      <th>0</th>\n",
       "      <td>21400899</td>\n",
       "      <td>MAR 04, 2015 - CHA @ BKN</td>\n",
       "      <td>A</td>\n",
       "      <td>W</td>\n",
       "      <td>24</td>\n",
       "      <td>1</td>\n",
       "      <td>1</td>\n",
       "      <td>1:09</td>\n",
       "      <td>10.8</td>\n",
       "      <td>2</td>\n",
       "      <td>1.9</td>\n",
       "      <td>7.7</td>\n",
       "      <td>made</td>\n",
       "      <td>0</td>\n",
       "    </tr>\n",
       "    <tr>\n",
       "      <th>127461</th>\n",
       "      <td>21400899</td>\n",
       "      <td>MAR 04, 2015 - BKN vs. CHA</td>\n",
       "      <td>H</td>\n",
       "      <td>L</td>\n",
       "      <td>-24</td>\n",
       "      <td>5</td>\n",
       "      <td>2</td>\n",
       "      <td>11:06</td>\n",
       "      <td>14.7</td>\n",
       "      <td>5</td>\n",
       "      <td>4.3</td>\n",
       "      <td>7.7</td>\n",
       "      <td>made</td>\n",
       "      <td>127461</td>\n",
       "    </tr>\n",
       "  </tbody>\n",
       "</table>\n",
       "</div>"
      ],
      "text/plain": [
       "         GAME_ID                     MATCHUP LOCATION  W  FINAL_MARGIN  \\\n",
       "0       21400899    MAR 04, 2015 - CHA @ BKN        A  W            24   \n",
       "127461  21400899  MAR 04, 2015 - BKN vs. CHA        H  L           -24   \n",
       "\n",
       "        SHOT_NUMBER  PERIOD GAME_CLOCK  SHOT_CLOCK  DRIBBLES  TOUCH_TIME  \\\n",
       "0                 1       1       1:09        10.8         2         1.9   \n",
       "127461            5       2      11:06        14.7         5         4.3   \n",
       "\n",
       "        SHOT_DIST SHOT_RESULT      id  \n",
       "0             7.7        made       0  \n",
       "127461        7.7        made  127461  "
      ]
     },
     "execution_count": 22,
     "metadata": {},
     "output_type": "execute_result"
    }
   ],
   "source": [
    "\n",
    "df1.loc[(df1['GAME_ID']==21400899)&(df1['SHOT_DIST']==7.7)&(df1['SHOT_RESULT']=='made')]"
   ]
  },
  {
   "cell_type": "code",
   "execution_count": 23,
   "metadata": {},
   "outputs": [
    {
     "data": {
      "text/html": [
       "<div>\n",
       "<style scoped>\n",
       "    .dataframe tbody tr th:only-of-type {\n",
       "        vertical-align: middle;\n",
       "    }\n",
       "\n",
       "    .dataframe tbody tr th {\n",
       "        vertical-align: top;\n",
       "    }\n",
       "\n",
       "    .dataframe thead th {\n",
       "        text-align: right;\n",
       "    }\n",
       "</style>\n",
       "<table border=\"1\" class=\"dataframe\">\n",
       "  <thead>\n",
       "    <tr style=\"text-align: right;\">\n",
       "      <th></th>\n",
       "      <th>SHOT_DIST</th>\n",
       "      <th>PTS_TYPE</th>\n",
       "      <th>SHOT_RESULT</th>\n",
       "      <th>CLOSEST_DEFENDER</th>\n",
       "      <th>CLOSEST_DEFENDER_PLAYER_ID</th>\n",
       "      <th>CLOSE_DEF_DIST</th>\n",
       "      <th>FGM</th>\n",
       "      <th>PTS</th>\n",
       "      <th>player_name</th>\n",
       "      <th>player_id</th>\n",
       "      <th>GAME_ID</th>\n",
       "      <th>id</th>\n",
       "    </tr>\n",
       "  </thead>\n",
       "  <tbody>\n",
       "    <tr>\n",
       "      <th>0</th>\n",
       "      <td>7.7</td>\n",
       "      <td>2</td>\n",
       "      <td>made</td>\n",
       "      <td>Anderson, Alan</td>\n",
       "      <td>101187</td>\n",
       "      <td>1.3</td>\n",
       "      <td>1</td>\n",
       "      <td>2</td>\n",
       "      <td>brian roberts</td>\n",
       "      <td>203148</td>\n",
       "      <td>21400899</td>\n",
       "      <td>0</td>\n",
       "    </tr>\n",
       "    <tr>\n",
       "      <th>127461</th>\n",
       "      <td>7.7</td>\n",
       "      <td>2</td>\n",
       "      <td>made</td>\n",
       "      <td>Roberts, Brian</td>\n",
       "      <td>203148</td>\n",
       "      <td>2.9</td>\n",
       "      <td>1</td>\n",
       "      <td>2</td>\n",
       "      <td>jarrett jack</td>\n",
       "      <td>101127</td>\n",
       "      <td>21400899</td>\n",
       "      <td>127461</td>\n",
       "    </tr>\n",
       "  </tbody>\n",
       "</table>\n",
       "</div>"
      ],
      "text/plain": [
       "        SHOT_DIST  PTS_TYPE SHOT_RESULT CLOSEST_DEFENDER  \\\n",
       "0             7.7         2        made   Anderson, Alan   \n",
       "127461        7.7         2        made   Roberts, Brian   \n",
       "\n",
       "        CLOSEST_DEFENDER_PLAYER_ID  CLOSE_DEF_DIST  FGM  PTS    player_name  \\\n",
       "0                           101187             1.3    1    2  brian roberts   \n",
       "127461                      203148             2.9    1    2   jarrett jack   \n",
       "\n",
       "        player_id   GAME_ID      id  \n",
       "0          203148  21400899       0  \n",
       "127461     101127  21400899  127461  "
      ]
     },
     "execution_count": 23,
     "metadata": {},
     "output_type": "execute_result"
    }
   ],
   "source": [
    "df2.loc[(df2['GAME_ID']==21400899)&(df2['SHOT_DIST']==7.7)&(df2['SHOT_RESULT']=='made')]"
   ]
  },
  {
   "cell_type": "code",
   "execution_count": 24,
   "metadata": {},
   "outputs": [
    {
     "data": {
      "text/html": [
       "<div>\n",
       "<style scoped>\n",
       "    .dataframe tbody tr th:only-of-type {\n",
       "        vertical-align: middle;\n",
       "    }\n",
       "\n",
       "    .dataframe tbody tr th {\n",
       "        vertical-align: top;\n",
       "    }\n",
       "\n",
       "    .dataframe thead th {\n",
       "        text-align: right;\n",
       "    }\n",
       "</style>\n",
       "<table border=\"1\" class=\"dataframe\">\n",
       "  <thead>\n",
       "    <tr style=\"text-align: right;\">\n",
       "      <th></th>\n",
       "      <th>GAME_ID</th>\n",
       "      <th>MATCHUP</th>\n",
       "      <th>LOCATION</th>\n",
       "      <th>W</th>\n",
       "      <th>FINAL_MARGIN</th>\n",
       "      <th>SHOT_NUMBER</th>\n",
       "      <th>PERIOD</th>\n",
       "      <th>GAME_CLOCK</th>\n",
       "      <th>SHOT_CLOCK</th>\n",
       "      <th>DRIBBLES</th>\n",
       "      <th>TOUCH_TIME</th>\n",
       "      <th>SHOT_DIST</th>\n",
       "      <th>SHOT_RESULT</th>\n",
       "      <th>id</th>\n",
       "      <th>PTS_TYPE</th>\n",
       "      <th>CLOSEST_DEFENDER</th>\n",
       "      <th>CLOSEST_DEFENDER_PLAYER_ID</th>\n",
       "      <th>CLOSE_DEF_DIST</th>\n",
       "      <th>FGM</th>\n",
       "      <th>PTS</th>\n",
       "      <th>player_name</th>\n",
       "      <th>player_id</th>\n",
       "    </tr>\n",
       "  </thead>\n",
       "  <tbody>\n",
       "    <tr>\n",
       "      <th>0</th>\n",
       "      <td>21400899</td>\n",
       "      <td>MAR 04, 2015 - CHA @ BKN</td>\n",
       "      <td>A</td>\n",
       "      <td>W</td>\n",
       "      <td>24</td>\n",
       "      <td>1</td>\n",
       "      <td>1</td>\n",
       "      <td>1:09</td>\n",
       "      <td>10.8</td>\n",
       "      <td>2</td>\n",
       "      <td>1.9</td>\n",
       "      <td>7.7</td>\n",
       "      <td>made</td>\n",
       "      <td>0</td>\n",
       "      <td>2</td>\n",
       "      <td>Anderson, Alan</td>\n",
       "      <td>101187</td>\n",
       "      <td>1.3</td>\n",
       "      <td>1</td>\n",
       "      <td>2</td>\n",
       "      <td>brian roberts</td>\n",
       "      <td>203148</td>\n",
       "    </tr>\n",
       "    <tr>\n",
       "      <th>127461</th>\n",
       "      <td>21400899</td>\n",
       "      <td>MAR 04, 2015 - BKN vs. CHA</td>\n",
       "      <td>H</td>\n",
       "      <td>L</td>\n",
       "      <td>-24</td>\n",
       "      <td>5</td>\n",
       "      <td>2</td>\n",
       "      <td>11:06</td>\n",
       "      <td>14.7</td>\n",
       "      <td>5</td>\n",
       "      <td>4.3</td>\n",
       "      <td>7.7</td>\n",
       "      <td>made</td>\n",
       "      <td>127461</td>\n",
       "      <td>2</td>\n",
       "      <td>Roberts, Brian</td>\n",
       "      <td>203148</td>\n",
       "      <td>2.9</td>\n",
       "      <td>1</td>\n",
       "      <td>2</td>\n",
       "      <td>jarrett jack</td>\n",
       "      <td>101127</td>\n",
       "    </tr>\n",
       "  </tbody>\n",
       "</table>\n",
       "</div>"
      ],
      "text/plain": [
       "         GAME_ID                     MATCHUP LOCATION  W  FINAL_MARGIN  \\\n",
       "0       21400899    MAR 04, 2015 - CHA @ BKN        A  W            24   \n",
       "127461  21400899  MAR 04, 2015 - BKN vs. CHA        H  L           -24   \n",
       "\n",
       "        SHOT_NUMBER  PERIOD GAME_CLOCK  SHOT_CLOCK  DRIBBLES  TOUCH_TIME  \\\n",
       "0                 1       1       1:09        10.8         2         1.9   \n",
       "127461            5       2      11:06        14.7         5         4.3   \n",
       "\n",
       "        SHOT_DIST SHOT_RESULT      id  PTS_TYPE CLOSEST_DEFENDER  \\\n",
       "0             7.7        made       0         2   Anderson, Alan   \n",
       "127461        7.7        made  127461         2   Roberts, Brian   \n",
       "\n",
       "        CLOSEST_DEFENDER_PLAYER_ID  CLOSE_DEF_DIST  FGM  PTS    player_name  \\\n",
       "0                           101187             1.3    1    2  brian roberts   \n",
       "127461                      203148             2.9    1    2   jarrett jack   \n",
       "\n",
       "        player_id  \n",
       "0          203148  \n",
       "127461     101127  "
      ]
     },
     "execution_count": 24,
     "metadata": {},
     "output_type": "execute_result"
    }
   ],
   "source": [
    "df_merged.loc[(df_merged['GAME_ID']==21400899)&(df_merged['SHOT_DIST']==7.7)&(df_merged['SHOT_RESULT']=='made')]"
   ]
  },
  {
   "cell_type": "code",
   "execution_count": 25,
   "metadata": {},
   "outputs": [
    {
     "name": "stdout",
     "output_type": "stream",
     "text": [
      "Number of duplicate rows :  0\n",
      "General information about the dataset:\n",
      "<class 'pandas.core.frame.DataFrame'>\n",
      "RangeIndex: 128069 entries, 0 to 128068\n",
      "Data columns (total 22 columns):\n",
      " #   Column                      Non-Null Count   Dtype  \n",
      "---  ------                      --------------   -----  \n",
      " 0   id                          128069 non-null  int64  \n",
      " 1   GAME_ID                     128069 non-null  int64  \n",
      " 2   MATCHUP                     128069 non-null  object \n",
      " 3   LOCATION                    128069 non-null  object \n",
      " 4   W                           128069 non-null  object \n",
      " 5   FINAL_MARGIN                128069 non-null  int64  \n",
      " 6   SHOT_NUMBER                 128069 non-null  int64  \n",
      " 7   PERIOD                      128069 non-null  int64  \n",
      " 8   GAME_CLOCK                  128069 non-null  object \n",
      " 9   SHOT_CLOCK                  122502 non-null  float64\n",
      " 10  DRIBBLES                    128069 non-null  int64  \n",
      " 11  TOUCH_TIME                  128069 non-null  float64\n",
      " 12  SHOT_DIST                   128069 non-null  float64\n",
      " 13  SHOT_RESULT                 128069 non-null  object \n",
      " 14  PTS_TYPE                    128069 non-null  int64  \n",
      " 15  CLOSEST_DEFENDER            128069 non-null  object \n",
      " 16  CLOSEST_DEFENDER_PLAYER_ID  128069 non-null  int64  \n",
      " 17  CLOSE_DEF_DIST              128069 non-null  float64\n",
      " 18  FGM                         128069 non-null  int64  \n",
      " 19  PTS                         128069 non-null  int64  \n",
      " 20  player_name                 128069 non-null  object \n",
      " 21  player_id                   128069 non-null  int64  \n",
      "dtypes: float64(4), int64(11), object(7)\n",
      "memory usage: 21.5+ MB\n"
     ]
    }
   ],
   "source": [
    "# check for duplicate rows and provide a summary of the findings for each feature\n",
    "\n",
    "# aligned 'id' column as first column\n",
    "cols = df_merged.columns.tolist()\n",
    "cols.insert(0, cols.pop(cols.index('id')))\n",
    "df_merged = df_merged[cols]\n",
    "\n",
    "# check for duplicate rows\n",
    "print(\"Number of duplicate rows : \",df_merged.duplicated().sum())\n",
    "\n",
    "print(\"General information about the dataset:\")\n",
    "df_merged.info()\n"
   ]
  },
  {
   "cell_type": "code",
   "execution_count": 26,
   "metadata": {},
   "outputs": [
    {
     "name": "stdout",
     "output_type": "stream",
     "text": [
      "There are 15 numeric columns and 7 categorical columns.\n",
      "Numeric columns:  ['id', 'GAME_ID', 'FINAL_MARGIN', 'SHOT_NUMBER', 'PERIOD', 'SHOT_CLOCK', 'DRIBBLES', 'TOUCH_TIME', 'SHOT_DIST', 'PTS_TYPE', 'CLOSEST_DEFENDER_PLAYER_ID', 'CLOSE_DEF_DIST', 'FGM', 'PTS', 'player_id']\n",
      "Categorical columns:  ['CLOSEST_DEFENDER', 'GAME_CLOCK', 'player_name', 'SHOT_RESULT', 'MATCHUP', 'LOCATION', 'W']\n"
     ]
    }
   ],
   "source": [
    "numeric_cols = df_merged._get_numeric_data().columns.tolist()\n",
    "categorical_cols = list(set(df_merged.columns) - set(numeric_cols))\n",
    "\n",
    "print(\"There are {} numeric columns and {} categorical columns.\".format(len(numeric_cols), len(categorical_cols)))\n",
    "print(\"Numeric columns: \", numeric_cols)\n",
    "print(\"Categorical columns: \", categorical_cols)"
   ]
  },
  {
   "cell_type": "code",
   "execution_count": 27,
   "metadata": {},
   "outputs": [
    {
     "name": "stdout",
     "output_type": "stream",
     "text": [
      "This is the summary of the numeric columns:\n"
     ]
    },
    {
     "data": {
      "text/html": [
       "<div>\n",
       "<style scoped>\n",
       "    .dataframe tbody tr th:only-of-type {\n",
       "        vertical-align: middle;\n",
       "    }\n",
       "\n",
       "    .dataframe tbody tr th {\n",
       "        vertical-align: top;\n",
       "    }\n",
       "\n",
       "    .dataframe thead th {\n",
       "        text-align: right;\n",
       "    }\n",
       "</style>\n",
       "<table border=\"1\" class=\"dataframe\">\n",
       "  <thead>\n",
       "    <tr style=\"text-align: right;\">\n",
       "      <th></th>\n",
       "      <th>id</th>\n",
       "      <th>GAME_ID</th>\n",
       "      <th>FINAL_MARGIN</th>\n",
       "      <th>SHOT_NUMBER</th>\n",
       "      <th>PERIOD</th>\n",
       "      <th>SHOT_CLOCK</th>\n",
       "      <th>DRIBBLES</th>\n",
       "      <th>TOUCH_TIME</th>\n",
       "      <th>SHOT_DIST</th>\n",
       "      <th>PTS_TYPE</th>\n",
       "      <th>CLOSEST_DEFENDER_PLAYER_ID</th>\n",
       "      <th>CLOSE_DEF_DIST</th>\n",
       "      <th>FGM</th>\n",
       "      <th>PTS</th>\n",
       "      <th>player_id</th>\n",
       "    </tr>\n",
       "  </thead>\n",
       "  <tbody>\n",
       "    <tr>\n",
       "      <th>count</th>\n",
       "      <td>128069.00000</td>\n",
       "      <td>1.280690e+05</td>\n",
       "      <td>128069.000000</td>\n",
       "      <td>128069.000000</td>\n",
       "      <td>128069.000000</td>\n",
       "      <td>122502.000000</td>\n",
       "      <td>128069.000000</td>\n",
       "      <td>128069.000000</td>\n",
       "      <td>128069.000000</td>\n",
       "      <td>128069.000000</td>\n",
       "      <td>128069.000000</td>\n",
       "      <td>128069.000000</td>\n",
       "      <td>128069.000000</td>\n",
       "      <td>128069.000000</td>\n",
       "      <td>128069.000000</td>\n",
       "    </tr>\n",
       "    <tr>\n",
       "      <th>mean</th>\n",
       "      <td>64034.00000</td>\n",
       "      <td>2.140045e+07</td>\n",
       "      <td>0.208723</td>\n",
       "      <td>6.506899</td>\n",
       "      <td>2.469427</td>\n",
       "      <td>12.453344</td>\n",
       "      <td>2.023355</td>\n",
       "      <td>2.765901</td>\n",
       "      <td>13.571504</td>\n",
       "      <td>2.264670</td>\n",
       "      <td>159038.487284</td>\n",
       "      <td>4.123015</td>\n",
       "      <td>0.452139</td>\n",
       "      <td>0.997314</td>\n",
       "      <td>157238.251247</td>\n",
       "    </tr>\n",
       "    <tr>\n",
       "      <th>std</th>\n",
       "      <td>36970.48015</td>\n",
       "      <td>2.578773e+02</td>\n",
       "      <td>13.233267</td>\n",
       "      <td>4.713260</td>\n",
       "      <td>1.139919</td>\n",
       "      <td>5.763265</td>\n",
       "      <td>3.477760</td>\n",
       "      <td>3.043682</td>\n",
       "      <td>8.888964</td>\n",
       "      <td>0.441159</td>\n",
       "      <td>78791.172947</td>\n",
       "      <td>2.756446</td>\n",
       "      <td>0.497706</td>\n",
       "      <td>1.130978</td>\n",
       "      <td>79362.389336</td>\n",
       "    </tr>\n",
       "    <tr>\n",
       "      <th>min</th>\n",
       "      <td>0.00000</td>\n",
       "      <td>2.140000e+07</td>\n",
       "      <td>-53.000000</td>\n",
       "      <td>1.000000</td>\n",
       "      <td>1.000000</td>\n",
       "      <td>0.000000</td>\n",
       "      <td>0.000000</td>\n",
       "      <td>-163.600000</td>\n",
       "      <td>0.000000</td>\n",
       "      <td>2.000000</td>\n",
       "      <td>708.000000</td>\n",
       "      <td>0.000000</td>\n",
       "      <td>0.000000</td>\n",
       "      <td>0.000000</td>\n",
       "      <td>708.000000</td>\n",
       "    </tr>\n",
       "    <tr>\n",
       "      <th>25%</th>\n",
       "      <td>32017.00000</td>\n",
       "      <td>2.140023e+07</td>\n",
       "      <td>-8.000000</td>\n",
       "      <td>3.000000</td>\n",
       "      <td>1.000000</td>\n",
       "      <td>8.200000</td>\n",
       "      <td>0.000000</td>\n",
       "      <td>0.900000</td>\n",
       "      <td>4.700000</td>\n",
       "      <td>2.000000</td>\n",
       "      <td>101249.000000</td>\n",
       "      <td>2.300000</td>\n",
       "      <td>0.000000</td>\n",
       "      <td>0.000000</td>\n",
       "      <td>101162.000000</td>\n",
       "    </tr>\n",
       "    <tr>\n",
       "      <th>50%</th>\n",
       "      <td>64034.00000</td>\n",
       "      <td>2.140045e+07</td>\n",
       "      <td>1.000000</td>\n",
       "      <td>5.000000</td>\n",
       "      <td>2.000000</td>\n",
       "      <td>12.300000</td>\n",
       "      <td>1.000000</td>\n",
       "      <td>1.600000</td>\n",
       "      <td>13.700000</td>\n",
       "      <td>2.000000</td>\n",
       "      <td>201949.000000</td>\n",
       "      <td>3.700000</td>\n",
       "      <td>0.000000</td>\n",
       "      <td>0.000000</td>\n",
       "      <td>201939.000000</td>\n",
       "    </tr>\n",
       "    <tr>\n",
       "      <th>75%</th>\n",
       "      <td>96051.00000</td>\n",
       "      <td>2.140067e+07</td>\n",
       "      <td>9.000000</td>\n",
       "      <td>9.000000</td>\n",
       "      <td>3.000000</td>\n",
       "      <td>16.675000</td>\n",
       "      <td>2.000000</td>\n",
       "      <td>3.700000</td>\n",
       "      <td>22.500000</td>\n",
       "      <td>3.000000</td>\n",
       "      <td>203079.000000</td>\n",
       "      <td>5.300000</td>\n",
       "      <td>1.000000</td>\n",
       "      <td>2.000000</td>\n",
       "      <td>202704.000000</td>\n",
       "    </tr>\n",
       "    <tr>\n",
       "      <th>max</th>\n",
       "      <td>128068.00000</td>\n",
       "      <td>2.140091e+07</td>\n",
       "      <td>53.000000</td>\n",
       "      <td>38.000000</td>\n",
       "      <td>7.000000</td>\n",
       "      <td>24.000000</td>\n",
       "      <td>32.000000</td>\n",
       "      <td>24.900000</td>\n",
       "      <td>47.200000</td>\n",
       "      <td>3.000000</td>\n",
       "      <td>530027.000000</td>\n",
       "      <td>53.200000</td>\n",
       "      <td>1.000000</td>\n",
       "      <td>3.000000</td>\n",
       "      <td>204060.000000</td>\n",
       "    </tr>\n",
       "  </tbody>\n",
       "</table>\n",
       "</div>"
      ],
      "text/plain": [
       "                 id       GAME_ID   FINAL_MARGIN    SHOT_NUMBER  \\\n",
       "count  128069.00000  1.280690e+05  128069.000000  128069.000000   \n",
       "mean    64034.00000  2.140045e+07       0.208723       6.506899   \n",
       "std     36970.48015  2.578773e+02      13.233267       4.713260   \n",
       "min         0.00000  2.140000e+07     -53.000000       1.000000   \n",
       "25%     32017.00000  2.140023e+07      -8.000000       3.000000   \n",
       "50%     64034.00000  2.140045e+07       1.000000       5.000000   \n",
       "75%     96051.00000  2.140067e+07       9.000000       9.000000   \n",
       "max    128068.00000  2.140091e+07      53.000000      38.000000   \n",
       "\n",
       "              PERIOD     SHOT_CLOCK       DRIBBLES     TOUCH_TIME  \\\n",
       "count  128069.000000  122502.000000  128069.000000  128069.000000   \n",
       "mean        2.469427      12.453344       2.023355       2.765901   \n",
       "std         1.139919       5.763265       3.477760       3.043682   \n",
       "min         1.000000       0.000000       0.000000    -163.600000   \n",
       "25%         1.000000       8.200000       0.000000       0.900000   \n",
       "50%         2.000000      12.300000       1.000000       1.600000   \n",
       "75%         3.000000      16.675000       2.000000       3.700000   \n",
       "max         7.000000      24.000000      32.000000      24.900000   \n",
       "\n",
       "           SHOT_DIST       PTS_TYPE  CLOSEST_DEFENDER_PLAYER_ID  \\\n",
       "count  128069.000000  128069.000000               128069.000000   \n",
       "mean       13.571504       2.264670               159038.487284   \n",
       "std         8.888964       0.441159                78791.172947   \n",
       "min         0.000000       2.000000                  708.000000   \n",
       "25%         4.700000       2.000000               101249.000000   \n",
       "50%        13.700000       2.000000               201949.000000   \n",
       "75%        22.500000       3.000000               203079.000000   \n",
       "max        47.200000       3.000000               530027.000000   \n",
       "\n",
       "       CLOSE_DEF_DIST            FGM            PTS      player_id  \n",
       "count   128069.000000  128069.000000  128069.000000  128069.000000  \n",
       "mean         4.123015       0.452139       0.997314  157238.251247  \n",
       "std          2.756446       0.497706       1.130978   79362.389336  \n",
       "min          0.000000       0.000000       0.000000     708.000000  \n",
       "25%          2.300000       0.000000       0.000000  101162.000000  \n",
       "50%          3.700000       0.000000       0.000000  201939.000000  \n",
       "75%          5.300000       1.000000       2.000000  202704.000000  \n",
       "max         53.200000       1.000000       3.000000  204060.000000  "
      ]
     },
     "execution_count": 27,
     "metadata": {},
     "output_type": "execute_result"
    }
   ],
   "source": [
    "print(\"This is the summary of the numeric columns:\")\n",
    "df_merged[numeric_cols].describe()"
   ]
  },
  {
   "cell_type": "markdown",
   "metadata": {},
   "source": [
    "* As seen above 'pts' , 'fgm' , 'pts_type' can vary between a close range of values.\n",
    "* Let's check the unique values of these columns to see if they are categorical or not."
   ]
  },
  {
   "cell_type": "code",
   "execution_count": 28,
   "metadata": {},
   "outputs": [
    {
     "name": "stdout",
     "output_type": "stream",
     "text": [
      "Unique values of 'pts':  [2 0 3]\n",
      "Unique values of 'fgm':  [1 0]\n",
      "Unique values of 'pts_type':  [2 3]\n",
      "Unique values of 'player_id':  281\n"
     ]
    }
   ],
   "source": [
    "print(\"Unique values of 'pts': \", df_merged['PTS'].unique())\n",
    "print(\"Unique values of 'fgm': \", df_merged['FGM'].unique())\n",
    "print(\"Unique values of 'pts_type': \", df_merged['PTS_TYPE'].unique())\n",
    "print(\"Unique values of 'player_id': \", len(df_merged['player_id'].unique()))"
   ]
  },
  {
   "cell_type": "code",
   "execution_count": 29,
   "metadata": {},
   "outputs": [
    {
     "name": "stdout",
     "output_type": "stream",
     "text": [
      "This is the summary of the categorical columns:\n"
     ]
    },
    {
     "data": {
      "text/plain": [
       "SHOT_RESULT\n",
       "missed    70164\n",
       "made      57905\n",
       "Name: count, dtype: int64"
      ]
     },
     "execution_count": 29,
     "metadata": {},
     "output_type": "execute_result"
    }
   ],
   "source": [
    "print(\"This is the summary of the categorical columns:\")\n",
    "df_merged[categorical_cols].describe()\n",
    "\n",
    "df_merged['SHOT_RESULT'].value_counts()"
   ]
  },
  {
   "cell_type": "markdown",
   "metadata": {},
   "source": [
    "## Q2. Player’s Shooting Accuracy Analysis **(10 Pts)**\n",
    "* Using the combined DataFrame from Question 1, calculate and display the shooting accuracy of each player. \n",
    "* Shooting accuracy = the ratio of successful shots (SHOT_RESULT) to total shots taken\n",
    "* Display the top 5 players based on shooting accuracy"
   ]
  },
  {
   "cell_type": "code",
   "execution_count": 30,
   "metadata": {},
   "outputs": [],
   "source": [
    "df_sh_accuracy= df_merged.groupby('player_id')['SHOT_RESULT'].value_counts(normalize=True).unstack()\n",
    "df_sh_accuracy['Shooting Accuracy']=df_sh_accuracy['made']*100\n",
    "df_sh_accuracy.drop(columns=['made','missed'], inplace=True)\n",
    "df_sh_accuracy.sort_values(by=['Shooting Accuracy'], ascending=False,inplace=True)"
   ]
  },
  {
   "cell_type": "code",
   "execution_count": 31,
   "metadata": {},
   "outputs": [
    {
     "name": "stdout",
     "output_type": "stream",
     "text": [
      "Top 5 players with the HIGHEST shooting accuracy:\n"
     ]
    },
    {
     "data": {
      "text/html": [
       "<div>\n",
       "<style scoped>\n",
       "    .dataframe tbody tr th:only-of-type {\n",
       "        vertical-align: middle;\n",
       "    }\n",
       "\n",
       "    .dataframe tbody tr th {\n",
       "        vertical-align: top;\n",
       "    }\n",
       "\n",
       "    .dataframe thead th {\n",
       "        text-align: right;\n",
       "    }\n",
       "</style>\n",
       "<table border=\"1\" class=\"dataframe\">\n",
       "  <thead>\n",
       "    <tr style=\"text-align: right;\">\n",
       "      <th>SHOT_RESULT</th>\n",
       "      <th>Shooting Accuracy</th>\n",
       "    </tr>\n",
       "    <tr>\n",
       "      <th>player_id</th>\n",
       "      <th></th>\n",
       "    </tr>\n",
       "  </thead>\n",
       "  <tbody>\n",
       "    <tr>\n",
       "      <th>201599</th>\n",
       "      <td>71.246819</td>\n",
       "    </tr>\n",
       "    <tr>\n",
       "      <th>2199</th>\n",
       "      <td>67.647059</td>\n",
       "    </tr>\n",
       "    <tr>\n",
       "      <th>203497</th>\n",
       "      <td>62.546816</td>\n",
       "    </tr>\n",
       "    <tr>\n",
       "      <th>202962</th>\n",
       "      <td>61.702128</td>\n",
       "    </tr>\n",
       "    <tr>\n",
       "      <th>201949</th>\n",
       "      <td>61.414791</td>\n",
       "    </tr>\n",
       "  </tbody>\n",
       "</table>\n",
       "</div>"
      ],
      "text/plain": [
       "SHOT_RESULT  Shooting Accuracy\n",
       "player_id                     \n",
       "201599               71.246819\n",
       "2199                 67.647059\n",
       "203497               62.546816\n",
       "202962               61.702128\n",
       "201949               61.414791"
      ]
     },
     "execution_count": 31,
     "metadata": {},
     "output_type": "execute_result"
    }
   ],
   "source": [
    "print(\"Top 5 players with the HIGHEST shooting accuracy:\")\n",
    "df_sh_accuracy.head(5)"
   ]
  },
  {
   "cell_type": "code",
   "execution_count": 32,
   "metadata": {},
   "outputs": [
    {
     "name": "stdout",
     "output_type": "stream",
     "text": [
      "Top 5 players with the LOWEST shooting accuracy:\n"
     ]
    },
    {
     "data": {
      "text/html": [
       "<div>\n",
       "<style scoped>\n",
       "    .dataframe tbody tr th:only-of-type {\n",
       "        vertical-align: middle;\n",
       "    }\n",
       "\n",
       "    .dataframe tbody tr th {\n",
       "        vertical-align: top;\n",
       "    }\n",
       "\n",
       "    .dataframe thead th {\n",
       "        text-align: right;\n",
       "    }\n",
       "</style>\n",
       "<table border=\"1\" class=\"dataframe\">\n",
       "  <thead>\n",
       "    <tr style=\"text-align: right;\">\n",
       "      <th>SHOT_RESULT</th>\n",
       "      <th>Shooting Accuracy</th>\n",
       "    </tr>\n",
       "    <tr>\n",
       "      <th>player_id</th>\n",
       "      <th></th>\n",
       "    </tr>\n",
       "  </thead>\n",
       "  <tbody>\n",
       "    <tr>\n",
       "      <th>101126</th>\n",
       "      <td>34.158416</td>\n",
       "    </tr>\n",
       "    <tr>\n",
       "      <th>203917</th>\n",
       "      <td>33.854167</td>\n",
       "    </tr>\n",
       "    <tr>\n",
       "      <th>1713</th>\n",
       "      <td>33.215548</td>\n",
       "    </tr>\n",
       "    <tr>\n",
       "      <th>201196</th>\n",
       "      <td>32.876712</td>\n",
       "    </tr>\n",
       "    <tr>\n",
       "      <th>2034</th>\n",
       "      <td>30.851064</td>\n",
       "    </tr>\n",
       "  </tbody>\n",
       "</table>\n",
       "</div>"
      ],
      "text/plain": [
       "SHOT_RESULT  Shooting Accuracy\n",
       "player_id                     \n",
       "101126               34.158416\n",
       "203917               33.854167\n",
       "1713                 33.215548\n",
       "201196               32.876712\n",
       "2034                 30.851064"
      ]
     },
     "execution_count": 32,
     "metadata": {},
     "output_type": "execute_result"
    }
   ],
   "source": [
    "print(\"Top 5 players with the LOWEST shooting accuracy:\")\n",
    "df_sh_accuracy.tail(5)"
   ]
  },
  {
   "cell_type": "markdown",
   "metadata": {},
   "source": [
    "## Q3. Analyze the Relationship between shooting distance (SHOT_DIST) and shooting success (SHOT_RESULT). **(10 Pts)**\n",
    "* Bin the shots into categories based on distance. **STATE AND REASON ABOUT YOUR LOGIC HERE!** (How to apply binning)\n",
    "* Calculate the shooting accuracy for each bin. \n",
    "* **COMMENT** on your findinds."
   ]
  },
  {
   "cell_type": "markdown",
   "metadata": {},
   "source": [
    "### Binning ###\n",
    "- In order to bin a numerical data to discrete categories, we need to specify the bin size.  \n",
    "- There are different binning rules such as Sturges' Rule,Scott's Rule etc.  \n",
    "\n",
    "If we are to use Sturges' Rule ->\n",
    "\n",
    "The formula is:\n",
    "- K = 1 + 3. 322 logN  \n",
    "where:\n",
    "K = number of class intervals (bins).  \n",
    "N = number of observations in the set.  \n",
    "log = natural logarithm of the number."
   ]
  },
  {
   "cell_type": "code",
   "execution_count": 33,
   "metadata": {},
   "outputs": [
    {
     "name": "stdout",
     "output_type": "stream",
     "text": [
      "Maximum value of shooting distance :  47.2\n",
      "Min value of shooting distance :  0.0\n"
     ]
    },
    {
     "data": {
      "text/plain": [
       "<Axes: title={'center': 'Histogram of Shot Distance'}, xlabel='Shot Distance', ylabel='Frequency'>"
      ]
     },
     "execution_count": 33,
     "metadata": {},
     "output_type": "execute_result"
    },
    {
     "data": {
      "image/png": "[encoded data removed]",
      "text/plain": [
       "<Figure size 2000x500 with 1 Axes>"
      ]
     },
     "metadata": {},
     "output_type": "display_data"
    }
   ],
   "source": [
    "#Choosing the bin size for distances by Sturges' Rule.\n",
    "N=df_merged['SHOT_DIST'].count() # 128069\n",
    "k = int(1 + 3.322 * np.log(N)) # 40.06\n",
    "print(\"Maximum value of shooting distance : \",df_merged['SHOT_DIST'].max()) # 47.2\n",
    "print(\"Min value of shooting distance : \",df_merged['SHOT_DIST'].min()) # 0.0\n",
    "\n",
    "#Creating a new column with binned shot distances.\n",
    "df_merged['SHOT_DIST_BINNED'] = pd.cut(df_merged['SHOT_DIST'], bins=k,include_lowest=True)\n",
    "\n",
    "#Creating a histogram of shot distances.\n",
    "import matplotlib.pyplot as plt\n",
    "plt.xticks(np.arange(0, 50, 1))\n",
    "plt.xlabel('Shot Distance')\n",
    "plt.ylabel('Frequency')\n",
    "plt.title('Histogram of Shot Distance')\n",
    "df_merged['SHOT_DIST'].hist(bins=k, figsize=(20,5))"
   ]
  },
  {
   "cell_type": "code",
   "execution_count": 34,
   "metadata": {},
   "outputs": [
    {
     "name": "stderr",
     "output_type": "stream",
     "text": [
      "C:\\Users\\demir\\AppData\\Local\\Temp\\ipykernel_30228\\2893344465.py:2: FutureWarning: The default of observed=False is deprecated and will be changed to True in a future version of pandas. Pass observed=False to retain current behavior or observed=True to adopt the future default and silence this warning.\n",
      "  df_dist_res= df_merged.groupby('SHOT_DIST_BINNED')['SHOT_RESULT'].value_counts(normalize=True).unstack()\n"
     ]
    },
    {
     "data": {
      "text/plain": [
       "Text(0.5, 1.0, 'Shooting Accuracy by Shot Distance')"
      ]
     },
     "execution_count": 34,
     "metadata": {},
     "output_type": "execute_result"
    },
    {
     "data": {
      "image/png": "[encoded data removed]",
      "text/plain": [
       "<Figure size 1600x800 with 1 Axes>"
      ]
     },
     "metadata": {},
     "output_type": "display_data"
    }
   ],
   "source": [
    "#Creating a dataframe with shooting accuracy grouped by shot distance.\n",
    "df_dist_res= df_merged.groupby('SHOT_DIST_BINNED')['SHOT_RESULT'].value_counts(normalize=True).unstack()\n",
    "df_dist_res['Shooting Accuracy']=df_dist_res['made']*100\n",
    "df_dist_res.drop(columns=['made','missed'], inplace=True)\n",
    "\n",
    "#Creating a bar chart of shooting accuracy by shot distance.\n",
    "df_dist_res['Shooting Accuracy'].plot(kind='bar', figsize=(16,8))\n",
    "plt.xlabel('Shot Distance')\n",
    "plt.ylabel('Shooting Accuracy')\n",
    "plt.yticks(np.arange(0, 105, 5))\n",
    "plt.title('Shooting Accuracy by Shot Distance')\n"
   ]
  },
  {
   "cell_type": "markdown",
   "metadata": {},
   "source": [
    "## Operations ##\n",
    "\n",
    "1. Feature 'shot_dist' is parsed into 40 bins.(explained why it is 40 in 'Binning' section)  \n",
    "\n",
    "2. Histogram of 'shot_dist' is plotted.  \n",
    "\n",
    "3. New dataframe is created via grouping by the 'shot_dist_bin' and counting normalized(values vary between 0 - 1) values in 'shot_results' column.  \n",
    "\n",
    "4. Accuracy-Shot Distance bar graph is plotted.  \n",
    "\n",
    "\n",
    "## Findings ##\n",
    "\n",
    "1. By looking at the histogram of *'shot_dist'*, we can obtain that **most of the shots** has been made in a **short distance like (2.36-3.54)** or a **further distance like (23.6-24.8)**.  \n",
    "\n",
    "2. As the bar graph of Shot Distance and Shooting Accuracy inspected, we can see that **the most accurate shooting** is generally happened when **the distance is between 0 and 3.54 (first 3 bins)**. After these bins , accuracy starts to **fall** down in a *negative trend*.  \n",
    "\n",
    "3. Personal Note: I've found it strange that the **accuracy in the last bin (46.02 to 47.2) is higher than the ones in shorter distances(i.e. 29.50 - 30.68)**. I do not think that is an outlier but i think that's an obvious anomaly to detect. \n"
   ]
  },
  {
   "cell_type": "markdown",
   "metadata": {},
   "source": [
    "# 3rd Set of Questions on SQL - **using sqlite3 library!** **(40 Pts)**\n",
    "\n",
    "* **Dataset Path: \"Data/annots.csv\"**\n",
    "\n",
    "Here you are given a file: annots.csv, with the protein - gene ontology (GO) term associations/annotations. Gene ontology is a framework, representing the properties of genes and proteins. This is basically a Graph - more spesifically a directed acyclic graph (DAG), representing a level-ordered hierarchy with three subgraphs: MF, CC, and BP. Here, **each** node in the graph, which we term as **\"GO Term\" corresponds to a function of a protein.**\n",
    "\n",
    "* If protein is annotated with a GO Term, then the protein has the function represented by this GO Term. \n",
    "* A protein can be and most of the time is annotated with multiple GO terms, and vice versa. \n",
    "\n",
    "In the annots.csv file, we have the annotation data, where each row corresponds to a protein - GO term annotation with the following columns: ProteinID,ProtSeq, GO_ID, Sub_Graph, Level. ProteinID is the specifier of the protein and the ProtSeq is the aminoacid sequence of this protein. GO_ID, Sub_Graph, and Level are properties of a GO Term. \n",
    "\n",
    "**Now, we want to store this data in a relational database, with the following table schemas:**"
   ]
  },
  {
   "cell_type": "markdown",
   "metadata": {},
   "source": [
    "## Table 1: GoTerms:\n",
    "\n",
    "| Column   | Type    | Key        | Description                |\n",
    "|----------|---------|------------|----------------------------|\n",
    "| GoID     | TEXT    | PRIMARY KEY| Gene Ontology Identifier   |\n",
    "| SubGraph | TEXT    |            | Subgraph Type (BP, MF, CC) |\n",
    "| Level    | INTEGER |            | Ontology level             |\n"
   ]
  },
  {
   "cell_type": "markdown",
   "metadata": {},
   "source": [
    "## Table 2: Proteins\n",
    "\n",
    "| Column     | Type | Key        | Description                |\n",
    "|------------|------|------------|----------------------------|\n",
    "| ProteinID  | TEXT | PRIMARY KEY| Unique Protein Identifier  |\n",
    "| ProtSeq  | TEXT | | Amino Acid Sequence |"
   ]
  },
  {
   "cell_type": "markdown",
   "metadata": {},
   "source": [
    "## Table 3: Annotations\n",
    "\n",
    "| Column    | Type | Key                       | Description               |\n",
    "|-----------|------|---------------------------|---------------------------|\n",
    "| GoID      | TEXT | PRIMARY KEY, FOREIGN KEY  | Gene Ontology Identifier  |\n",
    "| ProteinID | TEXT | PRIMARY KEY, FOREIGN KEY  | Unique Protein Identifier |\n"
   ]
  },
  {
   "cell_type": "markdown",
   "metadata": {},
   "source": [
    "## Q1. Read the csv file and create this DB  **(10 Pts)**"
   ]
  },
  {
   "cell_type": "code",
   "execution_count": 35,
   "metadata": {},
   "outputs": [],
   "source": [
    "# read file into db and create a db using sqlite3\n",
    "conn=sqlite3.connect('Data/q3_annots.db')\n",
    "df_annot=pd.read_csv('Data/annots.csv')\n",
    "\n",
    "df_annot.head()\n",
    "\n",
    "df_annot.to_sql('annots_total', conn, if_exists='replace', index=False)\n",
    "\n",
    "df_annot[['ProteinID','ProtSeq']].to_sql('proteins_old', conn, if_exists='replace', index=False)\n",
    "df_annot[['GO_ID','Sub_Graph','Level']].to_sql('goterms_old', conn, if_exists='replace', index=False)\n",
    "df_annot[['GO_ID','ProteinID']].to_sql('annots_old', conn, if_exists='replace', index=False)\n",
    "#df_read.to_sql('annots_db2', conn, if_exists='replace', index=False)\n",
    "cursor = conn.cursor()"
   ]
  },
  {
   "cell_type": "code",
   "execution_count": 36,
   "metadata": {},
   "outputs": [
    {
     "data": {
      "text/plain": [
       "<sqlite3.Cursor at 0x1bca5d8c8c0>"
      ]
     },
     "execution_count": 36,
     "metadata": {},
     "output_type": "execute_result"
    }
   ],
   "source": [
    "cursor.execute('''\n",
    "               CREATE TABLE IF NOT EXISTS Proteins(\n",
    "               ProteinID TEXT ,\n",
    "               ProtSeq TEXT,\n",
    "               PRIMARY KEY(ProteinID));'''\n",
    ")\n",
    "\n",
    "cursor.execute('''\n",
    "               CREATE TABLE IF NOT EXISTS GoTerms(\n",
    "               GoID TEXT,\n",
    "               SubGraph TEXT,\n",
    "               Level INTEGER,\n",
    "               PRIMARY KEY(GoID));'''\n",
    ")\n",
    "\n",
    "cursor.execute('''\n",
    "               CREATE TABLE IF NOT EXISTS Annotations(\n",
    "               GoID TEXT,\n",
    "               ProteinID TEXT ,\n",
    "               FOREIGN KEY (GoID) REFERENCES GoTerms(GoID),\n",
    "               FOREIGN KEY (ProteinID) REFERENCES Proteins(ProteinID),\n",
    "               PRIMARY KEY(GoID,ProteinID) );'''\n",
    ")"
   ]
  },
  {
   "cell_type": "code",
   "execution_count": 37,
   "metadata": {},
   "outputs": [
    {
     "data": {
      "text/plain": [
       "[('annots_total',),\n",
       " ('proteins_old',),\n",
       " ('goterms_old',),\n",
       " ('annots_old',),\n",
       " ('Proteins',),\n",
       " ('GoTerms',),\n",
       " ('Annotations',)]"
      ]
     },
     "execution_count": 37,
     "metadata": {},
     "output_type": "execute_result"
    }
   ],
   "source": [
    "cursor.execute('''SELECT name FROM sqlite_master WHERE type='table';''')\n",
    "cursor.fetchall()"
   ]
  },
  {
   "cell_type": "code",
   "execution_count": 43,
   "metadata": {},
   "outputs": [
    {
     "data": {
      "text/plain": [
       "[(0, 'GoID', 'TEXT', 0, None, 1),\n",
       " (1, 'Sub_Graph', 'TEXT', 0, None, 0),\n",
       " (2, 'Level', 'INTEGER', 0, None, 0)]"
      ]
     },
     "execution_count": 43,
     "metadata": {},
     "output_type": "execute_result"
    }
   ],
   "source": [
    "cursor.execute('''SELECT * FROM Annotations LIMIT 5;''')\n",
    "cursor.fetchall()\n",
    "cursor.execute(''' pragma table_info(GoTerms);''')\n",
    "cursor.fetchall()\n"
   ]
  },
  {
   "cell_type": "code",
   "execution_count": 41,
   "metadata": {},
   "outputs": [
    {
     "data": {
      "text/plain": [
       "[]"
      ]
     },
     "execution_count": 41,
     "metadata": {},
     "output_type": "execute_result"
    }
   ],
   "source": [
    "cursor.execute(''' pragma table_info('annots_total');''')\n",
    "cursor.fetchall()\n",
    "cursor.execute('''\n",
    "               CREATE TABLE IF NOT EXISTS copy_annots(\n",
    "               GoID TEXT,\n",
    "               ProteinID TEXT ,\n",
    "               ProtSeq TEXT,\n",
    "                Sub_Graph TEXT,\n",
    "                Level INTEGER,\n",
    "               FOREIGN KEY (GoID) REFERENCES GoTerms(GoID),\n",
    "               FOREIGN KEY (ProteinID) REFERENCES Proteins(ProteinID),\n",
    "               PRIMARY KEY(GoID,ProteinID) );'''\n",
    ")\n",
    "\n",
    "cursor.execute(''' INSERT INTO copy_annots (GoID, ProteinID, ProtSeq, Sub_Graph, Level)\n",
    "                    SELECT Annotations.GoID, Annotations.ProteinID, annots_total.ProtSeq, annots_total.Sub_Graph, annots_total.Level\n",
    "                    FROM annots_total , Annotations\n",
    "                    WHERE Annotations.GoID = annots_total.GO_ID AND Annotations.ProteinID = annots_total.ProteinID;\n",
    "               \n",
    "               ''')\n",
    "cursor.fetchall()"
   ]
  },
  {
   "cell_type": "code",
   "execution_count": 42,
   "metadata": {},
   "outputs": [
    {
     "ename": "OperationalError",
     "evalue": "table GoTerms has no column named SubGraph",
     "output_type": "error",
     "traceback": [
      "\u001b[1;31m---------------------------------------------------------------------------\u001b[0m",
      "\u001b[1;31mOperationalError\u001b[0m                          Traceback (most recent call last)",
      "\u001b[1;32mc:\\Users\\demir\\OneDrive\\Masaüstü\\Alperen Demirci\\Hacettepe\\AIN214\\Assignment1_2023.ipynb Cell 61\u001b[0m line \u001b[0;36m1\n\u001b[1;32m----> <a href='vscode-notebook-cell:/c%3A/Users/demir/OneDrive/Masa%C3%BCst%C3%BC/Alperen%20Demirci/Hacettepe/AIN214/Assignment1_2023.ipynb#Y114sZmlsZQ%3D%3D?line=0'>1</a>\u001b[0m cursor\u001b[39m.\u001b[39;49mexecute(\u001b[39m'''\u001b[39;49m\u001b[39m INSERT INTO GoTerms (GoID,SubGraph, Level)\u001b[39;49m\n\u001b[0;32m      <a href='vscode-notebook-cell:/c%3A/Users/demir/OneDrive/Masa%C3%BCst%C3%BC/Alperen%20Demirci/Hacettepe/AIN214/Assignment1_2023.ipynb#Y114sZmlsZQ%3D%3D?line=1'>2</a>\u001b[0m \u001b[39m                    SELECT copy_annots.G0_ID, copy_annots.Sub_Graph, copy_annots.Level\u001b[39;49m\n\u001b[0;32m      <a href='vscode-notebook-cell:/c%3A/Users/demir/OneDrive/Masa%C3%BCst%C3%BC/Alperen%20Demirci/Hacettepe/AIN214/Assignment1_2023.ipynb#Y114sZmlsZQ%3D%3D?line=2'>3</a>\u001b[0m \u001b[39m                    FROM copy_annots , Annotations\u001b[39;49m\n\u001b[0;32m      <a href='vscode-notebook-cell:/c%3A/Users/demir/OneDrive/Masa%C3%BCst%C3%BC/Alperen%20Demirci/Hacettepe/AIN214/Assignment1_2023.ipynb#Y114sZmlsZQ%3D%3D?line=3'>4</a>\u001b[0m \u001b[39m                    WHERE Annotations.GoID = copy_annots.GO_ID AND Annotations.ProteinID = copy_annots.ProteinID;\u001b[39;49m\n\u001b[0;32m      <a href='vscode-notebook-cell:/c%3A/Users/demir/OneDrive/Masa%C3%BCst%C3%BC/Alperen%20Demirci/Hacettepe/AIN214/Assignment1_2023.ipynb#Y114sZmlsZQ%3D%3D?line=4'>5</a>\u001b[0m \u001b[39m               \u001b[39;49m\n\u001b[0;32m      <a href='vscode-notebook-cell:/c%3A/Users/demir/OneDrive/Masa%C3%BCst%C3%BC/Alperen%20Demirci/Hacettepe/AIN214/Assignment1_2023.ipynb#Y114sZmlsZQ%3D%3D?line=5'>6</a>\u001b[0m \u001b[39m               \u001b[39;49m\u001b[39m'''\u001b[39;49m)\n",
      "\u001b[1;31mOperationalError\u001b[0m: table GoTerms has no column named SubGraph"
     ]
    }
   ],
   "source": [
    "cursor.execute(''' INSERT INTO GoTerms (GoID,SubGraph, Level)\n",
    "                    SELECT copy_annots.G0_ID, copy_annots.Sub_Graph, copy_annots.Level\n",
    "                    FROM copy_annots , Annotations\n",
    "                    WHERE Annotations.GoID = copy_annots.GO_ID AND Annotations.ProteinID = copy_annots.ProteinID;\n",
    "               \n",
    "               ''')"
   ]
  },
  {
   "cell_type": "code",
   "execution_count": 93,
   "metadata": {},
   "outputs": [
    {
     "ename": "IntegrityError",
     "evalue": "UNIQUE constraint failed: GoTerms.GoID",
     "output_type": "error",
     "traceback": [
      "\u001b[1;31m---------------------------------------------------------------------------\u001b[0m",
      "\u001b[1;31mIntegrityError\u001b[0m                            Traceback (most recent call last)",
      "\u001b[1;32mc:\\Users\\demir\\OneDrive\\Masaüstü\\Alperen Demirci\\Hacettepe\\AIN214\\Assignment1_2023.ipynb Cell 58\u001b[0m line \u001b[0;36m4\n\u001b[0;32m      <a href='vscode-notebook-cell:/c%3A/Users/demir/OneDrive/Masa%C3%BCst%C3%BC/Alperen%20Demirci/Hacettepe/AIN214/Assignment1_2023.ipynb#Y121sZmlsZQ%3D%3D?line=0'>1</a>\u001b[0m \u001b[39m#cursor.execute(''' INSERT INTO Annotations SELECT * FROM annots_old;''')\u001b[39;00m\n\u001b[0;32m      <a href='vscode-notebook-cell:/c%3A/Users/demir/OneDrive/Masa%C3%BCst%C3%BC/Alperen%20Demirci/Hacettepe/AIN214/Assignment1_2023.ipynb#Y121sZmlsZQ%3D%3D?line=1'>2</a>\u001b[0m \u001b[39m#cursor.execute(''' DELETE FROM Annotations;''')\u001b[39;00m\n\u001b[0;32m      <a href='vscode-notebook-cell:/c%3A/Users/demir/OneDrive/Masa%C3%BCst%C3%BC/Alperen%20Demirci/Hacettepe/AIN214/Assignment1_2023.ipynb#Y121sZmlsZQ%3D%3D?line=2'>3</a>\u001b[0m \u001b[39m#cursor.execute(''' INSERT INTO Proteins SELECT * FROM proteins_old;''')\u001b[39;00m\n\u001b[1;32m----> <a href='vscode-notebook-cell:/c%3A/Users/demir/OneDrive/Masa%C3%BCst%C3%BC/Alperen%20Demirci/Hacettepe/AIN214/Assignment1_2023.ipynb#Y121sZmlsZQ%3D%3D?line=3'>4</a>\u001b[0m cursor\u001b[39m.\u001b[39;49mexecute(\u001b[39m'''\u001b[39;49m\u001b[39m INSERT INTO GoTerms SELECT * FROM goterms_old;\u001b[39;49m\u001b[39m'''\u001b[39;49m)\n\u001b[0;32m      <a href='vscode-notebook-cell:/c%3A/Users/demir/OneDrive/Masa%C3%BCst%C3%BC/Alperen%20Demirci/Hacettepe/AIN214/Assignment1_2023.ipynb#Y121sZmlsZQ%3D%3D?line=4'>5</a>\u001b[0m cursor\u001b[39m.\u001b[39mexecute(\u001b[39m'''\u001b[39m\u001b[39m SELECT * FROM GoTerms;\u001b[39m\u001b[39m'''\u001b[39m)\n\u001b[0;32m      <a href='vscode-notebook-cell:/c%3A/Users/demir/OneDrive/Masa%C3%BCst%C3%BC/Alperen%20Demirci/Hacettepe/AIN214/Assignment1_2023.ipynb#Y121sZmlsZQ%3D%3D?line=5'>6</a>\u001b[0m cursor\u001b[39m.\u001b[39mfetchall()\n",
      "\u001b[1;31mIntegrityError\u001b[0m: UNIQUE constraint failed: GoTerms.GoID"
     ]
    }
   ],
   "source": [
    "#cursor.execute(''' INSERT INTO Annotations SELECT * FROM annots_old;''')\n",
    "#cursor.execute(''' DELETE FROM Annotations;''')\n",
    "#cursor.execute(''' INSERT INTO Proteins SELECT * FROM proteins_old;''')\n",
    "cursor.execute(''' INSERT INTO GoTerms SELECT * FROM goterms_old;''')\n",
    "cursor.execute(''' SELECT * FROM GoTerms;''')\n",
    "cursor.fetchall()"
   ]
  },
  {
   "cell_type": "markdown",
   "metadata": {},
   "source": [
    "## Q2. Define a function to extract all GO terms associated with a given amino acid sequence (ProtSeq), ensuring that the GO terms satisfy the following criteria: they are annotated with at least 50 proteins in MF and CC subgraphs, and 100 proteins in the BP subgraph.. **(10 Pts)**"
   ]
  },
  {
   "cell_type": "code",
   "execution_count": 132,
   "metadata": {},
   "outputs": [],
   "source": [
    "prot_seq = \"WYTWADEAHAKNIVMCFRMHGEAYEKAAVYMNRSPEFMGCRADNNDEYDV\" #  example protein sequence\n",
    "\n",
    "# function to extract the annotated GO terms with the above specs\n",
    "def extract_go_terms(prot_seq):\n",
    "    results = []\n",
    "    # ADD YOUR CODE HERE\n",
    "    return results"
   ]
  },
  {
   "cell_type": "markdown",
   "metadata": {},
   "source": [
    "## Q3. Print the average number of annotations a GO terms has for each level in each subgraph (MF, CC, and BP) **(10 Pts)**"
   ]
  },
  {
   "cell_type": "code",
   "execution_count": 133,
   "metadata": {},
   "outputs": [],
   "source": [
    "# Print the avg # of annots"
   ]
  },
  {
   "cell_type": "markdown",
   "metadata": {},
   "source": [
    "## Q4. Identify the ProteinID with the longest ProtSeq within the Proteins table. Modify its ProtSeq to half its original length by trimming the sequence, update the ProteinID to \"trimmed\", and display the updated ProteinID and ProtSeq with its GO Term annotations. **(10 Pts)**"
   ]
  },
  {
   "cell_type": "code",
   "execution_count": 134,
   "metadata": {},
   "outputs": [],
   "source": [
    "# find and trim the longest sequence, displaying the updated ProtID and ProtSeq, and its annotated GO Terms"
   ]
  },
  {
   "cell_type": "markdown",
   "metadata": {},
   "source": [
    "# PLAGIARISM\n",
    "All work on assignments must be done individually. You are encouraged to discuss\n",
    "the given assignments with your classmates, but these discussions should be carried out\n",
    "in an abstract way. That is, discussions related to a particular solution to a specific prob-\n",
    "lem (either in actual code or in pseudocode) will not be tolerated. In short, turning\n",
    "in someone else’s work (including work available on the internet), in whole or in part, as\n",
    "your own will be considered as a violation of academic integrity. Please note that the\n",
    "former conditions also hold for the material attained using AI tools, including ChatGPT,\n",
    "GitHub Copilot, etc."
   ]
  }
 ],
 "metadata": {
  "kernelspec": {
   "display_name": "Python 3 (ipykernel)",
   "language": "python",
   "name": "python3"
  },
  "language_info": {
   "codemirror_mode": {
    "name": "ipython",
    "version": 3
   },
   "file_extension": ".py",
   "mimetype": "text/x-python",
   "name": "python",
   "nbconvert_exporter": "python",
   "pygments_lexer": "ipython3",
   "version": "3.11.6"
  }
 },
 "nbformat": 4,
 "nbformat_minor": 2
}
