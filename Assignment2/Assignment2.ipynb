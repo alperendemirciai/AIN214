{
 "cells": [
  {
   "cell_type": "markdown",
   "metadata": {},
   "source": [
    "# AIN 214 - PA2 - FALL 2023\n",
    "\n",
    "BELOW MD CELLS CONTAIN THE QUESTIONS YOU ARE ASKED TO IMPLEMENT WITHIN THE CONTEXT OF THIS HW. PLEASE FILL IN THE CELLS FOR THE ANSWERS RIGHT BELOW THE MD CELL OF THE QUESTION. YOU CAN ADD AS MANY CELLS AS YOU WANT, BE IT CODE OR MD, SO LONG AS YOU PROVIDE AN UNDERSTANDABLE AND TRACBLE REPORTING. PLEASE ADD COMMENTS ON YOUR CODES. ALSO, FILL IN MD CELLS WHERE YOU ARE ASKED YO COMMENT ON YOUR RESULTS OR EPXLAIN YOUR REASONING. ALSO, PLEASE DO NO HESITATE TO USE THEM FOR YOUR OWN REPORTING PURPOSES. PLEASE KEEP IN MIND THAT REPORTING IS A KEY STEP IN DATA SCIENCE.\n",
    "\n",
    "Deadline: 17.11.2023 (23:59:59)\n",
    "\n",
    "Submission: Submit your Jupyter Notebooks via https://submit.cs.hacettepe.edu.tr/"
   ]
  },
  {
   "cell_type": "markdown",
   "metadata": {},
   "source": [
    "# THE STUDENT INFO\n",
    "# Student Name: Alperen Demirci \n",
    "# Student ID:  2220765010"
   ]
  },
  {
   "cell_type": "code",
   "execution_count": 2,
   "metadata": {},
   "outputs": [],
   "source": [
    "#imports\n",
    "import pandas as pd\n",
    "import matplotlib.pyplot as plt \n",
    "import seaborn as sns\n",
    "import numpy as np\n",
    "import sqlite3"
   ]
  },
  {
   "cell_type": "markdown",
   "metadata": {},
   "source": [
    "# 1st SET OF QUESTIONS: Skyward Travel Agency Data Management Project\n",
    "\n",
    "Skyward is a premier travel agency aiming to provide seamless experiences for its clients. As business is booming, the agency has a myriad of data points to keep track of, and they need an efficient way to manage it all. Here's what they're dealing with:\n",
    "\n",
    "- **Clients' Database**: Skyward has a growing list of clients. For each client, they maintain records of their full name, contact email, and phone number. Every client is assigned a unique client ID for efficient tracking and personalized service.\n",
    "\n",
    "- **Airline Partnerships**: Skyward has collaborations with several airline companies, each identified by a unique airline ID. Beyond just names, they have comprehensive details of all the flights offered by these airline companies. This flight data includes flight numbers, associated airline IDs, departure cities, destinations, and dates of operation.\n",
    "\n",
    "- **Hotel Affiliations**: Skyward's clients need places to stay, leading to collaborations with multiple hotels. Each hotel is cataloged with a unique ID, alongside its name, geographical location, and a client feedback rating ranging from 1 to 5.\n",
    "\n",
    "- **Travel Bookings**: Skyward's primary service involves facilitating travel bookings. Every booking, be it for a flight or hotel, gets recorded. Flight bookings include the specific flight number, the client's ID making the booking, and the booking date. Hotel bookings aren't any different with records of the hotel ID, the client's ID, and the duration of stay (check-in and check-out dates).\n",
    "\n",
    "- **Feedback Mechanism**: Feedback drives Skyward's quality assurance. Clients are encouraged to leave reviews post their trips. For airlines, each review captures the client's ID, the reviewed airline's ID, and the feedback text. Hotel feedback mirrors this, substituting airlines for hotels.\n",
    "\n",
    "**Data Provision:**\n",
    "You are provided with unnormalized `feedback_details_df` and `bookings_df` datasets in the form of CSV files.\n",
    "\n",
    "**Your Task**:\n",
    "\n",
    "You should design your own DB schema meeting the above-stated constraints. There are multiple ways to design your tables; you only need to ensure that the design fits the outlined requirements. Begin by clearly defining your schema as tables. Once the schema is established, you will tackle a set of SQL tasks that will be provided separately. The SQL tasks will involve writing queries to extract, modify, or add data based on the designed schema. Good luck! \n",
    "\n",
    "**Note: Use sqite3 python package for DB**\n"
   ]
  },
  {
   "cell_type": "markdown",
   "metadata": {},
   "source": [
    "## Q1. Design your schema as tables. Draw the necessary tables with the appropriate attributes. State the primary keys, foreign keys (and their references). Create the tables in your schema in the database. (10 Points)\n",
    "\n",
    "There is no single soluion here, come up with your own design."
   ]
  },
  {
   "cell_type": "markdown",
   "metadata": {},
   "source": [
    "\\<**ER Diagram**\\>\n",
    "\n",
    "Customers:\n",
    "| Field         | Type/Constraints                           |\n",
    "|---------------|--------------------------------------------|\n",
    "| CustomerID     | Primary Key , INT                          |\n",
    "| CustomerName     | TEXT                         |\n",
    "| CustomerEmail     | TEXT                         |\n",
    "| CustomerPhone     | TEXT                        |\n",
    "\n",
    "Flights:\n",
    "| Field         | Type/Constraints                           |\n",
    "|---------------|--------------------------------------------|\n",
    "| FlightID     | Primary Key , REAL                          |\n",
    "| FlightDeparture     | TEXT                         |\n",
    "| FlightDestination     | TEXT                         |\n",
    "| FlightDate     | TEXT                        |\n",
    "| AirplaneID     | REAL                        |\n",
    "\n",
    "Hotels:\n",
    "| Field         | Type/Constraints                           |\n",
    "|---------------|--------------------------------------------|\n",
    "| HotelID     | Primary Key , REAL                          |\n",
    "| HotelName     | TEXT                         |\n",
    "| HotelLocation     | TEXT                         |\n",
    "| HotelRating     | REAL                        |\n",
    "\n",
    "Airlines:\n",
    "| Field         | Type/Constraints                           |\n",
    "|---------------|--------------------------------------------|\n",
    "| AirlineID     | Primary Key , REAL                          |\n",
    "| FlightID     | Foreign Key REFERENCES Flights(FlightID), REAL                          |\n",
    "| AirlineName     | TEXT                         |\n",
    "\n",
    "Bookings:\n",
    "| Field         | Type/Constraints                           |\n",
    "|---------------|--------------------------------------------|\n",
    "| BookingID     | Primary Key , INT                          |\n",
    "| CustomerID     | Foreign Key REFERENCES Customers(CustomerID), INT                         |\n",
    "| AirlineID     | Foreign Key REFERENCES Airlines(AirlineID), REAL                        |\n",
    "| HotelID     | Foreign Key REFERENCES Hotels(HotelID), REAL                         |\n",
    "\n",
    "Feedbacks:\n",
    "| Field         | Type/Constraints                           |\n",
    "|---------------|--------------------------------------------|\n",
    "| FeedbackID     | Primary Key , INT                          |\n",
    "| CustomerID     | Foreign Key REFERENCES Customers(CustomerID), INT                         |\n",
    "| AirlineID     | Foreign Key REFERENCES Airlines(AirlineID), REAL                        |\n",
    "| HotelID     | Foreign Key REFERENCES Hotels(HotelID), REAL                         |\n",
    "| Review     | TEXT                         |\n"
   ]
  },
  {
   "cell_type": "code",
   "execution_count": 3,
   "metadata": {},
   "outputs": [],
   "source": [
    "#Creating a connection to stadmp.db.\n",
    "conn = sqlite3.connect('stadmp.db')\n",
    "\n",
    "#Creating a df for transforming csv data to sql table.\n",
    "df_booking = pd.read_csv('BookingDetails.csv')\n",
    "df_feedback = pd.read_csv('FeedbackDetails.csv')\n",
    "\n",
    "#Converting dfs into sql schemas\n",
    "df_booking.to_sql('booking', conn, if_exists='replace', index=False)\n",
    "df_feedback.to_sql('feedback', conn, if_exists='replace', index=False)\n",
    "\n",
    "#Setting c as the connection cursor.\n",
    "c = conn.cursor()"
   ]
  },
  {
   "cell_type": "code",
   "execution_count": 4,
   "metadata": {},
   "outputs": [
    {
     "data": {
      "text/plain": [
       "[(0, 'BookingID', 'INTEGER', 0, None, 0),\n",
       " (1, 'CustomerID', 'INTEGER', 0, None, 0),\n",
       " (2, 'CustomerName', 'TEXT', 0, None, 0),\n",
       " (3, 'CustomerEmail', 'TEXT', 0, None, 0),\n",
       " (4, 'CustomerPhone', 'TEXT', 0, None, 0),\n",
       " (5, 'FlightID', 'REAL', 0, None, 0),\n",
       " (6, 'Flight_Departure', 'TEXT', 0, None, 0),\n",
       " (7, 'Flight_Destination', 'TEXT', 0, None, 0),\n",
       " (8, 'Flight_Date', 'TEXT', 0, None, 0),\n",
       " (9, 'AirplaneID', 'REAL', 0, None, 0),\n",
       " (10, 'AirlineName', 'TEXT', 0, None, 0),\n",
       " (11, 'HotelID', 'REAL', 0, None, 0),\n",
       " (12, 'HotelName', 'TEXT', 0, None, 0),\n",
       " (13, 'HotelLocation', 'TEXT', 0, None, 0),\n",
       " (14, 'HotelRating', 'REAL', 0, None, 0),\n",
       " (15, 'AirlineID', 'REAL', 0, None, 0)]"
      ]
     },
     "execution_count": 4,
     "metadata": {},
     "output_type": "execute_result"
    }
   ],
   "source": [
    "#First things first we need to see all of the columns for splitting them into different tables.\n",
    "c.execute(\"PRAGMA table_info(booking)\")\n",
    "c.fetchall()"
   ]
  },
  {
   "cell_type": "markdown",
   "metadata": {},
   "source": [
    "Now we have to decide which tables we will create.\n",
    "  \n",
    "Tables/Schemas:\n",
    "  \n",
    "  1. Customers\n",
    "  2. Flights\n",
    "  3. Hotels \n",
    "  4. Airlines\n",
    "  5. Bookings\n",
    "  6. Feedbacks"
   ]
  },
  {
   "cell_type": "code",
   "execution_count": 5,
   "metadata": {},
   "outputs": [
    {
     "data": {
      "text/plain": [
       "[(0, 'CustomerID', 'INTEGER', 0, None, 1),\n",
       " (1, 'CustomerName', 'TEXT', 0, None, 0),\n",
       " (2, 'CustomerEmail', 'TEXT', 0, None, 0),\n",
       " (3, 'CustomerPhone', 'TEXT', 0, None, 0)]"
      ]
     },
     "execution_count": 5,
     "metadata": {},
     "output_type": "execute_result"
    }
   ],
   "source": [
    "#Creating a table for customers which contains the necessary information about customers.\n",
    "\n",
    "c.execute('''\n",
    "\n",
    "    CREATE TABLE IF NOT EXISTS Customers\n",
    "          (\n",
    "          CustomerID INTEGER,\n",
    "          CustomerName TEXT,\n",
    "          CustomerEmail TEXT,\n",
    "          CustomerPhone TEXT,\n",
    "          PRIMARY KEY(CustomerID)\n",
    "          )\n",
    "''')\n",
    "c.execute('''PRAGMA table_info(Customers);''')\n",
    "c.fetchall()"
   ]
  },
  {
   "cell_type": "code",
   "execution_count": 6,
   "metadata": {},
   "outputs": [
    {
     "data": {
      "text/plain": [
       "[(0, 'HotelID', 'REAL', 0, None, 1),\n",
       " (1, 'HotelName', 'TEXT', 0, None, 0),\n",
       " (2, 'HotelLocation', 'TEXT', 0, None, 0),\n",
       " (3, 'HotelRating', 'REAL', 0, None, 0)]"
      ]
     },
     "execution_count": 6,
     "metadata": {},
     "output_type": "execute_result"
    }
   ],
   "source": [
    "#Creating a table for hotels which contains the necessary information about hotels.\n",
    "\n",
    "c.execute('''\n",
    "\n",
    "    CREATE TABLE IF NOT EXISTS Hotels\n",
    "          (\n",
    "          HotelID REAL,\n",
    "          HotelName TEXT,\n",
    "          HotelLocation TEXT,\n",
    "          HotelRating REAL,\n",
    "          PRIMARY KEY(HotelID)\n",
    "          )\n",
    "''')\n",
    "c.execute('''PRAGMA table_info(Hotels);''')\n",
    "c.fetchall()"
   ]
  },
  {
   "cell_type": "code",
   "execution_count": 7,
   "metadata": {},
   "outputs": [
    {
     "data": {
      "text/plain": [
       "[(0, 'FlightID', 'REAL', 0, None, 1),\n",
       " (1, 'Flight_Departure', 'TEXT', 0, None, 0),\n",
       " (2, 'Flight_Destination', 'TEXT', 0, None, 0),\n",
       " (3, 'Flight_Date', 'TEXT', 0, None, 0),\n",
       " (4, 'AirplaneID', 'REAL', 0, None, 0)]"
      ]
     },
     "execution_count": 7,
     "metadata": {},
     "output_type": "execute_result"
    }
   ],
   "source": [
    "#Creating a table for flights which contains the necessary information about flights.\n",
    "\n",
    "c.execute('''\n",
    "\n",
    "    CREATE TABLE IF NOT EXISTS Flights\n",
    "          (\n",
    "          FlightID REAL,\n",
    "          Flight_Departure TEXT,\n",
    "          Flight_Destination TEXT,\n",
    "          Flight_Date TEXT,\n",
    "          AirplaneID REAL,\n",
    "          PRIMARY KEY(FlightID)\n",
    "          )\n",
    "''')\n",
    "c.execute('''PRAGMA table_info(Flights);''')\n",
    "c.fetchall()"
   ]
  },
  {
   "cell_type": "code",
   "execution_count": 8,
   "metadata": {},
   "outputs": [
    {
     "data": {
      "text/plain": [
       "[(0, 'AirlineID', 'REAL', 0, None, 1),\n",
       " (1, 'AirlineName', 'TEXT', 0, None, 0),\n",
       " (2, 'FlightID', 'TEXT', 0, None, 2)]"
      ]
     },
     "execution_count": 8,
     "metadata": {},
     "output_type": "execute_result"
    }
   ],
   "source": [
    "#Creating a table for airlines which contains the necessary information about airlines.\n",
    "\n",
    "c.execute('''\n",
    "\n",
    "    CREATE TABLE IF NOT EXISTS Airlines\n",
    "          (\n",
    "          AirlineID REAL,\n",
    "          AirlineName TEXT,\n",
    "          FlightID TEXT REFERENCES Flights(FlightID),\n",
    "          PRIMARY KEY(AirlineID,FlightID)\n",
    "          )\n",
    "''')\n",
    "c.execute('''PRAGMA table_info(Airlines);''')\n",
    "c.fetchall()"
   ]
  },
  {
   "cell_type": "code",
   "execution_count": 9,
   "metadata": {},
   "outputs": [
    {
     "data": {
      "text/plain": [
       "[(0, 'FeedbackID', 'INTEGER', 0, None, 1),\n",
       " (1, 'CustomerID', 'INTEGER', 0, None, 2),\n",
       " (2, 'AirlineID', 'REAL', 0, None, 0),\n",
       " (3, 'HotelID', 'REAL', 0, None, 0),\n",
       " (4, 'Review', 'TEXT', 0, None, 0)]"
      ]
     },
     "execution_count": 9,
     "metadata": {},
     "output_type": "execute_result"
    }
   ],
   "source": [
    "#Creating a table for reviews which contains the necessary information about reviews.\n",
    "\n",
    "c.execute('''\n",
    "\n",
    "    CREATE TABLE IF NOT EXISTS Feedbacks\n",
    "          (\n",
    "          FeedbackID INTEGER,\n",
    "          CustomerID INTEGER REFERENCES Customers(CustomerID),\n",
    "          AirlineID REAL REFERENCES Airlines(AirlineID),\n",
    "          HotelID REAL REFERENCES Hotels(HotelID),\n",
    "          Review TEXT,\n",
    "          PRIMARY KEY(FeedbackID,CustomerID)\n",
    "          )\n",
    "''')\n",
    "c.execute('''PRAGMA table_info(Feedbacks);''')\n",
    "c.fetchall()"
   ]
  },
  {
   "cell_type": "code",
   "execution_count": 10,
   "metadata": {},
   "outputs": [
    {
     "data": {
      "text/plain": [
       "[(0, 'BookingID', 'INTEGER', 0, None, 1),\n",
       " (1, 'CustomerID', 'INTEGER', 0, None, 0),\n",
       " (2, 'AirlineID', 'REAL', 0, None, 0),\n",
       " (3, 'HotelID', 'REAL', 0, None, 0)]"
      ]
     },
     "execution_count": 10,
     "metadata": {},
     "output_type": "execute_result"
    }
   ],
   "source": [
    "#Creating a table for bookings which contains the necessary information about bookings.\n",
    "\n",
    "c.execute('''\n",
    "\n",
    "    CREATE TABLE IF NOT EXISTS Bookings\n",
    "          (\n",
    "          BookingID INTEGER,\n",
    "          CustomerID INTEGER REFERENCES Customers(CustomerID),\n",
    "          AirlineID REAL REFERENCES Airlines(AirlineID),\n",
    "          HotelID REAL REFERENCES Hotels(HotelID),\n",
    "          PRIMARY KEY(BookingID)\n",
    "          )\n",
    "''')\n",
    "c.execute('''PRAGMA table_info(Bookings);''')\n",
    "c.fetchall()"
   ]
  },
  {
   "cell_type": "code",
   "execution_count": 11,
   "metadata": {},
   "outputs": [
    {
     "data": {
      "text/plain": [
       "<sqlite3.Cursor at 0x1796a41e3c0>"
      ]
     },
     "execution_count": 11,
     "metadata": {},
     "output_type": "execute_result"
    }
   ],
   "source": [
    "#Inserting elements from booking(raw csv data) to Customers Schema we've created earlier.\n",
    "\n",
    "c.execute('''\n",
    "          INSERT INTO Customers (CustomerID, CustomerName, CustomerEmail, CustomerPhone)\n",
    "          SELECT DISTINCT CustomerID, CustomerName, CustomerEmail, CustomerPhone\n",
    "          FROM booking\n",
    "          WHERE CustomerID IS NOT NULL;\n",
    "        ''')"
   ]
  },
  {
   "cell_type": "code",
   "execution_count": 12,
   "metadata": {},
   "outputs": [
    {
     "data": {
      "text/plain": [
       "<sqlite3.Cursor at 0x1796a41e3c0>"
      ]
     },
     "execution_count": 12,
     "metadata": {},
     "output_type": "execute_result"
    }
   ],
   "source": [
    "#Inserting elements from booking(raw csv data) to Hotels Schema we've created earlier.\n",
    "\n",
    "c.execute(''' \n",
    "            INSERT INTO Hotels (HotelID, HotelName, HotelLocation, HotelRating)\n",
    "            SELECT DISTINCT HotelID, HotelName, HotelLocation, HotelRating\n",
    "            FROM booking\n",
    "            WHERE HotelID IS NOT NULL;\n",
    "''')"
   ]
  },
  {
   "cell_type": "code",
   "execution_count": 13,
   "metadata": {},
   "outputs": [
    {
     "data": {
      "text/plain": [
       "<sqlite3.Cursor at 0x1796a41e3c0>"
      ]
     },
     "execution_count": 13,
     "metadata": {},
     "output_type": "execute_result"
    }
   ],
   "source": [
    "#Inserting elements from booking(raw csv data) to Flights Schema we've created earlier.\n",
    "\n",
    "c.execute(''' \n",
    "            INSERT INTO Flights (FlightID, Flight_Departure, Flight_Destination, Flight_Date, AirplaneID)\n",
    "            SELECT DISTINCT FlightID, Flight_Departure, Flight_Destination, Flight_Date, AirplaneID\n",
    "            FROM booking\n",
    "            WHERE FlightID IS NOT NULL;\n",
    "''')"
   ]
  },
  {
   "cell_type": "code",
   "execution_count": 14,
   "metadata": {},
   "outputs": [
    {
     "data": {
      "text/plain": [
       "<sqlite3.Cursor at 0x1796a41e3c0>"
      ]
     },
     "execution_count": 14,
     "metadata": {},
     "output_type": "execute_result"
    }
   ],
   "source": [
    "#Inserting elements from booking(raw csv data) to Airlines Schema we've created earlier.\n",
    "\n",
    "c.execute(''' \n",
    "            INSERT INTO Airlines (AirlineID, AirlineName, FlightID)\n",
    "            SELECT DISTINCT AirlineID, AirlineName, FlightID\n",
    "            FROM booking\n",
    "            WHERE AirlineID IS NOT NULL;\n",
    "''')"
   ]
  },
  {
   "cell_type": "code",
   "execution_count": 15,
   "metadata": {},
   "outputs": [
    {
     "data": {
      "text/plain": [
       "<sqlite3.Cursor at 0x1796a41e3c0>"
      ]
     },
     "execution_count": 15,
     "metadata": {},
     "output_type": "execute_result"
    }
   ],
   "source": [
    "#Inserting elements from booking(raw csv data) to Bookings Schema we've created earlier.\n",
    "\n",
    "c.execute(''' \n",
    "            INSERT INTO Bookings (BookingID,CustomerID,AirlineID,HotelID)\n",
    "          SELECT DISTINCT BookingID,CustomerID,AirlineID,HotelID\n",
    "          FROM booking\n",
    "          WHERE BookingID IS NOT NULL AND CustomerID IS NOT NULL;\n",
    " ''')"
   ]
  },
  {
   "cell_type": "code",
   "execution_count": 16,
   "metadata": {},
   "outputs": [
    {
     "data": {
      "text/html": [
       "<div>\n",
       "<style scoped>\n",
       "    .dataframe tbody tr th:only-of-type {\n",
       "        vertical-align: middle;\n",
       "    }\n",
       "\n",
       "    .dataframe tbody tr th {\n",
       "        vertical-align: top;\n",
       "    }\n",
       "\n",
       "    .dataframe thead th {\n",
       "        text-align: right;\n",
       "    }\n",
       "</style>\n",
       "<table border=\"1\" class=\"dataframe\">\n",
       "  <thead>\n",
       "    <tr style=\"text-align: right;\">\n",
       "      <th></th>\n",
       "      <th>FeedbackID</th>\n",
       "      <th>CustomerID</th>\n",
       "      <th>AirlineID</th>\n",
       "      <th>HotelID</th>\n",
       "      <th>Review</th>\n",
       "    </tr>\n",
       "  </thead>\n",
       "  <tbody>\n",
       "    <tr>\n",
       "      <th>309</th>\n",
       "      <td>7185</td>\n",
       "      <td>9954</td>\n",
       "      <td>NaN</td>\n",
       "      <td>8281.0</td>\n",
       "      <td>I found the pool to be terrible.</td>\n",
       "    </tr>\n",
       "    <tr>\n",
       "      <th>359</th>\n",
       "      <td>4200</td>\n",
       "      <td>7111</td>\n",
       "      <td>NaN</td>\n",
       "      <td>4733.0</td>\n",
       "      <td>Was not impressed with the view.</td>\n",
       "    </tr>\n",
       "    <tr>\n",
       "      <th>381</th>\n",
       "      <td>2703</td>\n",
       "      <td>7163</td>\n",
       "      <td>NaN</td>\n",
       "      <td>5991.0</td>\n",
       "      <td>I found the staff to be impressive.</td>\n",
       "    </tr>\n",
       "    <tr>\n",
       "      <th>443</th>\n",
       "      <td>3821</td>\n",
       "      <td>3890</td>\n",
       "      <td>NaN</td>\n",
       "      <td>6879.0</td>\n",
       "      <td>The gym was good.</td>\n",
       "    </tr>\n",
       "    <tr>\n",
       "      <th>453</th>\n",
       "      <td>1278</td>\n",
       "      <td>4681</td>\n",
       "      <td>NaN</td>\n",
       "      <td>1513.0</td>\n",
       "      <td>Really enjoyed the impressive pool.</td>\n",
       "    </tr>\n",
       "    <tr>\n",
       "      <th>475</th>\n",
       "      <td>5921</td>\n",
       "      <td>7498</td>\n",
       "      <td>NaN</td>\n",
       "      <td>3096.0</td>\n",
       "      <td>Was not impressed with the pool.</td>\n",
       "    </tr>\n",
       "    <tr>\n",
       "      <th>479</th>\n",
       "      <td>9000</td>\n",
       "      <td>5673</td>\n",
       "      <td>NaN</td>\n",
       "      <td>4857.0</td>\n",
       "      <td>I found the gym to be excellent.</td>\n",
       "    </tr>\n",
       "    <tr>\n",
       "      <th>489</th>\n",
       "      <td>4912</td>\n",
       "      <td>7053</td>\n",
       "      <td>NaN</td>\n",
       "      <td>4656.0</td>\n",
       "      <td>Terrible experience with the pool.</td>\n",
       "    </tr>\n",
       "    <tr>\n",
       "      <th>504</th>\n",
       "      <td>1355</td>\n",
       "      <td>8410</td>\n",
       "      <td>NaN</td>\n",
       "      <td>8596.0</td>\n",
       "      <td>I found the location to be terrible.</td>\n",
       "    </tr>\n",
       "    <tr>\n",
       "      <th>509</th>\n",
       "      <td>4437</td>\n",
       "      <td>1933</td>\n",
       "      <td>NaN</td>\n",
       "      <td>2504.0</td>\n",
       "      <td>The amenity was decent.</td>\n",
       "    </tr>\n",
       "    <tr>\n",
       "      <th>519</th>\n",
       "      <td>3945</td>\n",
       "      <td>1840</td>\n",
       "      <td>NaN</td>\n",
       "      <td>1464.0</td>\n",
       "      <td>Really enjoyed the fantastic amenity.</td>\n",
       "    </tr>\n",
       "    <tr>\n",
       "      <th>575</th>\n",
       "      <td>6089</td>\n",
       "      <td>7912</td>\n",
       "      <td>NaN</td>\n",
       "      <td>2504.0</td>\n",
       "      <td>I found the pool to be fantastic.</td>\n",
       "    </tr>\n",
       "  </tbody>\n",
       "</table>\n",
       "</div>"
      ],
      "text/plain": [
       "     FeedbackID  CustomerID  AirlineID  HotelID  \\\n",
       "309        7185        9954        NaN   8281.0   \n",
       "359        4200        7111        NaN   4733.0   \n",
       "381        2703        7163        NaN   5991.0   \n",
       "443        3821        3890        NaN   6879.0   \n",
       "453        1278        4681        NaN   1513.0   \n",
       "475        5921        7498        NaN   3096.0   \n",
       "479        9000        5673        NaN   4857.0   \n",
       "489        4912        7053        NaN   4656.0   \n",
       "504        1355        8410        NaN   8596.0   \n",
       "509        4437        1933        NaN   2504.0   \n",
       "519        3945        1840        NaN   1464.0   \n",
       "575        6089        7912        NaN   2504.0   \n",
       "\n",
       "                                    Review  \n",
       "309       I found the pool to be terrible.  \n",
       "359       Was not impressed with the view.  \n",
       "381    I found the staff to be impressive.  \n",
       "443                      The gym was good.  \n",
       "453    Really enjoyed the impressive pool.  \n",
       "475       Was not impressed with the pool.  \n",
       "479       I found the gym to be excellent.  \n",
       "489     Terrible experience with the pool.  \n",
       "504   I found the location to be terrible.  \n",
       "509                The amenity was decent.  \n",
       "519  Really enjoyed the fantastic amenity.  \n",
       "575      I found the pool to be fantastic.  "
      ]
     },
     "execution_count": 16,
     "metadata": {},
     "output_type": "execute_result"
    }
   ],
   "source": [
    "# The reason I check for duplicates is I got primary key error while inserting data into Feedback schema.\n",
    "# Instead of dropping these duplicates, I have created a super key which includes both FeedbackID and CustomerID.\n",
    "# That's why I used a super key in Feedback schema.(FeedbackID,CustomerID)\n",
    "\n",
    "df_temp = df_feedback.loc[df_feedback.duplicated(subset=['FeedbackID'])]\n",
    "df_temp"
   ]
  },
  {
   "cell_type": "code",
   "execution_count": 17,
   "metadata": {},
   "outputs": [
    {
     "data": {
      "text/plain": [
       "<sqlite3.Cursor at 0x1796a41e3c0>"
      ]
     },
     "execution_count": 17,
     "metadata": {},
     "output_type": "execute_result"
    }
   ],
   "source": [
    "#Inserting elements from booking(raw csv data) to Feedbacks Schema we've created earlier.\n",
    "\n",
    "c.execute(''' \n",
    "            INSERT INTO Feedbacks (FeedbackID,CustomerID,AirlineID,HotelID,Review)\n",
    "          SELECT DISTINCT FeedbackID,CustomerID,AirlineID,HotelID,Review\n",
    "          FROM feedback\n",
    "          WHERE FeedbackID IS NOT NULL AND CustomerID IS NOT NULL;\n",
    "\n",
    " ''')"
   ]
  },
  {
   "cell_type": "markdown",
   "metadata": {},
   "source": [
    "## Q2. Find the total number of bookings made for each hotel. Display the hotel name and the corresponding number of bookings. (10 Points)"
   ]
  },
  {
   "cell_type": "code",
   "execution_count": 22,
   "metadata": {},
   "outputs": [
    {
     "name": "stdout",
     "output_type": "stream",
     "text": [
      "Shape of the result schema :  50\n"
     ]
    },
    {
     "data": {
      "text/plain": [
       "[(1610.0, 'Golden Suites', 16),\n",
       " (6879.0, 'Diamond Inn', 15),\n",
       " (4024.0, 'Diamond Resort', 15),\n",
       " (3378.0, 'Silver Resort', 15),\n",
       " (1919.0, 'Emerald Motel', 15),\n",
       " (8577.0, 'Emerald Palace', 14),\n",
       " (8281.0, 'Diamond Inn', 14),\n",
       " (4857.0, 'Diamond Inn', 14),\n",
       " (2769.0, 'Golden Inn', 14),\n",
       " (2035.0, 'Sapphire Villa', 14),\n",
       " (9177.0, 'Sapphire Motel', 12),\n",
       " (5769.0, 'Golden Resort', 12),\n",
       " (2504.0, 'Pearl Resort', 12),\n",
       " (7675.0, 'Silver Hideaway', 11),\n",
       " (7512.0, 'Sapphire Suites', 11),\n",
       " (7428.0, 'Crystal Motel', 11),\n",
       " (3096.0, 'Jade Resort', 11),\n",
       " (1464.0, 'Opal Motel', 11),\n",
       " (7742.0, 'Golden Villa', 10),\n",
       " (5939.0, 'Diamond Suites', 10),\n",
       " (5095.0, 'Sapphire Hideaway', 10),\n",
       " (4927.0, 'Jade Suites', 10),\n",
       " (4656.0, 'Opal Plaza', 10),\n",
       " (3670.0, 'Diamond Villa', 10),\n",
       " (1647.0, 'Silver Villa', 10),\n",
       " (7284.0, 'Jade Retreat', 9),\n",
       " (6064.0, 'Golden Hideaway', 9),\n",
       " (5994.0, 'Jade Lodge', 9),\n",
       " (4340.0, 'Opal Suites', 9),\n",
       " (2525.0, 'Emerald Resort', 9),\n",
       " (9529.0, 'Golden Plaza', 8),\n",
       " (8596.0, 'Golden Lodge', 8),\n",
       " (7704.0, 'Pearl Plaza', 8),\n",
       " (6925.0, 'Ruby Palace', 8),\n",
       " (6921.0, 'Ruby Plaza', 8),\n",
       " (4733.0, 'Ruby Hideaway', 8),\n",
       " (4147.0, 'Pearl Hideaway', 8),\n",
       " (3678.0, 'Sapphire Villa', 8),\n",
       " (3107.0, 'Silver Palace', 8),\n",
       " (8617.0, 'Ruby Resort', 7),\n",
       " (7414.0, 'Pearl Motel', 7),\n",
       " (4365.0, 'Golden Retreat', 7),\n",
       " (2206.0, 'Jade Suites', 7),\n",
       " (9627.0, 'Jade Suites', 6),\n",
       " (5991.0, 'Golden Resort', 6),\n",
       " (1513.0, 'Diamond Plaza', 6),\n",
       " (5346.0, 'Pearl Lodge', 5),\n",
       " (2049.0, 'Jade Motel', 5),\n",
       " (6234.0, 'Opal Motel', 4),\n",
       " (4781.0, 'Opal Inn', 4)]"
      ]
     },
     "execution_count": 22,
     "metadata": {},
     "output_type": "execute_result"
    }
   ],
   "source": [
    "# We need to group Bookings schema by HotelID.\n",
    "# After grouping we only select HotelID and Count of elements for every HotelID(using aggregate function COUNT).\n",
    "# We can check our result by comparing the solution with pandas.\n",
    "\n",
    "c.execute(''' \n",
    "          SELECT Bookings.HotelID,Hotels.HotelName,COUNT(Bookings.HotelID)\n",
    "          FROM Bookings,Hotels\n",
    "          WHERE Bookings.HotelID=Hotels.HotelID\n",
    "          GROUP BY Bookings.HotelID\n",
    "          HAVING Bookings.HotelID IS NOT NULL\n",
    "          ORDER BY COUNT(Bookings.HotelID) DESC\n",
    "          ;\n",
    "           ''')\n",
    "\n",
    "result=c.fetchall()\n",
    "print(\"Shape of the result schema : \",len(result))\n",
    "result"
   ]
  },
  {
   "cell_type": "code",
   "execution_count": 19,
   "metadata": {},
   "outputs": [
    {
     "data": {
      "text/plain": [
       "HotelID\n",
       "1464.0    11\n",
       "1513.0     6\n",
       "1610.0    16\n",
       "1647.0    10\n",
       "1919.0    15\n",
       "2035.0    14\n",
       "2049.0     5\n",
       "2206.0     7\n",
       "2504.0    12\n",
       "2525.0     9\n",
       "Name: BookingID, dtype: int64"
      ]
     },
     "execution_count": 19,
     "metadata": {},
     "output_type": "execute_result"
    }
   ],
   "source": [
    "#Using pandas to recheck the result obtained by sql\n",
    "df_booking_ghid=df_booking.groupby(by='HotelID').count()['BookingID']\n",
    "df_booking_ghid.head(10)"
   ]
  },
  {
   "cell_type": "markdown",
   "metadata": {},
   "source": [
    "## Q3. Retrieve the name and contact details of clients who have provided feedback for both flights and hotels. Ensure there are no duplicate entries in your result. (10 Points)\n"
   ]
  },
  {
   "cell_type": "code",
   "execution_count": 109,
   "metadata": {},
   "outputs": [
    {
     "name": "stdout",
     "output_type": "stream",
     "text": [
      "Shape of the result schema :  109\n"
     ]
    },
    {
     "data": {
      "text/plain": [
       "[(1045, 'Mason Jones', 'mason.jones@mail.com', '555-0497376'),\n",
       " (1085, 'Olivia Miller', 'olivia.miller@mail.com', '555-8743718'),\n",
       " (1094, 'Mason Martinez', 'mason.martinez@mail.com', '555-4087377'),\n",
       " (1229, 'Emma Miller', 'emma.miller@mail.com', '555-9672748'),\n",
       " (1241, 'Olivia Garcia', 'olivia.garcia@mail.com', '555-0514945'),\n",
       " (1462, 'Mia Miller', 'mia.miller@mail.com', '555-8785693'),\n",
       " (1548, 'Mason Davis', 'mason.davis@mail.com', '555-6250499'),\n",
       " (1891, 'Ethan Smith', 'ethan.smith@mail.com', '555-9454338'),\n",
       " (1898, 'Logan Martinez', 'logan.martinez@mail.com', '555-6346303'),\n",
       " (1933, 'Ethan Rodriguez', 'ethan.rodriguez@mail.com', '555-5432713'),\n",
       " (2391, 'Ava Williams', 'ava.williams@mail.com', '555-1519142'),\n",
       " (2468, 'Ava Williams', 'ava.williams@mail.com', '555-0306340'),\n",
       " (2479, 'Liam Johnson', 'liam.johnson@mail.com', '555-5991579'),\n",
       " (2482, 'Sophia Brown', 'sophia.brown@mail.com', '555-0699775'),\n",
       " (2496, 'John Smith', 'john.smith@mail.com', '555-3616974'),\n",
       " (2840, 'Mia Smith', 'mia.smith@mail.com', '555-2197055'),\n",
       " (3047, 'Sophia Garcia', 'sophia.garcia@mail.com', '555-1797618'),\n",
       " (3067, 'Logan Garcia', 'logan.garcia@mail.com', '555-8723852'),\n",
       " (3209, 'Liam Brown', 'liam.brown@mail.com', '555-0166595'),\n",
       " (3346, 'Logan Garcia', 'logan.garcia@mail.com', '555-1786594'),\n",
       " (3618, 'Logan Miller', 'logan.miller@mail.com', '555-2271807'),\n",
       " (3699, 'Mason Smith', 'mason.smith@mail.com', '555-9287719'),\n",
       " (3727, 'Emma Williams', 'emma.williams@mail.com', '555-8283458'),\n",
       " (3874, 'John Martinez', 'john.martinez@mail.com', '555-1201810'),\n",
       " (4149, 'Sophia Davis', 'sophia.davis@mail.com', '555-7585879'),\n",
       " (4253, 'Olivia Martinez', 'olivia.martinez@mail.com', '555-3255322'),\n",
       " (4290, 'Liam Martinez', 'liam.martinez@mail.com', '555-3004787'),\n",
       " (4317, 'Ethan Miller', 'ethan.miller@mail.com', '555-7366655'),\n",
       " (4353, 'John Smith', 'john.smith@mail.com', '555-3493476'),\n",
       " (4506, 'Ava Smith', 'ava.smith@mail.com', '555-8868423'),\n",
       " (4531, 'Logan Brown', 'logan.brown@mail.com', '555-8853740'),\n",
       " (4586, 'Olivia Martinez', 'olivia.martinez@mail.com', '555-1094118'),\n",
       " (4609, 'Ethan Rodriguez', 'ethan.rodriguez@mail.com', '555-5969914'),\n",
       " (4681, 'Sophia Garcia', 'sophia.garcia@mail.com', '555-6778980'),\n",
       " (4694, 'Ava Rodriguez', 'ava.rodriguez@mail.com', '555-1763037'),\n",
       " (4734, 'Mason Jones', 'mason.jones@mail.com', '555-9859933'),\n",
       " (4761, 'Mason Miller', 'mason.miller@mail.com', '555-8706942'),\n",
       " (5015, 'Olivia Miller', 'olivia.miller@mail.com', '555-6375667'),\n",
       " (5047, 'Olivia Johnson', 'olivia.johnson@mail.com', '555-8142328'),\n",
       " (5074, 'Mia Rodriguez', 'mia.rodriguez@mail.com', '555-3597936'),\n",
       " (5101, 'Logan Johnson', 'logan.johnson@mail.com', '555-0898213'),\n",
       " (5238, 'Ava Rodriguez', 'ava.rodriguez@mail.com', '555-0302814'),\n",
       " (5279, 'Liam Davis', 'liam.davis@mail.com', '555-9816387'),\n",
       " (5393, 'Sophia Johnson', 'sophia.johnson@mail.com', '555-8333408'),\n",
       " (5414, 'John Smith', 'john.smith@mail.com', '555-5329141'),\n",
       " (5417, 'Mason Brown', 'mason.brown@mail.com', '555-7018305'),\n",
       " (5448, 'Liam Davis', 'liam.davis@mail.com', '555-2949165'),\n",
       " (5506, 'Mason Brown', 'mason.brown@mail.com', '555-0258878'),\n",
       " (5524, 'Ava Davis', 'ava.davis@mail.com', '555-4376898'),\n",
       " (5559, 'Mason Jones', 'mason.jones@mail.com', '555-1751791'),\n",
       " (5649, 'Ava Garcia', 'ava.garcia@mail.com', '555-3577079'),\n",
       " (5673, 'Ava Williams', 'ava.williams@mail.com', '555-8246125'),\n",
       " (5682, 'Liam Williams', 'liam.williams@mail.com', '555-9372149'),\n",
       " (5970, 'John Johnson', 'john.johnson@mail.com', '555-3857295'),\n",
       " (6003, 'Liam Brown', 'liam.brown@mail.com', '555-5183574'),\n",
       " (6117, 'Logan Martinez', 'logan.martinez@mail.com', '555-6781352'),\n",
       " (6148, 'Ethan Martinez', 'ethan.martinez@mail.com', '555-3339628'),\n",
       " (6260, 'Ethan Smith', 'ethan.smith@mail.com', '555-4014268'),\n",
       " (6337, 'Ethan Rodriguez', 'ethan.rodriguez@mail.com', '555-7714590'),\n",
       " (6383, 'Mia Williams', 'mia.williams@mail.com', '555-4798996'),\n",
       " (6407, 'Emma Smith', 'emma.smith@mail.com', '555-0707146'),\n",
       " (6442, 'John Davis', 'john.davis@mail.com', '555-5153122'),\n",
       " (6470, 'Emma Davis', 'emma.davis@mail.com', '555-8584852'),\n",
       " (6570, 'Sophia Garcia', 'sophia.garcia@mail.com', '555-4477984'),\n",
       " (6646, 'Emma Garcia', 'emma.garcia@mail.com', '555-3832976'),\n",
       " (6723, 'John Brown', 'john.brown@mail.com', '555-5988133'),\n",
       " (6734, 'Ava Miller', 'ava.miller@mail.com', '555-0921939'),\n",
       " (6930, 'John Williams', 'john.williams@mail.com', '555-9373187'),\n",
       " (6946, 'Mia Martinez', 'mia.martinez@mail.com', '555-0308937'),\n",
       " (7044, 'Mia Davis', 'mia.davis@mail.com', '555-4185374'),\n",
       " (7080, 'Liam Jones', 'liam.jones@mail.com', '555-3294076'),\n",
       " (7163, 'Liam Brown', 'liam.brown@mail.com', '555-1772445'),\n",
       " (7180, 'Mia Jones', 'mia.jones@mail.com', '555-3274877'),\n",
       " (7191, 'Sophia Martinez', 'sophia.martinez@mail.com', '555-0293096'),\n",
       " (7439, 'Logan Johnson', 'logan.johnson@mail.com', '555-5232222'),\n",
       " (7492, 'Sophia Jones', 'sophia.jones@mail.com', '555-5176700'),\n",
       " (7498, 'Sophia Rodriguez', 'sophia.rodriguez@mail.com', '555-7717570'),\n",
       " (7794, 'Olivia Williams', 'olivia.williams@mail.com', '555-0618229'),\n",
       " (7798, 'Emma Miller', 'emma.miller@mail.com', '555-4005422'),\n",
       " (7837, 'Sophia Smith', 'sophia.smith@mail.com', '555-3170326'),\n",
       " (7888, 'Olivia Davis', 'olivia.davis@mail.com', '555-7937883'),\n",
       " (7932, 'Mason Brown', 'mason.brown@mail.com', '555-5765623'),\n",
       " (8096, 'Olivia Davis', 'olivia.davis@mail.com', '555-6970002'),\n",
       " (8247, 'Liam Miller', 'liam.miller@mail.com', '555-3750839'),\n",
       " (8292, 'Mason Brown', 'mason.brown@mail.com', '555-4291570'),\n",
       " (8379, 'Liam Brown', 'liam.brown@mail.com', '555-3328325'),\n",
       " (8380, 'Olivia Miller', 'olivia.miller@mail.com', '555-7935514'),\n",
       " (8410, 'Mason Brown', 'mason.brown@mail.com', '555-0826096'),\n",
       " (8480, 'Mason Brown', 'mason.brown@mail.com', '555-3196635'),\n",
       " (8492, 'Olivia Rodriguez', 'olivia.rodriguez@mail.com', '555-1943374'),\n",
       " (8538, 'John Johnson', 'john.johnson@mail.com', '555-8621989'),\n",
       " (8651, 'Ethan Jones', 'ethan.jones@mail.com', '555-0003961'),\n",
       " (8702, 'Sophia Johnson', 'sophia.johnson@mail.com', '555-2448547'),\n",
       " (8799, 'Mia Johnson', 'mia.johnson@mail.com', '555-8471012'),\n",
       " (8839, 'Olivia Williams', 'olivia.williams@mail.com', '555-0780377'),\n",
       " (9029, 'Ethan Smith', 'ethan.smith@mail.com', '555-1189744'),\n",
       " (9085, 'Emma Brown', 'emma.brown@mail.com', '555-7136775'),\n",
       " (9147, 'Mia Miller', 'mia.miller@mail.com', '555-2636922'),\n",
       " (9180, 'Logan Brown', 'logan.brown@mail.com', '555-6902160'),\n",
       " (9220, 'Olivia Martinez', 'olivia.martinez@mail.com', '555-1759381'),\n",
       " (9244, 'Liam Davis', 'liam.davis@mail.com', '555-8686220'),\n",
       " (9258, 'Mason Miller', 'mason.miller@mail.com', '555-8064585'),\n",
       " (9382, 'Ava Jones', 'ava.jones@mail.com', '555-2606180'),\n",
       " (9497, 'Ava Smith', 'ava.smith@mail.com', '555-4286562'),\n",
       " (9527, 'Ethan Davis', 'ethan.davis@mail.com', '555-0282897'),\n",
       " (9642, 'John Smith', 'john.smith@mail.com', '555-4394283'),\n",
       " (9698, 'Mia Williams', 'mia.williams@mail.com', '555-6569856'),\n",
       " (9764, 'Logan Williams', 'logan.williams@mail.com', '555-2061905'),\n",
       " (9796, 'Ava Brown', 'ava.brown@mail.com', '555-5172056')]"
      ]
     },
     "execution_count": 109,
     "metadata": {},
     "output_type": "execute_result"
    }
   ],
   "source": [
    "# To do the given query , we need to group the data by CustomerID.\n",
    "# After grouping, I've counted nonnull HotelID and AirlineID entries for every CustomerID.\n",
    "# Finally , I've selected contact details of the contacts which obey our restrictions.\n",
    "\n",
    "query='''\n",
    "         SELECT DISTINCT C.CustomerID,C.CustomerName,C.CustomerEmail,C.CustomerPhone\n",
    "          FROM Feedbacks F,Customers C\n",
    "          WHERE F.CustomerID = C.CustomerID\n",
    "          GROUP BY F.CustomerID\n",
    "          HAVING COUNT(F.HotelID) > 0 AND COUNT(F.AirlineID) > 0\n",
    "          ;\n",
    "       '''\n",
    "\n",
    "c.execute(query)\n",
    "resultq3=c.fetchall()\n",
    "print(\"Length of the result schema : \",len(resultq3))\n",
    "resultq3"
   ]
  },
  {
   "cell_type": "code",
   "execution_count": 112,
   "metadata": {},
   "outputs": [
    {
     "name": "stdout",
     "output_type": "stream",
     "text": [
      "Shape of the result schema :  109\n"
     ]
    },
    {
     "name": "stderr",
     "output_type": "stream",
     "text": [
      "C:\\Users\\demir\\AppData\\Local\\Temp\\ipykernel_8020\\3759213216.py:3: FutureWarning: Indexing with multiple keys (implicitly converted to a tuple of keys) will be deprecated, use a list instead.\n",
      "  df_temp=df_feedback.groupby(by='CustomerID')['HotelID','AirlineID'].count()\n"
     ]
    },
    {
     "data": {
      "text/html": [
       "<div>\n",
       "<style scoped>\n",
       "    .dataframe tbody tr th:only-of-type {\n",
       "        vertical-align: middle;\n",
       "    }\n",
       "\n",
       "    .dataframe tbody tr th {\n",
       "        vertical-align: top;\n",
       "    }\n",
       "\n",
       "    .dataframe thead th {\n",
       "        text-align: right;\n",
       "    }\n",
       "</style>\n",
       "<table border=\"1\" class=\"dataframe\">\n",
       "  <thead>\n",
       "    <tr style=\"text-align: right;\">\n",
       "      <th></th>\n",
       "      <th>HotelID</th>\n",
       "      <th>AirlineID</th>\n",
       "    </tr>\n",
       "    <tr>\n",
       "      <th>CustomerID</th>\n",
       "      <th></th>\n",
       "      <th></th>\n",
       "    </tr>\n",
       "  </thead>\n",
       "  <tbody>\n",
       "    <tr>\n",
       "      <th>1045</th>\n",
       "      <td>1</td>\n",
       "      <td>1</td>\n",
       "    </tr>\n",
       "    <tr>\n",
       "      <th>1085</th>\n",
       "      <td>1</td>\n",
       "      <td>1</td>\n",
       "    </tr>\n",
       "    <tr>\n",
       "      <th>1094</th>\n",
       "      <td>1</td>\n",
       "      <td>1</td>\n",
       "    </tr>\n",
       "    <tr>\n",
       "      <th>1229</th>\n",
       "      <td>1</td>\n",
       "      <td>2</td>\n",
       "    </tr>\n",
       "    <tr>\n",
       "      <th>1241</th>\n",
       "      <td>1</td>\n",
       "      <td>1</td>\n",
       "    </tr>\n",
       "    <tr>\n",
       "      <th>...</th>\n",
       "      <td>...</td>\n",
       "      <td>...</td>\n",
       "    </tr>\n",
       "    <tr>\n",
       "      <th>9527</th>\n",
       "      <td>1</td>\n",
       "      <td>1</td>\n",
       "    </tr>\n",
       "    <tr>\n",
       "      <th>9642</th>\n",
       "      <td>1</td>\n",
       "      <td>1</td>\n",
       "    </tr>\n",
       "    <tr>\n",
       "      <th>9698</th>\n",
       "      <td>1</td>\n",
       "      <td>1</td>\n",
       "    </tr>\n",
       "    <tr>\n",
       "      <th>9764</th>\n",
       "      <td>1</td>\n",
       "      <td>1</td>\n",
       "    </tr>\n",
       "    <tr>\n",
       "      <th>9796</th>\n",
       "      <td>3</td>\n",
       "      <td>2</td>\n",
       "    </tr>\n",
       "  </tbody>\n",
       "</table>\n",
       "<p>109 rows × 2 columns</p>\n",
       "</div>"
      ],
      "text/plain": [
       "            HotelID  AirlineID\n",
       "CustomerID                    \n",
       "1045              1          1\n",
       "1085              1          1\n",
       "1094              1          1\n",
       "1229              1          2\n",
       "1241              1          1\n",
       "...             ...        ...\n",
       "9527              1          1\n",
       "9642              1          1\n",
       "9698              1          1\n",
       "9764              1          1\n",
       "9796              3          2\n",
       "\n",
       "[109 rows x 2 columns]"
      ]
     },
     "execution_count": 112,
     "metadata": {},
     "output_type": "execute_result"
    }
   ],
   "source": [
    "# Using pandas to recheck the result obtained by sql\n",
    "\n",
    "df_temp=df_feedback.groupby(by='CustomerID')['HotelID','AirlineID'].count()\n",
    "df_temp=df_temp[(df_temp['HotelID']>=1) & (df_temp['AirlineID']>=1)]\n",
    "print(\"Length of the result schema : \",df_temp.shape[0])\n",
    "df_temp"
   ]
  },
  {
   "cell_type": "markdown",
   "metadata": {},
   "source": [
    "## Q4. Identify hotels that have a feedback rating lower than the average feedback rating across all hotels. List their names and ratings. (10 Points)\n"
   ]
  },
  {
   "cell_type": "code",
   "execution_count": 35,
   "metadata": {},
   "outputs": [
    {
     "name": "stdout",
     "output_type": "stream",
     "text": [
      " Average o hotel rating column :  3.2\n"
     ]
    },
    {
     "data": {
      "text/plain": [
       "[('Pearl Resort', 2.0),\n",
       " ('Golden Resort', 3.0),\n",
       " ('Ruby Palace', 1.0),\n",
       " ('Golden Resort', 1.0),\n",
       " ('Golden Villa', 3.0),\n",
       " ('Sapphire Suites', 2.0),\n",
       " ('Opal Plaza', 2.0),\n",
       " ('Diamond Plaza', 2.0),\n",
       " ('Diamond Inn', 2.0),\n",
       " ('Golden Hideaway', 3.0),\n",
       " ('Jade Resort', 2.0),\n",
       " ('Golden Inn', 3.0),\n",
       " ('Golden Lodge', 2.0),\n",
       " ('Jade Motel', 2.0),\n",
       " ('Sapphire Villa', 2.0),\n",
       " ('Opal Suites', 1.0),\n",
       " ('Opal Inn', 1.0),\n",
       " ('Pearl Lodge', 1.0),\n",
       " ('Pearl Plaza', 2.0),\n",
       " ('Emerald Resort', 3.0),\n",
       " ('Silver Palace', 2.0),\n",
       " ('Pearl Hideaway', 1.0),\n",
       " ('Opal Motel', 1.0),\n",
       " ('Ruby Resort', 3.0),\n",
       " ('Golden Plaza', 2.0),\n",
       " ('Opal Motel', 2.0),\n",
       " ('Pearl Motel', 3.0)]"
      ]
     },
     "execution_count": 35,
     "metadata": {},
     "output_type": "execute_result"
    }
   ],
   "source": [
    "#Printing out the average of hotel ratings first.\n",
    "c.execute(\"SELECT AVG(Hotels.HotelRating) FROM Hotels;\")\n",
    "avg_hotel_rating=c.fetchall() # 3.2\n",
    "print(\" Average o hotel rating column : \",avg_hotel_rating[0][0])\n",
    "\n",
    "\n",
    "# Selecting every hotel that has a lower rating than the average of the all hotels.\n",
    "# Printing out name and rating of the hotel.\n",
    "\n",
    "c.execute('''SELECT H.HotelName,H.HotelRating \n",
    "          FROM Hotels H\n",
    "          WHERE H.HotelRating<(SELECT AVG(Hotels.HotelRating) FROM Hotels)\n",
    "''')\n",
    "c.fetchall()"
   ]
  },
  {
   "cell_type": "markdown",
   "metadata": {},
   "source": [
    "## Q5. Find clients who have stayed in at least three different hotels and flown with at least two different airlines. Display their names and total number of bookings. (10 Points)\n"
   ]
  },
  {
   "cell_type": "code",
   "execution_count": 139,
   "metadata": {},
   "outputs": [
    {
     "data": {
      "text/plain": [
       "[]"
      ]
     },
     "execution_count": 139,
     "metadata": {},
     "output_type": "execute_result"
    }
   ],
   "source": [
    "# First we need to group Bookings schema by CustomerID.\n",
    "# Then we filter the data by counting every distinct hotel id and airline id for every customer.\n",
    "# If those numbers satisfy our expectations, then we would select and print them.\n",
    "\n",
    "\n",
    "queryQ5= '''SELECT C.CustomerName,COUNT(B.CustomerID)\n",
    "          FROM Bookings B,Customers C\n",
    "          WHERE B.CustomerID = C.CustomerID\n",
    "          GROUP BY B.CustomerID\n",
    "          HAVING COUNT(DISTINCT B.HotelID)>=3 AND COUNT(DISTINCT B.AirlineID)>=2\n",
    "'''\n",
    "\n",
    "c.execute(queryQ5)\n",
    "\n",
    "c.fetchall()"
   ]
  },
  {
   "cell_type": "markdown",
   "metadata": {},
   "source": [
    "## Q6 - **Bonus/Challenge**: Do the same in Q3 without using the keywords: \"HAVING\" and \"GROUP BY\". Make a comparison on the two processes (one using the aggregate operators and this) "
   ]
  },
  {
   "cell_type": "code",
   "execution_count": 113,
   "metadata": {},
   "outputs": [
    {
     "name": "stdout",
     "output_type": "stream",
     "text": [
      "Length of the result schema :  109\n"
     ]
    },
    {
     "name": "stderr",
     "output_type": "stream",
     "text": [
      "C:\\Users\\demir\\AppData\\Local\\Temp\\ipykernel_8020\\840028395.py:3: FutureWarning: Indexing with multiple keys (implicitly converted to a tuple of keys) will be deprecated, use a list instead.\n",
      "  df_temp=df_feedback.groupby(by='CustomerID')['HotelID','AirlineID'].count()\n"
     ]
    },
    {
     "data": {
      "text/html": [
       "<div>\n",
       "<style scoped>\n",
       "    .dataframe tbody tr th:only-of-type {\n",
       "        vertical-align: middle;\n",
       "    }\n",
       "\n",
       "    .dataframe tbody tr th {\n",
       "        vertical-align: top;\n",
       "    }\n",
       "\n",
       "    .dataframe thead th {\n",
       "        text-align: right;\n",
       "    }\n",
       "</style>\n",
       "<table border=\"1\" class=\"dataframe\">\n",
       "  <thead>\n",
       "    <tr style=\"text-align: right;\">\n",
       "      <th></th>\n",
       "      <th>HotelID</th>\n",
       "      <th>AirlineID</th>\n",
       "    </tr>\n",
       "    <tr>\n",
       "      <th>CustomerID</th>\n",
       "      <th></th>\n",
       "      <th></th>\n",
       "    </tr>\n",
       "  </thead>\n",
       "  <tbody>\n",
       "    <tr>\n",
       "      <th>1045</th>\n",
       "      <td>1</td>\n",
       "      <td>1</td>\n",
       "    </tr>\n",
       "    <tr>\n",
       "      <th>1085</th>\n",
       "      <td>1</td>\n",
       "      <td>1</td>\n",
       "    </tr>\n",
       "    <tr>\n",
       "      <th>1094</th>\n",
       "      <td>1</td>\n",
       "      <td>1</td>\n",
       "    </tr>\n",
       "    <tr>\n",
       "      <th>1229</th>\n",
       "      <td>1</td>\n",
       "      <td>2</td>\n",
       "    </tr>\n",
       "    <tr>\n",
       "      <th>1241</th>\n",
       "      <td>1</td>\n",
       "      <td>1</td>\n",
       "    </tr>\n",
       "    <tr>\n",
       "      <th>...</th>\n",
       "      <td>...</td>\n",
       "      <td>...</td>\n",
       "    </tr>\n",
       "    <tr>\n",
       "      <th>9527</th>\n",
       "      <td>1</td>\n",
       "      <td>1</td>\n",
       "    </tr>\n",
       "    <tr>\n",
       "      <th>9642</th>\n",
       "      <td>1</td>\n",
       "      <td>1</td>\n",
       "    </tr>\n",
       "    <tr>\n",
       "      <th>9698</th>\n",
       "      <td>1</td>\n",
       "      <td>1</td>\n",
       "    </tr>\n",
       "    <tr>\n",
       "      <th>9764</th>\n",
       "      <td>1</td>\n",
       "      <td>1</td>\n",
       "    </tr>\n",
       "    <tr>\n",
       "      <th>9796</th>\n",
       "      <td>3</td>\n",
       "      <td>2</td>\n",
       "    </tr>\n",
       "  </tbody>\n",
       "</table>\n",
       "<p>109 rows × 2 columns</p>\n",
       "</div>"
      ],
      "text/plain": [
       "            HotelID  AirlineID\n",
       "CustomerID                    \n",
       "1045              1          1\n",
       "1085              1          1\n",
       "1094              1          1\n",
       "1229              1          2\n",
       "1241              1          1\n",
       "...             ...        ...\n",
       "9527              1          1\n",
       "9642              1          1\n",
       "9698              1          1\n",
       "9764              1          1\n",
       "9796              3          2\n",
       "\n",
       "[109 rows x 2 columns]"
      ]
     },
     "execution_count": 113,
     "metadata": {},
     "output_type": "execute_result"
    }
   ],
   "source": [
    "# Using pandas to recheck the result obtained by sql\n",
    "\n",
    "df_temp=df_feedback.groupby(by='CustomerID')['HotelID','AirlineID'].count()\n",
    "df_temp=df_temp[(df_temp['HotelID']>=1) & (df_temp['AirlineID']>=1)]\n",
    "print(\"Length of the result schema : \",df_temp.shape[0])\n",
    "df_temp"
   ]
  },
  {
   "cell_type": "code",
   "execution_count": 114,
   "metadata": {},
   "outputs": [
    {
     "name": "stdout",
     "output_type": "stream",
     "text": [
      "Length of the result schema :  109\n"
     ]
    },
    {
     "data": {
      "text/plain": [
       "[(1045, 'Mason Jones', 'mason.jones@mail.com', '555-0497376'),\n",
       " (1085, 'Olivia Miller', 'olivia.miller@mail.com', '555-8743718'),\n",
       " (1094, 'Mason Martinez', 'mason.martinez@mail.com', '555-4087377'),\n",
       " (1229, 'Emma Miller', 'emma.miller@mail.com', '555-9672748'),\n",
       " (1241, 'Olivia Garcia', 'olivia.garcia@mail.com', '555-0514945'),\n",
       " (1462, 'Mia Miller', 'mia.miller@mail.com', '555-8785693'),\n",
       " (1548, 'Mason Davis', 'mason.davis@mail.com', '555-6250499'),\n",
       " (1891, 'Ethan Smith', 'ethan.smith@mail.com', '555-9454338'),\n",
       " (1898, 'Logan Martinez', 'logan.martinez@mail.com', '555-6346303'),\n",
       " (1933, 'Ethan Rodriguez', 'ethan.rodriguez@mail.com', '555-5432713'),\n",
       " (2391, 'Ava Williams', 'ava.williams@mail.com', '555-1519142'),\n",
       " (2468, 'Ava Williams', 'ava.williams@mail.com', '555-0306340'),\n",
       " (2479, 'Liam Johnson', 'liam.johnson@mail.com', '555-5991579'),\n",
       " (2482, 'Sophia Brown', 'sophia.brown@mail.com', '555-0699775'),\n",
       " (2496, 'John Smith', 'john.smith@mail.com', '555-3616974'),\n",
       " (2840, 'Mia Smith', 'mia.smith@mail.com', '555-2197055'),\n",
       " (3047, 'Sophia Garcia', 'sophia.garcia@mail.com', '555-1797618'),\n",
       " (3067, 'Logan Garcia', 'logan.garcia@mail.com', '555-8723852'),\n",
       " (3209, 'Liam Brown', 'liam.brown@mail.com', '555-0166595'),\n",
       " (3346, 'Logan Garcia', 'logan.garcia@mail.com', '555-1786594'),\n",
       " (3618, 'Logan Miller', 'logan.miller@mail.com', '555-2271807'),\n",
       " (3699, 'Mason Smith', 'mason.smith@mail.com', '555-9287719'),\n",
       " (3727, 'Emma Williams', 'emma.williams@mail.com', '555-8283458'),\n",
       " (3874, 'John Martinez', 'john.martinez@mail.com', '555-1201810'),\n",
       " (4149, 'Sophia Davis', 'sophia.davis@mail.com', '555-7585879'),\n",
       " (4253, 'Olivia Martinez', 'olivia.martinez@mail.com', '555-3255322'),\n",
       " (4290, 'Liam Martinez', 'liam.martinez@mail.com', '555-3004787'),\n",
       " (4317, 'Ethan Miller', 'ethan.miller@mail.com', '555-7366655'),\n",
       " (4353, 'John Smith', 'john.smith@mail.com', '555-3493476'),\n",
       " (4506, 'Ava Smith', 'ava.smith@mail.com', '555-8868423'),\n",
       " (4531, 'Logan Brown', 'logan.brown@mail.com', '555-8853740'),\n",
       " (4586, 'Olivia Martinez', 'olivia.martinez@mail.com', '555-1094118'),\n",
       " (4609, 'Ethan Rodriguez', 'ethan.rodriguez@mail.com', '555-5969914'),\n",
       " (4681, 'Sophia Garcia', 'sophia.garcia@mail.com', '555-6778980'),\n",
       " (4694, 'Ava Rodriguez', 'ava.rodriguez@mail.com', '555-1763037'),\n",
       " (4734, 'Mason Jones', 'mason.jones@mail.com', '555-9859933'),\n",
       " (4761, 'Mason Miller', 'mason.miller@mail.com', '555-8706942'),\n",
       " (5015, 'Olivia Miller', 'olivia.miller@mail.com', '555-6375667'),\n",
       " (5047, 'Olivia Johnson', 'olivia.johnson@mail.com', '555-8142328'),\n",
       " (5074, 'Mia Rodriguez', 'mia.rodriguez@mail.com', '555-3597936'),\n",
       " (5101, 'Logan Johnson', 'logan.johnson@mail.com', '555-0898213'),\n",
       " (5238, 'Ava Rodriguez', 'ava.rodriguez@mail.com', '555-0302814'),\n",
       " (5279, 'Liam Davis', 'liam.davis@mail.com', '555-9816387'),\n",
       " (5393, 'Sophia Johnson', 'sophia.johnson@mail.com', '555-8333408'),\n",
       " (5414, 'John Smith', 'john.smith@mail.com', '555-5329141'),\n",
       " (5417, 'Mason Brown', 'mason.brown@mail.com', '555-7018305'),\n",
       " (5448, 'Liam Davis', 'liam.davis@mail.com', '555-2949165'),\n",
       " (5506, 'Mason Brown', 'mason.brown@mail.com', '555-0258878'),\n",
       " (5524, 'Ava Davis', 'ava.davis@mail.com', '555-4376898'),\n",
       " (5559, 'Mason Jones', 'mason.jones@mail.com', '555-1751791'),\n",
       " (5649, 'Ava Garcia', 'ava.garcia@mail.com', '555-3577079'),\n",
       " (5673, 'Ava Williams', 'ava.williams@mail.com', '555-8246125'),\n",
       " (5682, 'Liam Williams', 'liam.williams@mail.com', '555-9372149'),\n",
       " (5970, 'John Johnson', 'john.johnson@mail.com', '555-3857295'),\n",
       " (6003, 'Liam Brown', 'liam.brown@mail.com', '555-5183574'),\n",
       " (6117, 'Logan Martinez', 'logan.martinez@mail.com', '555-6781352'),\n",
       " (6148, 'Ethan Martinez', 'ethan.martinez@mail.com', '555-3339628'),\n",
       " (6260, 'Ethan Smith', 'ethan.smith@mail.com', '555-4014268'),\n",
       " (6337, 'Ethan Rodriguez', 'ethan.rodriguez@mail.com', '555-7714590'),\n",
       " (6383, 'Mia Williams', 'mia.williams@mail.com', '555-4798996'),\n",
       " (6407, 'Emma Smith', 'emma.smith@mail.com', '555-0707146'),\n",
       " (6442, 'John Davis', 'john.davis@mail.com', '555-5153122'),\n",
       " (6470, 'Emma Davis', 'emma.davis@mail.com', '555-8584852'),\n",
       " (6570, 'Sophia Garcia', 'sophia.garcia@mail.com', '555-4477984'),\n",
       " (6646, 'Emma Garcia', 'emma.garcia@mail.com', '555-3832976'),\n",
       " (6723, 'John Brown', 'john.brown@mail.com', '555-5988133'),\n",
       " (6734, 'Ava Miller', 'ava.miller@mail.com', '555-0921939'),\n",
       " (6930, 'John Williams', 'john.williams@mail.com', '555-9373187'),\n",
       " (6946, 'Mia Martinez', 'mia.martinez@mail.com', '555-0308937'),\n",
       " (7044, 'Mia Davis', 'mia.davis@mail.com', '555-4185374'),\n",
       " (7080, 'Liam Jones', 'liam.jones@mail.com', '555-3294076'),\n",
       " (7163, 'Liam Brown', 'liam.brown@mail.com', '555-1772445'),\n",
       " (7180, 'Mia Jones', 'mia.jones@mail.com', '555-3274877'),\n",
       " (7191, 'Sophia Martinez', 'sophia.martinez@mail.com', '555-0293096'),\n",
       " (7439, 'Logan Johnson', 'logan.johnson@mail.com', '555-5232222'),\n",
       " (7492, 'Sophia Jones', 'sophia.jones@mail.com', '555-5176700'),\n",
       " (7498, 'Sophia Rodriguez', 'sophia.rodriguez@mail.com', '555-7717570'),\n",
       " (7794, 'Olivia Williams', 'olivia.williams@mail.com', '555-0618229'),\n",
       " (7798, 'Emma Miller', 'emma.miller@mail.com', '555-4005422'),\n",
       " (7837, 'Sophia Smith', 'sophia.smith@mail.com', '555-3170326'),\n",
       " (7888, 'Olivia Davis', 'olivia.davis@mail.com', '555-7937883'),\n",
       " (7932, 'Mason Brown', 'mason.brown@mail.com', '555-5765623'),\n",
       " (8096, 'Olivia Davis', 'olivia.davis@mail.com', '555-6970002'),\n",
       " (8247, 'Liam Miller', 'liam.miller@mail.com', '555-3750839'),\n",
       " (8292, 'Mason Brown', 'mason.brown@mail.com', '555-4291570'),\n",
       " (8379, 'Liam Brown', 'liam.brown@mail.com', '555-3328325'),\n",
       " (8380, 'Olivia Miller', 'olivia.miller@mail.com', '555-7935514'),\n",
       " (8410, 'Mason Brown', 'mason.brown@mail.com', '555-0826096'),\n",
       " (8480, 'Mason Brown', 'mason.brown@mail.com', '555-3196635'),\n",
       " (8492, 'Olivia Rodriguez', 'olivia.rodriguez@mail.com', '555-1943374'),\n",
       " (8538, 'John Johnson', 'john.johnson@mail.com', '555-8621989'),\n",
       " (8651, 'Ethan Jones', 'ethan.jones@mail.com', '555-0003961'),\n",
       " (8702, 'Sophia Johnson', 'sophia.johnson@mail.com', '555-2448547'),\n",
       " (8799, 'Mia Johnson', 'mia.johnson@mail.com', '555-8471012'),\n",
       " (8839, 'Olivia Williams', 'olivia.williams@mail.com', '555-0780377'),\n",
       " (9029, 'Ethan Smith', 'ethan.smith@mail.com', '555-1189744'),\n",
       " (9085, 'Emma Brown', 'emma.brown@mail.com', '555-7136775'),\n",
       " (9147, 'Mia Miller', 'mia.miller@mail.com', '555-2636922'),\n",
       " (9180, 'Logan Brown', 'logan.brown@mail.com', '555-6902160'),\n",
       " (9220, 'Olivia Martinez', 'olivia.martinez@mail.com', '555-1759381'),\n",
       " (9244, 'Liam Davis', 'liam.davis@mail.com', '555-8686220'),\n",
       " (9258, 'Mason Miller', 'mason.miller@mail.com', '555-8064585'),\n",
       " (9382, 'Ava Jones', 'ava.jones@mail.com', '555-2606180'),\n",
       " (9497, 'Ava Smith', 'ava.smith@mail.com', '555-4286562'),\n",
       " (9527, 'Ethan Davis', 'ethan.davis@mail.com', '555-0282897'),\n",
       " (9642, 'John Smith', 'john.smith@mail.com', '555-4394283'),\n",
       " (9698, 'Mia Williams', 'mia.williams@mail.com', '555-6569856'),\n",
       " (9764, 'Logan Williams', 'logan.williams@mail.com', '555-2061905'),\n",
       " (9796, 'Ava Brown', 'ava.brown@mail.com', '555-5172056')]"
      ]
     },
     "execution_count": 114,
     "metadata": {},
     "output_type": "execute_result"
    }
   ],
   "source": [
    "# Doing this query without using groupby is a bit harder than Q3.\n",
    "# In order to query without grouping, I have used two Feedbacks data (self joining) and wrote every condition in WHERE section.\n",
    "\n",
    "# The CustomerIDs must be same whilst FeedbackIDs are different. This way we can say that we pick different rows with the same CustomerID.\n",
    "# After that we say that either one row has HotelID and other has AirlineID or one row has both HotelID and AirlineID.\n",
    "# This way we can complete our query without using groupby or any aggregate functions.\n",
    "\n",
    "query_wo_gb='''\n",
    "          SELECT DISTINCT C.CustomerID,C.CustomerName,C.CustomerEmail,C.CustomerPhone\n",
    "          FROM Feedbacks F1,Feedbacks F2,Customers C\n",
    "          WHERE F1.CustomerID = C.CustomerID AND F1.FeedbackID<>F2.FeedbackID AND F1.CustomerID=F2.CustomerID AND\n",
    "          ((F1.HotelID IS NOT NULL AND F2.AirlineID IS NOT NULL) OR (F1.AirlineID IS NOT NULL AND F2.HotelID IS NOT NULL) OR (F1.HotelID IS NOT NULL AND F1.AirlineID IS NOT NULL) OR (F2.AirlineID IS NOT NULL AND F2.HotelID IS NOT NULL))\n",
    "          ;       \n",
    "       '''\n",
    "\n",
    "c.execute(query_wo_gb)   \n",
    "resultq6=c.fetchall()\n",
    "print(\"Length of the result schema : \",len(resultq6))\n",
    "resultq6\n"
   ]
  },
  {
   "cell_type": "markdown",
   "metadata": {},
   "source": [
    "# 2nd SET OF QUESTIONS: DATA ANALYSIS WITH VISUALIZATION TOOLS\n",
    "\n",
    "In the 2nd part of this hw, you are to deal with the famous dataset of Titanic [1]. Answer the following questions, using visualization tools, and comment on your work."
   ]
  },
  {
   "cell_type": "markdown",
   "metadata": {},
   "source": [
    "## Q1. Read the Titanic dataset into a DataFrame. Using a pivot table, analyze the survival rate by gender and class.\n"
   ]
  },
  {
   "cell_type": "code",
   "execution_count": 152,
   "metadata": {},
   "outputs": [
    {
     "data": {
      "text/html": [
       "<div>\n",
       "<style scoped>\n",
       "    .dataframe tbody tr th:only-of-type {\n",
       "        vertical-align: middle;\n",
       "    }\n",
       "\n",
       "    .dataframe tbody tr th {\n",
       "        vertical-align: top;\n",
       "    }\n",
       "\n",
       "    .dataframe thead th {\n",
       "        text-align: right;\n",
       "    }\n",
       "</style>\n",
       "<table border=\"1\" class=\"dataframe\">\n",
       "  <thead>\n",
       "    <tr style=\"text-align: right;\">\n",
       "      <th></th>\n",
       "      <th>PassengerId</th>\n",
       "      <th>Survived</th>\n",
       "      <th>Pclass</th>\n",
       "      <th>Name</th>\n",
       "      <th>Sex</th>\n",
       "      <th>Age</th>\n",
       "      <th>SibSp</th>\n",
       "      <th>Parch</th>\n",
       "      <th>Ticket</th>\n",
       "      <th>Fare</th>\n",
       "      <th>Cabin</th>\n",
       "      <th>Embarked</th>\n",
       "    </tr>\n",
       "  </thead>\n",
       "  <tbody>\n",
       "    <tr>\n",
       "      <th>0</th>\n",
       "      <td>1</td>\n",
       "      <td>0</td>\n",
       "      <td>3</td>\n",
       "      <td>Braund, Mr. Owen Harris</td>\n",
       "      <td>male</td>\n",
       "      <td>22.0</td>\n",
       "      <td>1</td>\n",
       "      <td>0</td>\n",
       "      <td>A/5 21171</td>\n",
       "      <td>7.2500</td>\n",
       "      <td>NaN</td>\n",
       "      <td>S</td>\n",
       "    </tr>\n",
       "    <tr>\n",
       "      <th>1</th>\n",
       "      <td>2</td>\n",
       "      <td>1</td>\n",
       "      <td>1</td>\n",
       "      <td>Cumings, Mrs. John Bradley (Florence Briggs Th...</td>\n",
       "      <td>female</td>\n",
       "      <td>38.0</td>\n",
       "      <td>1</td>\n",
       "      <td>0</td>\n",
       "      <td>PC 17599</td>\n",
       "      <td>71.2833</td>\n",
       "      <td>C85</td>\n",
       "      <td>C</td>\n",
       "    </tr>\n",
       "    <tr>\n",
       "      <th>2</th>\n",
       "      <td>3</td>\n",
       "      <td>1</td>\n",
       "      <td>3</td>\n",
       "      <td>Heikkinen, Miss. Laina</td>\n",
       "      <td>female</td>\n",
       "      <td>26.0</td>\n",
       "      <td>0</td>\n",
       "      <td>0</td>\n",
       "      <td>STON/O2. 3101282</td>\n",
       "      <td>7.9250</td>\n",
       "      <td>NaN</td>\n",
       "      <td>S</td>\n",
       "    </tr>\n",
       "    <tr>\n",
       "      <th>3</th>\n",
       "      <td>4</td>\n",
       "      <td>1</td>\n",
       "      <td>1</td>\n",
       "      <td>Futrelle, Mrs. Jacques Heath (Lily May Peel)</td>\n",
       "      <td>female</td>\n",
       "      <td>35.0</td>\n",
       "      <td>1</td>\n",
       "      <td>0</td>\n",
       "      <td>113803</td>\n",
       "      <td>53.1000</td>\n",
       "      <td>C123</td>\n",
       "      <td>S</td>\n",
       "    </tr>\n",
       "    <tr>\n",
       "      <th>4</th>\n",
       "      <td>5</td>\n",
       "      <td>0</td>\n",
       "      <td>3</td>\n",
       "      <td>Allen, Mr. William Henry</td>\n",
       "      <td>male</td>\n",
       "      <td>35.0</td>\n",
       "      <td>0</td>\n",
       "      <td>0</td>\n",
       "      <td>373450</td>\n",
       "      <td>8.0500</td>\n",
       "      <td>NaN</td>\n",
       "      <td>S</td>\n",
       "    </tr>\n",
       "  </tbody>\n",
       "</table>\n",
       "</div>"
      ],
      "text/plain": [
       "   PassengerId  Survived  Pclass  \\\n",
       "0            1         0       3   \n",
       "1            2         1       1   \n",
       "2            3         1       3   \n",
       "3            4         1       1   \n",
       "4            5         0       3   \n",
       "\n",
       "                                                Name     Sex   Age  SibSp  \\\n",
       "0                            Braund, Mr. Owen Harris    male  22.0      1   \n",
       "1  Cumings, Mrs. John Bradley (Florence Briggs Th...  female  38.0      1   \n",
       "2                             Heikkinen, Miss. Laina  female  26.0      0   \n",
       "3       Futrelle, Mrs. Jacques Heath (Lily May Peel)  female  35.0      1   \n",
       "4                           Allen, Mr. William Henry    male  35.0      0   \n",
       "\n",
       "   Parch            Ticket     Fare Cabin Embarked  \n",
       "0      0         A/5 21171   7.2500   NaN        S  \n",
       "1      0          PC 17599  71.2833   C85        C  \n",
       "2      0  STON/O2. 3101282   7.9250   NaN        S  \n",
       "3      0            113803  53.1000  C123        S  \n",
       "4      0            373450   8.0500   NaN        S  "
      ]
     },
     "execution_count": 152,
     "metadata": {},
     "output_type": "execute_result"
    }
   ],
   "source": [
    "# your code here\n",
    "\n",
    "# reading csv data and deep copying it to a pandas dataframe object named raw_data.\n",
    "raw_data=pd.read_csv(\"titanic.csv\",encoding='utf8')\n",
    "raw_data.head()"
   ]
  },
  {
   "cell_type": "code",
   "execution_count": 153,
   "metadata": {},
   "outputs": [
    {
     "name": "stdout",
     "output_type": "stream",
     "text": [
      "Count of null values in feature pclass :  0\n",
      "Count of na values in feature pclass :   0\n",
      "Count of null values in feature sex :  0\n",
      "Count of na values in feature sex :   0\n",
      "Count of null values in feature survived :  0\n",
      "Count of na values in feature survived :   0\n",
      "\n",
      "      As we can see hopefuly there is no empty entries in thefeatures we will work on. \n",
      "      It is crucial to check this before doing any operation on data because if we had too many empty entries, then our inferences may not comply with reality. \n",
      "      \n"
     ]
    }
   ],
   "source": [
    "print(\"Count of null values in feature pclass : \",len(raw_data.loc[raw_data['Pclass'].isnull()]))\n",
    "print(\"Count of na values in feature pclass :  \",len(raw_data.loc[raw_data['Pclass'].isna()]))\n",
    "print(\"Count of null values in feature sex : \",len(raw_data.loc[raw_data['Sex'].isnull()]))\n",
    "print(\"Count of na values in feature sex :  \",len(raw_data.loc[raw_data['Sex'].isna()]))\n",
    "print(\"Count of null values in feature survived : \",len(raw_data.loc[raw_data['Survived'].isnull()]))\n",
    "print(\"Count of na values in feature survived :  \",len(raw_data.loc[raw_data['Survived'].isna()]))\n",
    "\n",
    "print('''\n",
    "      As we can see hopefuly there is no empty entries in thefeatures we will work on. \n",
    "      It is crucial to check this before doing any operation on data because if we had too many empty entries, then our inferences may not comply with reality. \n",
    "      ''')"
   ]
  },
  {
   "cell_type": "code",
   "execution_count": 154,
   "metadata": {},
   "outputs": [
    {
     "name": "stdout",
     "output_type": "stream",
     "text": [
      "male      0.647587\n",
      "female    0.352413\n",
      "Name: Sex, dtype: float64\n",
      "\n",
      "       We can clearly see that the data is not homogeneous by the feature 'Sex'.\n",
      "       This may be considered in explanation part in the pivot table at the end\n",
      "      \n"
     ]
    }
   ],
   "source": [
    "print(raw_data['Sex'].value_counts(True))\n",
    "\n",
    "print('''\n",
    "       We can clearly see that the data is not homogeneous by the feature 'Sex'.\n",
    "       This may be considered in explanation part in the pivot table at the end\n",
    "      ''')"
   ]
  },
  {
   "cell_type": "code",
   "execution_count": 155,
   "metadata": {},
   "outputs": [
    {
     "name": "stdout",
     "output_type": "stream",
     "text": [
      "3    0.551066\n",
      "1    0.242424\n",
      "2    0.206510\n",
      "Name: Pclass, dtype: float64\n",
      "\n",
      "       Also more than half of the tickets are sold with Pclass 3.\n",
      "       The unique Pclass type which sold the least is 2 with %20.65 and after that Pclass=1 comes with a %24.24 percentage.\n",
      "       \n",
      "      \n"
     ]
    }
   ],
   "source": [
    "print(raw_data['Pclass'].value_counts(True))\n",
    "\n",
    "print('''\n",
    "       Also more than half of the tickets are sold with Pclass 3.\n",
    "       The unique Pclass type which sold the least is 2 with %20.65 and after that Pclass=1 comes with a %24.24 percentage.\n",
    "       \n",
    "      ''')"
   ]
  },
  {
   "cell_type": "code",
   "execution_count": 156,
   "metadata": {},
   "outputs": [
    {
     "name": "stdout",
     "output_type": "stream",
     "text": [
      "Sex     Pclass\n",
      "male    3         347\n",
      "female  3         144\n",
      "male    1         122\n",
      "        2         108\n",
      "female  1          94\n",
      "        2          76\n",
      "dtype: int64\n",
      "\n",
      "       When you check the count of passengers for every Pclass , you can see that there is always more male than female in every Pclass.\n",
      "      If the survival of a passenger is not correlated with any feature we inspect, we would expect them to distribute evenly.(%50-%50)\n",
      "      Since we have more males than females , if our survival feature isn't correlated with anything then we would expect there are more male people survived than female people survived.(Because of the %50-%50 normal chance.)\n",
      "      Let's check if our assumotions are true or not.\n",
      "       \n",
      "      \n"
     ]
    }
   ],
   "source": [
    "print(raw_data[['Sex','Pclass']].value_counts())\n",
    "print('''\n",
    "       When you check the count of passengers for every Pclass , you can see that there is always more male than female in every Pclass.\n",
    "      If the survival of a passenger is not correlated with any feature we inspect, we would expect them to distribute evenly.(%50-%50)\n",
    "      Since we have more males than females , if our survival feature isn't correlated with anything then we would expect there are more male people survived than female people survived.(Because of the %50-%50 normal chance.)\n",
    "      Let's check if our assumotions are true or not.\n",
    "       \n",
    "      ''')"
   ]
  },
  {
   "cell_type": "code",
   "execution_count": 157,
   "metadata": {},
   "outputs": [
    {
     "data": {
      "text/html": [
       "<div>\n",
       "<style scoped>\n",
       "    .dataframe tbody tr th:only-of-type {\n",
       "        vertical-align: middle;\n",
       "    }\n",
       "\n",
       "    .dataframe tbody tr th {\n",
       "        vertical-align: top;\n",
       "    }\n",
       "\n",
       "    .dataframe thead th {\n",
       "        text-align: right;\n",
       "    }\n",
       "</style>\n",
       "<table border=\"1\" class=\"dataframe\">\n",
       "  <thead>\n",
       "    <tr style=\"text-align: right;\">\n",
       "      <th></th>\n",
       "      <th>PassengerId</th>\n",
       "      <th>Sex</th>\n",
       "      <th>Pclass</th>\n",
       "      <th>Survived</th>\n",
       "    </tr>\n",
       "  </thead>\n",
       "  <tbody>\n",
       "    <tr>\n",
       "      <th>0</th>\n",
       "      <td>1</td>\n",
       "      <td>male</td>\n",
       "      <td>3</td>\n",
       "      <td>0</td>\n",
       "    </tr>\n",
       "    <tr>\n",
       "      <th>1</th>\n",
       "      <td>2</td>\n",
       "      <td>female</td>\n",
       "      <td>1</td>\n",
       "      <td>1</td>\n",
       "    </tr>\n",
       "    <tr>\n",
       "      <th>2</th>\n",
       "      <td>3</td>\n",
       "      <td>female</td>\n",
       "      <td>3</td>\n",
       "      <td>1</td>\n",
       "    </tr>\n",
       "    <tr>\n",
       "      <th>3</th>\n",
       "      <td>4</td>\n",
       "      <td>female</td>\n",
       "      <td>1</td>\n",
       "      <td>1</td>\n",
       "    </tr>\n",
       "    <tr>\n",
       "      <th>4</th>\n",
       "      <td>5</td>\n",
       "      <td>male</td>\n",
       "      <td>3</td>\n",
       "      <td>0</td>\n",
       "    </tr>\n",
       "  </tbody>\n",
       "</table>\n",
       "</div>"
      ],
      "text/plain": [
       "   PassengerId     Sex  Pclass  Survived\n",
       "0            1    male       3         0\n",
       "1            2  female       1         1\n",
       "2            3  female       3         1\n",
       "3            4  female       1         1\n",
       "4            5    male       3         0"
      ]
     },
     "execution_count": 157,
     "metadata": {},
     "output_type": "execute_result"
    }
   ],
   "source": [
    "#creating a sub df for a clean view\n",
    "pivot_df=raw_data[['PassengerId','Sex','Pclass','Survived']]\n",
    "pivot_df.head()"
   ]
  },
  {
   "cell_type": "code",
   "execution_count": 158,
   "metadata": {},
   "outputs": [
    {
     "name": "stdout",
     "output_type": "stream",
     "text": [
      "Pivot Table for features 'Survived' - 'Sex' - 'Pclass' \n",
      "\n",
      "Survived         0   1\n",
      "Sex    Pclass         \n",
      "female 1         3  91\n",
      "       2         6  70\n",
      "       3        72  72\n",
      "male   1        77  45\n",
      "       2        91  17\n",
      "       3       300  47\n"
     ]
    }
   ],
   "source": [
    "pivot_table_titanic=pd.pivot_table(pivot_df,values='PassengerId',index=['Sex','Pclass'],columns=['Survived'],aggfunc=\"count\")\n",
    "print(\"Pivot Table for features 'Survived' - 'Sex' - 'Pclass' \\n\")\n",
    "print(pivot_table_titanic)"
   ]
  },
  {
   "cell_type": "code",
   "execution_count": 159,
   "metadata": {},
   "outputs": [],
   "source": [
    "# Created another column which holds survival ratio for every index.\n",
    "# This column will help while checking if sex or pclass has a correlation with survival or not.\n",
    "pivot_table_titanic['Ratio of Survival for every index: ']=pivot_table_titanic[1]/(pivot_table_titanic[1]+pivot_table_titanic[0])"
   ]
  },
  {
   "cell_type": "code",
   "execution_count": 160,
   "metadata": {},
   "outputs": [
    {
     "data": {
      "text/html": [
       "<div>\n",
       "<style scoped>\n",
       "    .dataframe tbody tr th:only-of-type {\n",
       "        vertical-align: middle;\n",
       "    }\n",
       "\n",
       "    .dataframe tbody tr th {\n",
       "        vertical-align: top;\n",
       "    }\n",
       "\n",
       "    .dataframe thead th {\n",
       "        text-align: right;\n",
       "    }\n",
       "</style>\n",
       "<table border=\"1\" class=\"dataframe\">\n",
       "  <thead>\n",
       "    <tr style=\"text-align: right;\">\n",
       "      <th></th>\n",
       "      <th>Survived</th>\n",
       "      <th>0</th>\n",
       "      <th>1</th>\n",
       "      <th>Ratio of Survival for every index:</th>\n",
       "    </tr>\n",
       "    <tr>\n",
       "      <th>Sex</th>\n",
       "      <th>Pclass</th>\n",
       "      <th></th>\n",
       "      <th></th>\n",
       "      <th></th>\n",
       "    </tr>\n",
       "  </thead>\n",
       "  <tbody>\n",
       "    <tr>\n",
       "      <th rowspan=\"3\" valign=\"top\">female</th>\n",
       "      <th>1</th>\n",
       "      <td>3</td>\n",
       "      <td>91</td>\n",
       "      <td>0.968085</td>\n",
       "    </tr>\n",
       "    <tr>\n",
       "      <th>2</th>\n",
       "      <td>6</td>\n",
       "      <td>70</td>\n",
       "      <td>0.921053</td>\n",
       "    </tr>\n",
       "    <tr>\n",
       "      <th>3</th>\n",
       "      <td>72</td>\n",
       "      <td>72</td>\n",
       "      <td>0.500000</td>\n",
       "    </tr>\n",
       "    <tr>\n",
       "      <th rowspan=\"3\" valign=\"top\">male</th>\n",
       "      <th>1</th>\n",
       "      <td>77</td>\n",
       "      <td>45</td>\n",
       "      <td>0.368852</td>\n",
       "    </tr>\n",
       "    <tr>\n",
       "      <th>2</th>\n",
       "      <td>91</td>\n",
       "      <td>17</td>\n",
       "      <td>0.157407</td>\n",
       "    </tr>\n",
       "    <tr>\n",
       "      <th>3</th>\n",
       "      <td>300</td>\n",
       "      <td>47</td>\n",
       "      <td>0.135447</td>\n",
       "    </tr>\n",
       "  </tbody>\n",
       "</table>\n",
       "</div>"
      ],
      "text/plain": [
       "Survived         0   1  Ratio of Survival for every index: \n",
       "Sex    Pclass                                              \n",
       "female 1         3  91                             0.968085\n",
       "       2         6  70                             0.921053\n",
       "       3        72  72                             0.500000\n",
       "male   1        77  45                             0.368852\n",
       "       2        91  17                             0.157407\n",
       "       3       300  47                             0.135447"
      ]
     },
     "execution_count": 160,
     "metadata": {},
     "output_type": "execute_result"
    }
   ],
   "source": [
    "pivot_table_titanic"
   ]
  },
  {
   "cell_type": "code",
   "execution_count": 161,
   "metadata": {},
   "outputs": [],
   "source": [
    "# Encoding binary variable 'Sex' and concatanating it to pivot_df dataframe.\n",
    "# I do that because I wonder the correletaion percentages between survival - sex and survival - gender .\n",
    "pivot_df=pd.concat((pd.get_dummies(pivot_df['Sex'],drop_first=True),pivot_df),axis=1)"
   ]
  },
  {
   "cell_type": "code",
   "execution_count": 162,
   "metadata": {},
   "outputs": [
    {
     "name": "stderr",
     "output_type": "stream",
     "text": [
      "C:\\Users\\demir\\AppData\\Local\\Temp\\ipykernel_19376\\682698590.py:1: FutureWarning: The default value of numeric_only in DataFrame.corr is deprecated. In a future version, it will default to False. Select only valid columns or specify the value of numeric_only to silence this warning.\n",
      "  pivot_df.corr()\n"
     ]
    },
    {
     "data": {
      "text/html": [
       "<div>\n",
       "<style scoped>\n",
       "    .dataframe tbody tr th:only-of-type {\n",
       "        vertical-align: middle;\n",
       "    }\n",
       "\n",
       "    .dataframe tbody tr th {\n",
       "        vertical-align: top;\n",
       "    }\n",
       "\n",
       "    .dataframe thead th {\n",
       "        text-align: right;\n",
       "    }\n",
       "</style>\n",
       "<table border=\"1\" class=\"dataframe\">\n",
       "  <thead>\n",
       "    <tr style=\"text-align: right;\">\n",
       "      <th></th>\n",
       "      <th>male</th>\n",
       "      <th>PassengerId</th>\n",
       "      <th>Pclass</th>\n",
       "      <th>Survived</th>\n",
       "    </tr>\n",
       "  </thead>\n",
       "  <tbody>\n",
       "    <tr>\n",
       "      <th>male</th>\n",
       "      <td>1.000000</td>\n",
       "      <td>0.042939</td>\n",
       "      <td>0.131900</td>\n",
       "      <td>-0.543351</td>\n",
       "    </tr>\n",
       "    <tr>\n",
       "      <th>PassengerId</th>\n",
       "      <td>0.042939</td>\n",
       "      <td>1.000000</td>\n",
       "      <td>-0.035144</td>\n",
       "      <td>-0.005007</td>\n",
       "    </tr>\n",
       "    <tr>\n",
       "      <th>Pclass</th>\n",
       "      <td>0.131900</td>\n",
       "      <td>-0.035144</td>\n",
       "      <td>1.000000</td>\n",
       "      <td>-0.338481</td>\n",
       "    </tr>\n",
       "    <tr>\n",
       "      <th>Survived</th>\n",
       "      <td>-0.543351</td>\n",
       "      <td>-0.005007</td>\n",
       "      <td>-0.338481</td>\n",
       "      <td>1.000000</td>\n",
       "    </tr>\n",
       "  </tbody>\n",
       "</table>\n",
       "</div>"
      ],
      "text/plain": [
       "                 male  PassengerId    Pclass  Survived\n",
       "male         1.000000     0.042939  0.131900 -0.543351\n",
       "PassengerId  0.042939     1.000000 -0.035144 -0.005007\n",
       "Pclass       0.131900    -0.035144  1.000000 -0.338481\n",
       "Survived    -0.543351    -0.005007 -0.338481  1.000000"
      ]
     },
     "execution_count": 162,
     "metadata": {},
     "output_type": "execute_result"
    }
   ],
   "source": [
    "pivot_df.corr()"
   ]
  },
  {
   "cell_type": "markdown",
   "metadata": {},
   "source": [
    "### Conclusion : \n",
    "* We can see that survival rates of females (no matter what the Pclass is) are way higher than males.\n",
    "* Also there is a inverse descending pattern for survival raito and Pclass - the higher PClass is the higher survival rate that instances get.\n",
    "* Sex feature has stronger correlation with survival than Pclass has with survival. We can figure that out with correlation table which created in the code above."
   ]
  },
  {
   "cell_type": "markdown",
   "metadata": {},
   "source": [
    "## Q2. Create a histogram showcasing the age distribution of passengers. Overlay this with a KDE plot. Comment on the most common age group aboard the Titanic.\n"
   ]
  },
  {
   "cell_type": "code",
   "execution_count": 163,
   "metadata": {},
   "outputs": [
    {
     "name": "stdout",
     "output_type": "stream",
     "text": [
      "<class 'pandas.core.series.Series'>\n",
      "RangeIndex: 891 entries, 0 to 890\n",
      "Series name: Age\n",
      "Non-Null Count  Dtype  \n",
      "--------------  -----  \n",
      "714 non-null    float64\n",
      "dtypes: float64(1)\n",
      "memory usage: 7.1 KB\n",
      "None\n",
      "count    714.000000\n",
      "mean      29.699118\n",
      "std       14.526497\n",
      "min        0.420000\n",
      "25%       20.125000\n",
      "50%       28.000000\n",
      "75%       38.000000\n",
      "max       80.000000\n",
      "Name: Age, dtype: float64\n",
      "Count of null values in feature age :  177\n"
     ]
    }
   ],
   "source": [
    "#First let's describe our age data and check if we have any null or missing values.\n",
    "print(raw_data['Age'].info())\n",
    "print(raw_data['Age'].describe())\n",
    "\n",
    "print(\"Count of null values in feature age : \",raw_data.loc[raw_data['Age'].isnull()].shape[0])"
   ]
  },
  {
   "cell_type": "code",
   "execution_count": 164,
   "metadata": {},
   "outputs": [
    {
     "name": "stdout",
     "output_type": "stream",
     "text": [
      "Count of null age values in df_age_nnull :  0\n"
     ]
    }
   ],
   "source": [
    "# We can not plot null values in a histogram , so we will create a sub df which only includes the non-null age values.\n",
    "df_age_nnull= raw_data.loc[raw_data['Age'].isnull()==False]\n",
    "print(\"Count of null age values in df_age_nnull : \",df_age_nnull.loc[df_age_nnull['Age'].isnull()].shape[0])"
   ]
  },
  {
   "cell_type": "code",
   "execution_count": 165,
   "metadata": {},
   "outputs": [
    {
     "name": "stdout",
     "output_type": "stream",
     "text": [
      "Bin number calculated with Sturges' Rule :  22\n"
     ]
    }
   ],
   "source": [
    "#In order to plot a histogram diagram for age feature, we need to select a proper bin size.\n",
    "#To do that , I'll use Sturges' theorem. (bin_size = 1+ 3.322 *(log(n)) , n is the number of total observations)\n",
    "import math\n",
    "\n",
    "bin_number=(int)(1.0+ 3.322*(math.log(len(df_age_nnull)))) # bin_number -> 22\n",
    "print(\"Bin number calculated with Sturges' Rule : \",bin_number)"
   ]
  },
  {
   "cell_type": "code",
   "execution_count": 166,
   "metadata": {},
   "outputs": [
    {
     "data": {
      "image/png": "[encoded data removed]",
      "text/plain": [
       "<Figure size 640x480 with 1 Axes>"
      ]
     },
     "metadata": {},
     "output_type": "display_data"
    }
   ],
   "source": [
    "#Now we can create a histogram of age feature. Using matplotlib\n",
    "plt.hist(df_age_nnull['Age'],bins=bin_number)\n",
    "plt.xlabel(\"Age Values\")\n",
    "plt.ylabel(\"Occurence\")\n",
    "plt.title(\"Distribution of Age (Histogram)\")\n",
    "plt.show()"
   ]
  },
  {
   "cell_type": "code",
   "execution_count": 167,
   "metadata": {},
   "outputs": [
    {
     "name": "stdout",
     "output_type": "stream",
     "text": [
      "Age that occurred most in distribution :  24.81386934673367\n"
     ]
    },
    {
     "data": {
      "image/png": "[encoded data removed]",
      "text/plain": [
       "<Figure size 640x480 with 1 Axes>"
      ]
     },
     "metadata": {},
     "output_type": "display_data"
    }
   ],
   "source": [
    "# Plotting KDE plot of age feature. Using seaborn\n",
    "ax = sns.histplot(data=df_age_nnull,x='Age',kde=True)\n",
    "plt.title('KDE-Histogram Plot of Age')\n",
    "ax.lines[0].set_color('crimson')\n",
    "\n",
    "x_kde = ax.lines[0].get_xdata() \n",
    "y_kde = ax.lines[0].get_ydata() \n",
    "maxOccured = np.argmax(y_kde) # The id of the max occurred age\n",
    "\n",
    "plt.plot(x_kde[maxOccured],y_kde[maxOccured],'go',ms=10)\n",
    "ax.plot()\n",
    "\n",
    "print(\"Age that occurred most in distribution : \",x_kde[maxOccured])"
   ]
  },
  {
   "cell_type": "markdown",
   "metadata": {},
   "source": [
    "### Steps\n",
    "* First I've checked whether age feature has null values.\n",
    "* There exists entries that doesn't include age information , so I've created a new sub df which only includes non-empty age valued entries.\n",
    "* Then I've calculated bin number by using Sturges' Rule.\n",
    "* Finally I've plotted both histogram and kde distribution plots.\n",
    "\n",
    "### Findings\n",
    "* Graph of the age distribution is not symmetrical.\n",
    "* The graph is right skewed so we can say that mode is greater than the mean.\n",
    "* By histogram , passengers with age between 20-24 occurs the most in the dataset.\n",
    "* By kde plot , passengers with age 25 (rounded from 24.814) occured most in the distribution.\n"
   ]
  },
  {
   "cell_type": "markdown",
   "metadata": {},
   "source": [
    "## Q3. Using a pie chart, illustrate the embarkation points for Titanic passengers. Identify the port with the highest boarding. Analyze the age and sex distribution from this port. Does this distribution reflect the \"women and children first\" evacuation policy?"
   ]
  },
  {
   "cell_type": "code",
   "execution_count": 168,
   "metadata": {},
   "outputs": [
    {
     "data": {
      "image/png": "[encoded data removed]",
      "text/plain": [
       "<Figure size 640x480 with 1 Axes>"
      ]
     },
     "metadata": {},
     "output_type": "display_data"
    }
   ],
   "source": [
    "#Plotting the pie chart for embarkment points.\n",
    "plt.pie(raw_data['Embarked'].value_counts(),labels=raw_data['Embarked'].value_counts().index)\n",
    "plt.title(\"Pie chart for every embarkment point\")\n",
    "plt.legend()\n",
    "plt.show()"
   ]
  },
  {
   "cell_type": "code",
   "execution_count": 169,
   "metadata": {},
   "outputs": [
    {
     "data": {
      "text/html": [
       "<div>\n",
       "<style scoped>\n",
       "    .dataframe tbody tr th:only-of-type {\n",
       "        vertical-align: middle;\n",
       "    }\n",
       "\n",
       "    .dataframe tbody tr th {\n",
       "        vertical-align: top;\n",
       "    }\n",
       "\n",
       "    .dataframe thead th {\n",
       "        text-align: right;\n",
       "    }\n",
       "</style>\n",
       "<table border=\"1\" class=\"dataframe\">\n",
       "  <thead>\n",
       "    <tr style=\"text-align: right;\">\n",
       "      <th></th>\n",
       "      <th>PassengerId</th>\n",
       "      <th>Sex</th>\n",
       "      <th>Age</th>\n",
       "    </tr>\n",
       "  </thead>\n",
       "  <tbody>\n",
       "    <tr>\n",
       "      <th>0</th>\n",
       "      <td>1</td>\n",
       "      <td>male</td>\n",
       "      <td>22.0</td>\n",
       "    </tr>\n",
       "    <tr>\n",
       "      <th>2</th>\n",
       "      <td>3</td>\n",
       "      <td>female</td>\n",
       "      <td>26.0</td>\n",
       "    </tr>\n",
       "    <tr>\n",
       "      <th>3</th>\n",
       "      <td>4</td>\n",
       "      <td>female</td>\n",
       "      <td>35.0</td>\n",
       "    </tr>\n",
       "    <tr>\n",
       "      <th>4</th>\n",
       "      <td>5</td>\n",
       "      <td>male</td>\n",
       "      <td>35.0</td>\n",
       "    </tr>\n",
       "    <tr>\n",
       "      <th>6</th>\n",
       "      <td>7</td>\n",
       "      <td>male</td>\n",
       "      <td>54.0</td>\n",
       "    </tr>\n",
       "  </tbody>\n",
       "</table>\n",
       "</div>"
      ],
      "text/plain": [
       "   PassengerId     Sex   Age\n",
       "0            1    male  22.0\n",
       "2            3  female  26.0\n",
       "3            4  female  35.0\n",
       "4            5    male  35.0\n",
       "6            7    male  54.0"
      ]
     },
     "execution_count": 169,
     "metadata": {},
     "output_type": "execute_result"
    }
   ],
   "source": [
    "# As seen above we can clearly see that most of the passengers has boarded from 'S' embarkment point.\n",
    "# Let's create a sub df which includes age,sex features of passengers who boarded from 'S'.\n",
    "\n",
    "df_age_sex=raw_data.loc[(raw_data['Embarked']=='S') & (raw_data['Age'].notnull()) & (raw_data['Sex'].notnull())][['PassengerId','Sex','Age']]\n",
    "df_age_sex.head()\n"
   ]
  },
  {
   "cell_type": "code",
   "execution_count": 170,
   "metadata": {},
   "outputs": [
    {
     "name": "stdout",
     "output_type": "stream",
     "text": [
      "male      368\n",
      "female    186\n",
      "Name: Sex, dtype: int64\n",
      " Female percentage :  0.33574007220216606\n"
     ]
    }
   ],
   "source": [
    "print(df_age_sex['Sex'].value_counts())\n",
    "\n",
    "print(\" Female percentage : \",df_age_sex['Sex'].value_counts()[1]/(df_age_sex['Sex'].value_counts()[0]+df_age_sex['Sex'].value_counts()[1]))"
   ]
  },
  {
   "cell_type": "code",
   "execution_count": 171,
   "metadata": {},
   "outputs": [
    {
     "data": {
      "text/plain": [
       "<AxesSubplot: xlabel='Age', ylabel='Count'>"
      ]
     },
     "execution_count": 171,
     "metadata": {},
     "output_type": "execute_result"
    },
    {
     "data": {
      "image/png": "[encoded data removed]",
      "text/plain": [
       "<Figure size 640x480 with 1 Axes>"
      ]
     },
     "metadata": {},
     "output_type": "display_data"
    }
   ],
   "source": [
    "sns.histplot(data=df_age_sex,x='Age',kde=True)"
   ]
  },
  {
   "cell_type": "markdown",
   "metadata": {},
   "source": [
    "### Findings\n",
    "* When we plot a distribution graph (kde,histogram) for Age and Sex, we can not say that this embarkment point has implied the 'Women and Children First' policy.\n",
    "* Because in the age distribution , passengers whose age is smaller than 18 do not place the majority of passengers compared to the passengers whose age is between 20 - 40 .\n",
    "* However we can say that passengers whose age are smaller than 4(babies-children) has a significant frequency compared to the middle aged(40-60) and elder people(>60).\n",
    "* Furthermore when we check the distribution of male and female passengers boarded, we can see females hold %33.56 of total embarkments from S. This doesn't imply our policy neither."
   ]
  },
  {
   "cell_type": "markdown",
   "metadata": {},
   "source": [
    "## Q4. Create a scatter plot comparing age and fare. Comment on any correlations or patterns you observe."
   ]
  },
  {
   "cell_type": "code",
   "execution_count": 172,
   "metadata": {},
   "outputs": [
    {
     "name": "stdout",
     "output_type": "stream",
     "text": [
      "Count of null values in feature Age :  177\n",
      "Count of na values in feature Age :   177\n",
      "Count of null values in feature Fare :  0\n",
      "Count of na values in feature Fare :   0\n",
      "\n",
      " We need to create a new sub df which doesn't include any empty entries in Age and Fare feature.\n"
     ]
    }
   ],
   "source": [
    "print(\"Count of null values in feature Age : \",len(raw_data.loc[raw_data['Age'].isnull()]))\n",
    "print(\"Count of na values in feature Age :  \",len(raw_data.loc[raw_data['Age'].isna()]))\n",
    "print(\"Count of null values in feature Fare : \",len(raw_data.loc[raw_data['Fare'].isnull()]))\n",
    "print(\"Count of na values in feature Fare :  \",len(raw_data.loc[raw_data['Fare'].isna()]))\n",
    "\n",
    "print(\"\\n We need to create a new sub df which doesn't include any empty entries in Age and Fare feature.\")"
   ]
  },
  {
   "cell_type": "code",
   "execution_count": 173,
   "metadata": {},
   "outputs": [],
   "source": [
    "df_age_fare=raw_data.loc[(raw_data['Age'].isnull()==False)][['Age','Fare']]"
   ]
  },
  {
   "cell_type": "code",
   "execution_count": 174,
   "metadata": {},
   "outputs": [
    {
     "data": {
      "text/plain": [
       "<AxesSubplot: xlabel='Age', ylabel='Fare'>"
      ]
     },
     "execution_count": 174,
     "metadata": {},
     "output_type": "execute_result"
    },
    {
     "data": {
      "image/png": "[encoded data removed]",
      "text/plain": [
       "<Figure size 640x480 with 1 Axes>"
      ]
     },
     "metadata": {},
     "output_type": "display_data"
    }
   ],
   "source": [
    "# Now we will plot a scatter plot for Age-Fare.\n",
    "sns.scatterplot(df_age_fare,x='Age',y='Fare')\n",
    "#Here is the code for plotting a regression plot -> sns.regplot(df_age_fare,x='Age',y='Fare',color='crimson')"
   ]
  },
  {
   "cell_type": "code",
   "execution_count": 175,
   "metadata": {},
   "outputs": [
    {
     "name": "stdout",
     "output_type": "stream",
     "text": [
      "           Age      Fare\n",
      "Age   1.000000  0.096067\n",
      "Fare  0.096067  1.000000\n",
      " \n",
      "\n",
      "      As we can see from the scatter plot and correlation matrix , there is no strong connection between Age and Fare features.\n",
      "      We will check the correlation once more after we clean the data from outliers.\n",
      "       \n"
     ]
    }
   ],
   "source": [
    "print(df_age_fare.corr())\n",
    "\n",
    "print(''' \n",
    "\n",
    "      As we can see from the scatter plot and correlation matrix , there is no strong connection between Age and Fare features.\n",
    "      We will check the correlation once more after we clean the data from outliers.\n",
    "       ''')"
   ]
  },
  {
   "cell_type": "code",
   "execution_count": 176,
   "metadata": {},
   "outputs": [
    {
     "data": {
      "text/plain": [
       "[]"
      ]
     },
     "execution_count": 176,
     "metadata": {},
     "output_type": "execute_result"
    },
    {
     "data": {
      "image/png": "[encoded data removed]",
      "text/plain": [
       "<Figure size 640x480 with 1 Axes>"
      ]
     },
     "metadata": {},
     "output_type": "display_data"
    }
   ],
   "source": [
    "#As seen above there is no obvious pattern in this data, because outlier values of Fare makes it hard to explain the data.\n",
    "#So we will detect outliers in Fare and drop them from our sub df.\n",
    "#To detect outliers, we will use boxplot.\n",
    "\n",
    "fx=sns.boxplot(data=df_age_fare)\n",
    "fx.set_yticks(np.arange(0,np.max(df_age_fare['Fare']),20))\n",
    "fx.plot()"
   ]
  },
  {
   "cell_type": "code",
   "execution_count": 177,
   "metadata": {},
   "outputs": [],
   "source": [
    "#We can see that above 100 , Fare values are outliers.\n",
    "#We will drop every instance in our subgraph which has Fare>=80.\n",
    "df_age_fare=df_age_fare.loc[df_age_fare['Fare']<=80]"
   ]
  },
  {
   "cell_type": "code",
   "execution_count": 178,
   "metadata": {},
   "outputs": [
    {
     "data": {
      "image/png": "[encoded data removed]",
      "text/plain": [
       "<Figure size 640x480 with 1 Axes>"
      ]
     },
     "metadata": {},
     "output_type": "display_data"
    }
   ],
   "source": [
    "fx=sns.boxplot(data=df_age_fare)\n",
    "fx.set_yticks(np.arange(0,np.max(df_age_fare['Fare']),5))\n",
    "fx.plot()\n",
    "\n",
    "#We can see that above 65 , Age values are outliers.\n",
    "#We will drop every instance in our subgraph which has Age>=65.\n",
    "df_age_fare=df_age_fare.loc[df_age_fare['Age']<=65]"
   ]
  },
  {
   "cell_type": "code",
   "execution_count": 179,
   "metadata": {},
   "outputs": [
    {
     "data": {
      "text/plain": [
       "<AxesSubplot: xlabel='Age', ylabel='Fare'>"
      ]
     },
     "execution_count": 179,
     "metadata": {},
     "output_type": "execute_result"
    },
    {
     "data": {
      "image/png": "[encoded data removed]",
      "text/plain": [
       "<Figure size 640x480 with 1 Axes>"
      ]
     },
     "metadata": {},
     "output_type": "display_data"
    }
   ],
   "source": [
    "# Plotting a regression plot for Age-Fare.\n",
    "sns.regplot(df_age_fare,x='Age',y='Fare',color='crimson')"
   ]
  },
  {
   "cell_type": "code",
   "execution_count": 180,
   "metadata": {},
   "outputs": [
    {
     "data": {
      "image/png": "[encoded data removed]",
      "text/plain": [
       "<Figure size 640x480 with 1 Axes>"
      ]
     },
     "metadata": {},
     "output_type": "display_data"
    }
   ],
   "source": [
    "# I have created a new feature which holds the age range of every passenger.\n",
    "# I have calculated mean Fare for every age bin.\n",
    "\n",
    "df_age_fare['Age Range']=pd.cut(df_age_fare['Age'],bins=bin_number,include_lowest=True).cat.codes\n",
    "plt.plot(df_age_fare.groupby('Age Range').mean()['Fare'],'bo--')\n",
    "plt.xlabel('Age Bin Index')\n",
    "plt.ylabel('Mean Fare')\n",
    "plt.xticks(rotation=90)\n",
    "plt.title('Mean Fare Values for Every Age Range')\n",
    "plt.show()"
   ]
  },
  {
   "cell_type": "code",
   "execution_count": 181,
   "metadata": {},
   "outputs": [
    {
     "name": "stdout",
     "output_type": "stream",
     "text": [
      "                Age      Fare  Age Range\n",
      "Age        1.000000  0.160594   0.998013\n",
      "Fare       0.160594  1.000000   0.162278\n",
      "Age Range  0.998013  0.162278   1.000000\n",
      " \n",
      "\n",
      "      After outlier dropping process ,we can see that the correlation has increased from 0.09 to 0.16.\n",
      "      However when I check the scatter plots and regression plots, I still can not observe a solid correlation. \n",
      "       \n"
     ]
    }
   ],
   "source": [
    "print(df_age_fare.corr())\n",
    "\n",
    "print(''' \n",
    "\n",
    "      After outlier dropping process ,we can see that the correlation has increased from 0.09 to 0.16.\n",
    "      However when I check the scatter plots and regression plots, I still can not observe a solid correlation. \n",
    "       ''')"
   ]
  },
  {
   "cell_type": "markdown",
   "metadata": {},
   "source": [
    "### Steps\n",
    "* First , I've checked if there exist any correlation between Fare - Age in the **raw** data.\n",
    "* I've checked the correlation matrix and couldn't find a correlation again.\n",
    "* Then , I've cleaned the data from **outliers**.\n",
    "* After these I couldn't find any observable correlation by plotting regplot,scatter plot etc.\n",
    "* I tried binning age feature and plotting the mean values for every bins. This graph was the easiest to read and comment, unfortunately I couldn't find a strong correlation again.\n",
    "* Lastly I've checked the correlation matrix of the data (which doesn't include outliers). The correlation between Fare-Age has increased but still this doesn't prove that they affect each other tightly.\n",
    "\n",
    "Finding : *There is no strong relation between Age - Fare features!*"
   ]
  },
  {
   "cell_type": "markdown",
   "metadata": {},
   "source": [
    "## Q5. Group the dataset by 'Embarked' and 'Pclass' and visualize the mean fare for each combination using a bar chart. Comment on the fare differences based on embarkation ports and classes.\n"
   ]
  },
  {
   "cell_type": "code",
   "execution_count": 182,
   "metadata": {},
   "outputs": [
    {
     "name": "stdout",
     "output_type": "stream",
     "text": [
      "Count of null values in feature Embarked :  2\n",
      "Count of na values in feature Embarked :   2\n",
      "Count of null values in feature Fare :  0\n",
      "Count of na values in feature Fare :   0\n",
      "Count of null values in feature Pclass :  0\n",
      "Count of na values in feature Pclass :   0\n"
     ]
    }
   ],
   "source": [
    "# Let's create a sub df that contains Embarked,Pclass and Fare values.\n",
    "df_epf=raw_data[['Embarked','Pclass','Fare']]\n",
    "\n",
    "print(\"Count of null values in feature Embarked : \",len(raw_data.loc[raw_data['Embarked'].isnull()]))\n",
    "print(\"Count of na values in feature Embarked :  \",len(raw_data.loc[raw_data['Embarked'].isna()]))\n",
    "print(\"Count of null values in feature Fare : \",len(raw_data.loc[raw_data['Fare'].isnull()]))\n",
    "print(\"Count of na values in feature Fare :  \",len(raw_data.loc[raw_data['Fare'].isna()]))\n",
    "print(\"Count of null values in feature Pclass : \",len(raw_data.loc[raw_data['Pclass'].isnull()]))\n",
    "print(\"Count of na values in feature Pclass :  \",len(raw_data.loc[raw_data['Pclass'].isna()]))\n"
   ]
  },
  {
   "cell_type": "code",
   "execution_count": 186,
   "metadata": {},
   "outputs": [
    {
     "data": {
      "text/html": [
       "<div>\n",
       "<style scoped>\n",
       "    .dataframe tbody tr th:only-of-type {\n",
       "        vertical-align: middle;\n",
       "    }\n",
       "\n",
       "    .dataframe tbody tr th {\n",
       "        vertical-align: top;\n",
       "    }\n",
       "\n",
       "    .dataframe thead th {\n",
       "        text-align: right;\n",
       "    }\n",
       "</style>\n",
       "<table border=\"1\" class=\"dataframe\">\n",
       "  <thead>\n",
       "    <tr style=\"text-align: right;\">\n",
       "      <th></th>\n",
       "      <th>Embarked</th>\n",
       "      <th>Pclass</th>\n",
       "      <th>Fare</th>\n",
       "    </tr>\n",
       "  </thead>\n",
       "  <tbody>\n",
       "    <tr>\n",
       "      <th>0</th>\n",
       "      <td>S</td>\n",
       "      <td>3</td>\n",
       "      <td>7.2500</td>\n",
       "    </tr>\n",
       "    <tr>\n",
       "      <th>1</th>\n",
       "      <td>C</td>\n",
       "      <td>1</td>\n",
       "      <td>71.2833</td>\n",
       "    </tr>\n",
       "    <tr>\n",
       "      <th>2</th>\n",
       "      <td>S</td>\n",
       "      <td>3</td>\n",
       "      <td>7.9250</td>\n",
       "    </tr>\n",
       "    <tr>\n",
       "      <th>3</th>\n",
       "      <td>S</td>\n",
       "      <td>1</td>\n",
       "      <td>53.1000</td>\n",
       "    </tr>\n",
       "    <tr>\n",
       "      <th>4</th>\n",
       "      <td>S</td>\n",
       "      <td>3</td>\n",
       "      <td>8.0500</td>\n",
       "    </tr>\n",
       "  </tbody>\n",
       "</table>\n",
       "</div>"
      ],
      "text/plain": [
       "  Embarked  Pclass     Fare\n",
       "0        S       3   7.2500\n",
       "1        C       1  71.2833\n",
       "2        S       3   7.9250\n",
       "3        S       1  53.1000\n",
       "4        S       3   8.0500"
      ]
     },
     "execution_count": 186,
     "metadata": {},
     "output_type": "execute_result"
    }
   ],
   "source": [
    "#Dropping entries which has null values in the Embarked feature. (Count:2)\n",
    "df_epf = df_epf.loc[df_epf['Embarked'].notnull()]\n",
    "df_epf.head()"
   ]
  },
  {
   "cell_type": "code",
   "execution_count": 189,
   "metadata": {},
   "outputs": [
    {
     "data": {
      "text/html": [
       "<div>\n",
       "<style scoped>\n",
       "    .dataframe tbody tr th:only-of-type {\n",
       "        vertical-align: middle;\n",
       "    }\n",
       "\n",
       "    .dataframe tbody tr th {\n",
       "        vertical-align: top;\n",
       "    }\n",
       "\n",
       "    .dataframe thead th {\n",
       "        text-align: right;\n",
       "    }\n",
       "</style>\n",
       "<table border=\"1\" class=\"dataframe\">\n",
       "  <thead>\n",
       "    <tr style=\"text-align: right;\">\n",
       "      <th></th>\n",
       "      <th></th>\n",
       "      <th>Fare</th>\n",
       "    </tr>\n",
       "    <tr>\n",
       "      <th>Embarked</th>\n",
       "      <th>Pclass</th>\n",
       "      <th></th>\n",
       "    </tr>\n",
       "  </thead>\n",
       "  <tbody>\n",
       "    <tr>\n",
       "      <th rowspan=\"3\" valign=\"top\">C</th>\n",
       "      <th>1</th>\n",
       "      <td>104.718529</td>\n",
       "    </tr>\n",
       "    <tr>\n",
       "      <th>2</th>\n",
       "      <td>25.358335</td>\n",
       "    </tr>\n",
       "    <tr>\n",
       "      <th>3</th>\n",
       "      <td>11.214083</td>\n",
       "    </tr>\n",
       "    <tr>\n",
       "      <th rowspan=\"3\" valign=\"top\">Q</th>\n",
       "      <th>1</th>\n",
       "      <td>90.000000</td>\n",
       "    </tr>\n",
       "    <tr>\n",
       "      <th>2</th>\n",
       "      <td>12.350000</td>\n",
       "    </tr>\n",
       "    <tr>\n",
       "      <th>3</th>\n",
       "      <td>11.183393</td>\n",
       "    </tr>\n",
       "    <tr>\n",
       "      <th rowspan=\"3\" valign=\"top\">S</th>\n",
       "      <th>1</th>\n",
       "      <td>70.364862</td>\n",
       "    </tr>\n",
       "    <tr>\n",
       "      <th>2</th>\n",
       "      <td>20.327439</td>\n",
       "    </tr>\n",
       "    <tr>\n",
       "      <th>3</th>\n",
       "      <td>14.644083</td>\n",
       "    </tr>\n",
       "  </tbody>\n",
       "</table>\n",
       "</div>"
      ],
      "text/plain": [
       "                       Fare\n",
       "Embarked Pclass            \n",
       "C        1       104.718529\n",
       "         2        25.358335\n",
       "         3        11.214083\n",
       "Q        1        90.000000\n",
       "         2        12.350000\n",
       "         3        11.183393\n",
       "S        1        70.364862\n",
       "         2        20.327439\n",
       "         3        14.644083"
      ]
     },
     "execution_count": 189,
     "metadata": {},
     "output_type": "execute_result"
    }
   ],
   "source": [
    "# Grouping the df by Embarked and Pclass , using the aggregate function mean()\n",
    "df_epf_grouped=df_epf.groupby(by=['Embarked','Pclass'],sort=True).mean()\n",
    "df_epf_grouped"
   ]
  },
  {
   "cell_type": "code",
   "execution_count": 196,
   "metadata": {},
   "outputs": [
    {
     "data": {
      "text/plain": [
       "array([<AxesSubplot: title={'center': 'Fare'}, xlabel='Embarked,Pclass'>],\n",
       "      dtype=object)"
      ]
     },
     "execution_count": 196,
     "metadata": {},
     "output_type": "execute_result"
    },
    {
     "data": {
      "image/png": "[encoded data removed]",
      "text/plain": [
       "<Figure size 640x480 with 1 Axes>"
      ]
     },
     "metadata": {},
     "output_type": "display_data"
    }
   ],
   "source": [
    "df_epf_grouped.plot(kind=\"bar\",colormap=\"plasma\",subplots=True)"
   ]
  },
  {
   "cell_type": "markdown",
   "metadata": {},
   "source": [
    "### Findings\n",
    "* When we look at the bar plot above , we can conclude that there is a negative correlation between Pclass-Fare.\n",
    "* We can not say the same thing with Embarked-Fare.\n",
    "* The most efficient way to buy tickets for every Pclass is :\n",
    "1. Pclass=1 -> Embarked=S\n",
    "2. Pclass=2 -> Embarked=Q\n",
    "3. Pclass=3 -> Embarked=Q"
   ]
  },
  {
   "cell_type": "markdown",
   "metadata": {},
   "source": [
    "# PLAGIARISM POLICY\n",
    "\n",
    "In the interest of maintaining a fair and honest academic environment, this course strictly adheres to a zero-tolerance policy regarding plagiarism. \n",
    "Accordingly, all assignments must reflect individual effort and understanding. While abstract discussions with peers about concepts are encouraged, sharing or copying specific solutions, code, or pseudocode is not permitted and will be treated as plagiarism. This policy includes work sourced from the internet, publications, and AI tools like ChatGPT and GitHub Copilot. **USE THEM RESPONSIBLY**. For example, you can utilize them to enhance understanding and support your original work, not to replace it. Submitting work that is not entirely your own creation will be regarded as a violation of academic integrity. It is vital to use all resources, including AI, in a manner that supports your educational development without compromising the principles of academic honesty. \n",
    "\n",
    "If in doubt, do not hesitate to seek guidance from the course staff - we are here to help, with an aim to foster a learning environment based on trust, respect, and responsibility.\n"
   ]
  },
  {
   "cell_type": "markdown",
   "metadata": {},
   "source": [
    "# REFERENCES\n",
    "[1] Kaggle. (2023). Titanic: Machine Learning from Disaster [Data set]. Kaggle Inc. https://www.kaggle.com/c/titanic/data"
   ]
  },
  {
   "cell_type": "markdown",
   "metadata": {},
   "source": [
    "# ACKNOWLEDGMENTS\n",
    "\n",
    "• The design and development of this homework have been assisted by AI tools, with a special mention to ChatGPT for its assistance in conceptualizing the assignment and refining the wording. \n"
   ]
  }
 ],
 "metadata": {
  "kernelspec": {
   "display_name": "Python 3",
   "language": "python",
   "name": "python3"
  },
  "language_info": {
   "codemirror_mode": {
    "name": "ipython",
    "version": 3
   },
   "file_extension": ".py",
   "mimetype": "text/x-python",
   "name": "python",
   "nbconvert_exporter": "python",
   "pygments_lexer": "ipython3",
   "version": "3.10.11"
  }
 },
 "nbformat": 4,
 "nbformat_minor": 2
}
